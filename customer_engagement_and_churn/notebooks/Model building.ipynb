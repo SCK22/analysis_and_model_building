{
 "cells": [
  {
   "cell_type": "markdown",
   "metadata": {
    "toc": true
   },
   "source": [
    "<h1>Table of Contents<span class=\"tocSkip\"></span></h1>\n",
    "<div class=\"toc\"><ul class=\"toc-item\"><li><span><a href=\"#Load-master-table\" data-toc-modified-id=\"Load-master-table-1\"><span class=\"toc-item-num\">1&nbsp;&nbsp;</span>Load master table</a></span></li><li><span><a href=\"#Select-columns\" data-toc-modified-id=\"Select-columns-2\"><span class=\"toc-item-num\">2&nbsp;&nbsp;</span>Select columns</a></span></li><li><span><a href=\"#Convert-the-pandas-dataframe-to-my-helper-function-object\" data-toc-modified-id=\"Convert-the-pandas-dataframe-to-my-helper-function-object-3\"><span class=\"toc-item-num\">3&nbsp;&nbsp;</span>Convert the pandas dataframe to my helper function object</a></span><ul class=\"toc-item\"><li><span><a href=\"#Set-the-target-variable\" data-toc-modified-id=\"Set-the-target-variable-3.1\"><span class=\"toc-item-num\">3.1&nbsp;&nbsp;</span>Set the target variable</a></span></li><li><span><a href=\"#We-can-also-track-the-actions-performed\" data-toc-modified-id=\"We-can-also-track-the-actions-performed-3.2\"><span class=\"toc-item-num\">3.2&nbsp;&nbsp;</span>We can also track the actions performed</a></span></li><li><span><a href=\"#Check-the-na-values\" data-toc-modified-id=\"Check-the-na-values-3.3\"><span class=\"toc-item-num\">3.3&nbsp;&nbsp;</span>Check the na values</a></span></li></ul></li><li><span><a href=\"#Models\" data-toc-modified-id=\"Models-4\"><span class=\"toc-item-num\">4&nbsp;&nbsp;</span>Models</a></span><ul class=\"toc-item\"><li><span><a href=\"#Logistic-regression-model\" data-toc-modified-id=\"Logistic-regression-model-4.1\"><span class=\"toc-item-num\">4.1&nbsp;&nbsp;</span>Logistic regression model</a></span><ul class=\"toc-item\"><li><span><a href=\"#Model-results\" data-toc-modified-id=\"Model-results-4.1.1\"><span class=\"toc-item-num\">4.1.1&nbsp;&nbsp;</span>Model results</a></span></li><li><span><a href=\"#Taking-a-look-at-the-train-dataset-used\" data-toc-modified-id=\"Taking-a-look-at-the-train-dataset-used-4.1.2\"><span class=\"toc-item-num\">4.1.2&nbsp;&nbsp;</span>Taking a look at the train dataset used</a></span></li></ul></li><li><span><a href=\"#Decision-tree\" data-toc-modified-id=\"Decision-tree-4.2\"><span class=\"toc-item-num\">4.2&nbsp;&nbsp;</span>Decision tree</a></span><ul class=\"toc-item\"><li><span><a href=\"#Model-Performance\" data-toc-modified-id=\"Model-Performance-4.2.1\"><span class=\"toc-item-num\">4.2.1&nbsp;&nbsp;</span>Model Performance</a></span></li></ul></li><li><span><a href=\"#SVM-model\" data-toc-modified-id=\"SVM-model-4.3\"><span class=\"toc-item-num\">4.3&nbsp;&nbsp;</span>SVM model</a></span><ul class=\"toc-item\"><li><span><a href=\"#Model-performance\" data-toc-modified-id=\"Model-performance-4.3.1\"><span class=\"toc-item-num\">4.3.1&nbsp;&nbsp;</span>Model performance</a></span></li></ul></li><li><span><a href=\"#Random-Forest\" data-toc-modified-id=\"Random-Forest-4.4\"><span class=\"toc-item-num\">4.4&nbsp;&nbsp;</span>Random Forest</a></span><ul class=\"toc-item\"><li><span><a href=\"#Model-performance\" data-toc-modified-id=\"Model-performance-4.4.1\"><span class=\"toc-item-num\">4.4.1&nbsp;&nbsp;</span>Model performance</a></span></li><li><span><a href=\"#Extracting-feature-importances\" data-toc-modified-id=\"Extracting-feature-importances-4.4.2\"><span class=\"toc-item-num\">4.4.2&nbsp;&nbsp;</span>Extracting feature importances</a></span></li></ul></li><li><span><a href=\"#Random-forest-randomized-search\" data-toc-modified-id=\"Random-forest-randomized-search-4.5\"><span class=\"toc-item-num\">4.5&nbsp;&nbsp;</span>Random forest randomized search</a></span><ul class=\"toc-item\"><li><span><a href=\"#Best-estimator-from-the-random-search\" data-toc-modified-id=\"Best-estimator-from-the-random-search-4.5.1\"><span class=\"toc-item-num\">4.5.1&nbsp;&nbsp;</span>Best estimator from the random search</a></span></li><li><span><a href=\"#Best-estimator-performance\" data-toc-modified-id=\"Best-estimator-performance-4.5.2\"><span class=\"toc-item-num\">4.5.2&nbsp;&nbsp;</span>Best estimator performance</a></span></li><li><span><a href=\"#Model-performance-after-grid-search\" data-toc-modified-id=\"Model-performance-after-grid-search-4.5.3\"><span class=\"toc-item-num\">4.5.3&nbsp;&nbsp;</span>Model performance after grid search</a></span></li></ul></li></ul></li></ul></div>"
   ]
  },
  {
   "cell_type": "markdown",
   "metadata": {},
   "source": [
    "The following code has been taken from my github repo https://github.com/SCK22/HelperFunctions/blob/development/ML/HelperFunctionsMLClass.py"
   ]
  },
  {
   "cell_type": "code",
   "execution_count": 1,
   "metadata": {},
   "outputs": [],
   "source": [
    "\t\"\"\"Helper functions for Machine Learning\"\"\"\n",
    "\timport numpy as np\n",
    "\timport pandas as pd\n",
    "\tfrom sklearn.model_selection import train_test_split\n",
    "\tfrom sklearn.tree import DecisionTreeClassifier\n",
    "\tfrom sklearn.linear_model import LogisticRegression\n",
    "\tfrom sklearn.impute import SimpleImputer\n",
    "\tfrom sklearn.preprocessing import StandardScaler\n",
    "\tfrom sklearn.preprocessing import OneHotEncoder\n",
    "\tfrom sklearn.pipeline import Pipeline\n",
    "\tfrom sklearn.compose import ColumnTransformer\n",
    "\tfrom sklearn.metrics import accuracy_score, recall_score, f1_score\n",
    "\n",
    "\tclass HelperFunctionsML:\n",
    "\t\t\"\"\"Helper functions for Machine Learning and EDA\"\"\"\n",
    "\n",
    "\t\tdef __init__(self, dataset):\n",
    "\t\t\t\"\"\"Helper Functions to do ML\"\"\"\n",
    "\t\t\tself.dataset = dataset\n",
    "\t\t\tself.target = None\n",
    "\t\t\tself.col_names = self.dataset.columns\n",
    "\t\t\tself.cat_num_extracted = False\n",
    "\t\t\tself.dummies = False\n",
    "\t\t\tself.nrows = dataset.shape[0]\n",
    "\t\t\tself.ncols = dataset.shape[1]\n",
    "\t\t\tself.actions_performed = {}\n",
    "\t\t\tself.model_columns = []\n",
    "\t\t\tself.model = None\n",
    "\n",
    "\t\tdef update_actions_performed(self, dict_key, attributes = {}, needed_for_test = False):\n",
    "\t\t\tself.actions_performed[dict_key] = {\"attributes\" : attributes, \"needed_for_test\" : needed_for_test }\n",
    "\t\t# setter methods\n",
    "\t\t\n",
    "\t\tdef set_target(self, col_name):\n",
    "\t\t\tself.target = col_name\n",
    "\t\t\tself.update_actions_performed(\"set_target\", attributes =  {\"col_name\" : col_name})\n",
    "\t\t\treturn \"Succesfully set target column!\"\n",
    "\t\t\n",
    "\t\tdef set_pos_label(self, level_name):\n",
    "\t\t\tself.pos_label = level_name\n",
    "\t\t\tself.update_actions_performed(\"set_pos_label\", attributes =  {\"level_name\" : level_name})\n",
    "\t\t\treturn \"Succesfully set pos_label!\"\n",
    "\t\t\n",
    "\t\tdef test(self, col_name):\n",
    "\t\t\ttemp = getattr(self, \"set_target\")(col_name)\n",
    "\t\t\t# print(\"getattr(self.set_target)(col_name) : {}\".format(temp))\n",
    "\n",
    "\t\tdef set_X_train(self, X_train):\n",
    "\t\t\tself.X_train = X_train\n",
    "\t\t\tself.update_actions_performed(\"set_X_train\", attributes =  {\"X_train\" : X_train})\n",
    "\t\t\n",
    "\t\tdef set_X_validation(self, X_validation):\n",
    "\t\t\tself.X_validation = X_validation\n",
    "\t\t\tself.update_actions_performed(\"set_X_validation\", attributes =   {\"X_validation\" : X_validation})\n",
    "\n",
    "\t\tdef set_y_train(self, y_train):\n",
    "\t\t\tself.y_train = y_train\n",
    "\t\t\tself.update_actions_performed(\"set_y_train\", attributes =  {\"y_train\" : y_train})\n",
    "\t\t\n",
    "\t\tdef set_y_validation(self, y_validation):\n",
    "\t\t\tself.y_validation = y_validation\n",
    "\t\t\tself.update_actions_performed(\"set_y_validation\", attributes =  {\"y_validation\" : y_validation})\n",
    "\n",
    "\t\tdef check_has_na_values(self):\n",
    "\t\t\thas_na_values = True if np.sum(self.dataset.isnull().sum())>0 else False\n",
    "\t\t\tself.has_na_values = has_na_values\n",
    "\t\t\tself.update_actions_performed(\"check_has_na_values\")\n",
    "\t\t\tif self.has_na_values:\n",
    "\t\t\t\tprint(self.dataset.isnull().sum())\n",
    "\t\t\telse:\n",
    "\t\t\t\tprint(\"No Null values in the dataset.\")\n",
    "\t\t\treturn has_na_values\n",
    "\t\t\n",
    "\t\t# @staticmethod\n",
    "\t\tdef cat_num_extract(self):\n",
    "\t\t\tf_name = \"cat_num_extract\"\n",
    "\t\t\t\"\"\"This function returns the names of the Categorical and Nmeric attributes in the same order.\"\"\"\n",
    "\t\t\tself.cat_cols = [i for i in self.dataset.columns if self.dataset[i].dtype in ['O', 'object'] and i != self.target]\n",
    "\t\t\tself.num_cols = [i for i in self.dataset.columns if (i not in self.cat_cols) and i != self.target]\n",
    "\t\t\tself.cat_num_extracted = True\n",
    "\t\t\tself.update_actions_performed(f_name)\n",
    "\t\t\treturn {\"cat_cols\" : self.cat_cols, \"num_cols\": self.num_cols}\n",
    "\t\t\n",
    "\t\tdef extend_cat_cols(self, new_cols = []):\n",
    "\t\t\t# if not self.cat_num_extracted:\n",
    "\t\t\t# \tprint(\"Running cat_num_extract\")\n",
    "\t\t\t# \tself.cat_num_extract()\n",
    "\t\t\tself.cat_cols.extend(new_cols)\n",
    "\n",
    "\t\tdef get_num_cols(self):\n",
    "\t\t\treturn len(self.num_cols)\n",
    "\t\tdef get_cat_cols(self):\n",
    "\t\t\treturn len(self.cat_cols)\n",
    "\t\tdef extend_num_cols(self, new_cols = []):\n",
    "\t\t\t# if not self.cat_num_extracted:\n",
    "\t\t\t# \tprint(\"Running cat_num_extract\")\n",
    "\t\t\t# \tself.cat_num_extract()\n",
    "\t\t\tself.cat_cols.extend(new_cols)\n",
    "\t\t\t\n",
    "\t\t@staticmethod\n",
    "\t\tdef list_of_na_cols(dataset, per=0.3):\n",
    "\t\t\t\"\"\"This function will return the columns with na values\"\"\"\n",
    "\t\t\tna_cols = dataset.isnull().sum()[dataset.isnull().sum() > per]\n",
    "\t\t\treturn list(na_cols.index)\n",
    "\n",
    "\t\tdef get_mode(self, x):\n",
    "\t\t\tvalues, counts = np.unique(x.dropna(), return_counts=True)\n",
    "\t\t\tm = counts.argmax()\n",
    "\t\t\treturn values[m]\n",
    "\t\t\n",
    "\t\tdef numeric_pipeline(self,strategy = \"median\"):\n",
    "\t\t\tnumeric_transformer = Pipeline(steps=[\n",
    "\t\t\t('imputer', SimpleImputer(strategy=strategy)),\n",
    "\t\t\t('scaler', StandardScaler())])\n",
    "\t\t\tself.numeric_transformer = numeric_transformer\n",
    "\n",
    "\t\tdef categorical_pipeline(self,strategy = \"most_frequent\"):\n",
    "\t\t\tcategorical_transformer = Pipeline(steps=[\n",
    "\t\t\t('imputer', SimpleImputer(strategy=strategy,fill_value=\"missing_value\")),\n",
    "\t\t\t('onehot', OneHotEncoder(handle_unknown='ignore'))])\n",
    "\t\t\tself.categorical_transformer = categorical_transformer\n",
    "\n",
    "\t\tdef set_pipeline(self):\n",
    "\t\t\tself.preprocessor  = ColumnTransformer(\n",
    "\t\t\ttransformers=[\n",
    "\t\t\t('num', self.numeric_transformer\t, self.num_cols),\n",
    "\t\t\t('cat', self.categorical_transformer, self.cat_cols)])\n",
    "\t\t\n",
    "\t\tdef set_imputer_numeric(self, strategy = \"median\"):\n",
    "\t\t\tself.imputer_numeric = SimpleImputer(strategy = strategy)\n",
    "\t\t\tself.actions_performed[\"set_imputer_numeric\"] = {\"attributes\" : {\"strategy\" : \"median\"}}\n",
    "\n",
    "\t\tdef set_imputer_categorical(self, strategy = \"most_frequent\"):\n",
    "\t\t\tself.imputer_categorical = SimpleImputer(strategy = strategy)\n",
    "\t\t\tself.actions_performed[\"imputer_categorical\"] = {\"attributes\" : {\"strategy\" : \"most_frequent\"}}\n",
    "\t\t\n",
    "\t\tdef train_imputer_numeric(self):\n",
    "\t\t\tself.imputer_numeric.fit(self.dataset.loc[:,self.num_cols])\n",
    "\t\t\tself.update_actions_performed(\"train_imputer_numeric\")\n",
    "\t\t\n",
    "\t\tdef train_imputer_categorical(self):\n",
    "\t\t\tself.imputer_categorical.fit(self.dataset.loc[:,self.cat_cols])\n",
    "\t\t\tself.update_actions_performed(\"train_imputer_categorical\")\n",
    "\n",
    "\t\tdef impute_numeric_cols(self,test_dataset= None, return_frames = False):\n",
    "\t\t\t\"\"\"This function replaces the na values with the colum mean or median ,  based on the selection.\n",
    "\t\t\tThis function might not be needed anymore as sklearn .22 has KNN imputation which I would prefer to use.\"\"\"\n",
    "\t\t\tf_name = \"impute_numeric_cols\"\n",
    "\t\t\tnum_cols = self.num_cols\n",
    "\t\t\tprint(\"num_cols : {}\".format(num_cols))\n",
    "\t\t\tif test_dataset is not None:\n",
    "\t\t\t\treturn self.imputer_numeric.transform(test_dataset.loc[:,num_cols])\n",
    "\t\t\telse:\n",
    "\t\t\t\tself.dataset.loc[:,num_cols] = self.imputer_numeric.transform(self.dataset.loc[:,num_cols])\n",
    "\t\t\tself.update_actions_performed(dict_key = f_name, needed_for_test = True)\n",
    "\t\t\tif return_frames:\n",
    "\t\t\t\treturn self.dataset\n",
    "\t\t\n",
    "\t\tdef impute_categorical_cols(self,test_dataset= None, return_frames = False):\n",
    "\t\t\tf_name = \"impute_categorical_cols\"\n",
    "\t\t\tprint(\"cat_cols : {}\".format(self.cat_cols))\n",
    "\t\t\tif test_dataset is not None:\n",
    "\t\t\t\treturn self.imputer_categorical.transform(test_dataset.loc[:,self.cat_cols])\n",
    "\t\t\telse:\n",
    "\t\t\t\tself.dataset.loc[:,self.cat_cols] = self.imputer_categorical.transform(self.dataset.loc[:,self.cat_cols])\n",
    "\t\t\tself.update_actions_performed(dict_key = f_name, needed_for_test = True)\n",
    "\t\t\tif return_frames:\n",
    "\t\t\t\treturn self.dataset\n",
    "\n",
    "\t\tdef create_dummy_data_frame(self, categorical_attributes = None, return_frames = False):\n",
    "\t\t\t\"\"\"This function returns a dataframe of dummified colums Pass the dataset and the column names.\"\"\"\n",
    "\t\t\tif categorical_attributes is None:\n",
    "\t\t\t\tcategorical_attributes = self.cat_cols\n",
    "\t\t\t\tprint(\"cat_cols : {}\".format(categorical_attributes))\n",
    "\t\t\tif categorical_attributes:\n",
    "\t\t\t\tdummy_df =pd.get_dummies(self.dataset.loc[:,categorical_attributes]) \n",
    "\t\t\t\tself.catergorical_dummies = dummy_df\n",
    "\t\t\t\tself.update_actions_performed(dict_key = \"create_dummy_data_frame\", attributes = {\"columns_present\" : list(dummy_df.columns)}, needed_for_test = True)\n",
    "\t\t\t\tself.dummies = True\n",
    "\t\t\t\tif return_frames:\n",
    "\t\t\t\t\treturn dummy_df\n",
    "\t\t\telse:\n",
    "\t\t\t\tself.dummies = False\n",
    "\t\t\t\tif return_frames:\n",
    "\t\t\t\t\treturn self.dataset\n",
    "\n",
    "\t\tdef set_target_type(self, col_type):\n",
    "\t\t\tif self.target is not None:\n",
    "\t\t\t\tself.dataset.loc[:, [self.target]] = self.dataset.loc[:, [self.target]].astype(col_type)\n",
    "\t\t\telse:\n",
    "\t\t\t\tprint(\"target not set, call the function set_target with the name of the target column\")\n",
    "\t\t\n",
    "\t\t# def create_data_for_model(self):\n",
    "\t\t# \tif self.dummies:\n",
    "\t\t# \t\tself.model_data = pd.concat([self.dataset.loc[:, self.num_cols], self.catergorical_dummies, self.dataset.loc[:, self.target]], axis = 1)\n",
    "\t\t# \telse:\n",
    "\t\t# \t\tself.model_data = self.dataset\n",
    "\t\t\n",
    "\t\tdef create_train_test_split(self,cat_cols, num_cols, validation_size = 0.3, random_state= 42, return_frames= False):\n",
    "\t\t\t# self.create_data_for_model()\n",
    "\t\t\tself.model_data = self.dataset\n",
    "\t\t\tif self.target is not None:\n",
    "\t\t\t\tcols_for_models= []\n",
    "\t\t\t\tcols_for_models.extend(num_cols)\n",
    "\t\t\t\tcols_for_models.extend(cat_cols)\n",
    "\t\t\t\tcols_for_models = list(set(cols_for_models))\n",
    "\t\t\t\tself.cols_for_models = cols_for_models\n",
    "\t\t\t\tX = self.dataset.loc[:, [i for i in self.dataset.columns if i in cols_for_models]]\n",
    "\t\t\t\ty = self.model_data.loc[:, [self.target]]\n",
    "\t\t\t\tX_train, X_validation, y_train, y_validation = train_test_split(X, y, test_size = validation_size, random_state= random_state) \n",
    "\t\t\t\tself.X_train = X_train\n",
    "\t\t\t\tself.X_validation = X_validation\n",
    "\t\t\t\tself.y_train  = y_train\n",
    "\t\t\t\tself.y_validation = y_validation\n",
    "\t\t\t\tself.nrowstrain, self.ncolstrain = X_train.shape\n",
    "\t\t\t\tself.nrowvalidation, self.ncolsvalidation = X_validation.shape\n",
    "\t\t\telse:\n",
    "\t\t\t\tprint(\"target not set, call the function set_target with the name of the target column\")\n",
    "\t\t\tif return_frames:\n",
    "\t\t\t\treturn X_train, X_validation, y_train, y_validation\n",
    "\n",
    "\t\tdef compute_mertics(self, preds, trues):\n",
    "\t\t\t\"\"\"Compute various metrics\"\"\"\n",
    "\t\t\ttry:\n",
    "\t\t\t\tacc = accuracy_score(y_pred=preds, y_true=trues)  # Accuracy for the passed set\n",
    "\t\t\texcept: \n",
    "\t\t\t\tacc = None\n",
    "\t\t\ttry:\n",
    "\t\t\t\tprec = precision_score(y_pred=preds, y_true=trues, average='macro',pos_label = self.pos_label)  # precision for the passed set\n",
    "\t\t\texcept: \n",
    "\t\t\t\tprec = None\n",
    "\t\t\ttry:\n",
    "\t\t\t\trec = recall_score(y_pred=preds, y_true=trues, average='macro',pos_label = self.pos_label)  # recall for the passed set\n",
    "\t\t\texcept:\n",
    "\t\t\t\trec = None\n",
    "\t\t\ttry:\n",
    "\t\t\t\tf1 = f1_score(y_pred=preds, y_true=trues, pos_label = self.pos_label)  # precision for the passed set\n",
    "\t\t\texcept: \n",
    "\t\t\t\tf1 = None\n",
    "\n",
    "\t\t\tmodel_performance = {}\n",
    "\t\t\tmodel_performance[\"precision\"] = prec\n",
    "\t\t\tmodel_performance[\"f1_score\"] = f1\n",
    "\t\t\tmodel_performance[\"recall\"] = rec\n",
    "\t\t\tmodel_performance[\"accuracy\"] = acc\n",
    "\t\t\treturn model_performance\t\n",
    "\t\t\n",
    "\t\tdef apply_model_predict_validate(self, model_obj, model_name = None, feature_names= None):\n",
    "\t\t\t\"\"\"This function\n",
    "\t\t\t1.Applies the specified model to the train data.\n",
    "\t\t\t2.Validates on the validation set.\n",
    "\t\t\t3.Predicts on the test dataset\n",
    "\t\t\t4.Returns the predictions along with some scores.\n",
    "\t\t\t\"\"\"\n",
    "\t\t\t# if feature_names is None:\n",
    "\t\t\t# \tfeature_names = []\n",
    "\t\t\t# \tfeature_names = self.num_cols\n",
    "\t\t\t# \tfeature_names.extend(self.cat_cols)\n",
    "\t\t\t# \tprint(\"feature_names\", feature_names)\n",
    "\t\t\t# \tif self.cat_num_extracted == False:\n",
    "\t\t\t# \t\tself.cat_num_extract()\n",
    "\t\t\t# \tself.model_columns.extend(self.cat_cols)\n",
    "\t\t\t# \tself.model_columns.extend(self.num_cols)\n",
    "\t\t\t# \tfeature_names = self.model_columns\n",
    "\t\t\t# print(\"Using {} columns for model building\".format(feature_names))\n",
    "\t\t\t# fit the model\n",
    "\t\t\t# self.create_train_test_split()\n",
    "\t\t\tself.numeric_pipeline()\n",
    "\t\t\tself.categorical_pipeline()\n",
    "\t\t\tself.set_pipeline()\n",
    "\t\t\tmodel_obj = Pipeline(steps=[('preprocessor', self.preprocessor),('classifier', model_obj)])\n",
    "\t\t\tself.model = model_obj\n",
    "\t\t\tself.model.fit(self.X_train, self.y_train)\n",
    "\t\t\t# evaluation metrics\n",
    "\t\t\tpred_train = self.model.predict(self.X_train)  # predict on the validation set \n",
    "\t\t\t# self.pred_train = pred_train\n",
    "\t\t\tpred_val = self.model.predict(self.X_validation)  # predict on the validation set\n",
    "\t\t\t# self.pred_val = pred_val\n",
    "\t\t\tperformance = {}\n",
    "\t\t\tperformance[\"train\"] = self.compute_mertics(pred_train, self.y_train)\n",
    "\t\t\tperformance[\"validation\"] = self.compute_mertics(pred_val, self.y_validation)\n",
    "\t\t\tif model_name is None:\n",
    "\t\t\t\ttry:\n",
    "\t\t\t\t\tif \"sklearn\" in type(self.model).__module__:\n",
    "\t\t\t\t\t\tperformance[\"model_obj\"] = type(self.model).__name__\n",
    "\t\t\t\texcept:\n",
    "\t\t\t\t\tperformance[\"model_obj\"] = self.model\n",
    "\t\t\telse:\n",
    "\t\t\t\tperformance[\"model_obj\"] = model_name\n",
    "\t\t\t# print(\"model_performance : {}\".format(model_performance))\t\n",
    "\t\t\t# print(pd.DataFrame(performance))\n",
    "\t\t\t\n",
    "\t\t\treturn [pred_train,pred_val, performance]\n",
    "\n",
    "\t\tdef apply_log_reg(self, feature_names = None):\n",
    "\t\t\t\"\"\"apply basic logistic regression model\"\"\"\n",
    "\t\t\tmodel = LogisticRegression()\n",
    "\t\t\treturn self.apply_model_predict_validate(model, feature_names = feature_names)\n",
    "\n",
    "\t\tdef apply_dtree_class(self, feature_names = None):\n",
    "\t\t\t\"\"\"apply basic Decision tree classification model\"\"\"\n",
    "\t\t\tmodel = DecisionTreeClassifier()\n",
    "\t\t\treturn self.apply_model_predict_validate(model, feature_names = feature_names)\n",
    "\n",
    "\t\tdef compare_model_performance(self, model_objs_list = [], model_names_list = [], feature_names = None):\n",
    "\t\t\t\"\"\"pass a list of model objects, this function will apply all the models and return a dataframe with the performance \n",
    "\t\t\tmeasures\n",
    "\t\t\tInput : list of model objects\n",
    "\t\t\t\t\tlist of model names (optional)\n",
    "\t\t\t\t\tfeatures to be used for model building\n",
    "\t\t\t\"\"\"\n",
    "\t\t\tif len(model_objs_list) == 1:\n",
    "\t\t\t\treturn self.apply_model_predict_validate(model_objs_list[0], feature_names = feature_names)\n",
    "\t\t\tif len(model_objs_list) > 1:\n",
    "\t\t\t\tmodel_perf_list = []\n",
    "\t\t\t\tif model_names_list:\n",
    "\t\t\t\t\tfor model, name in zip(model_objs_list,model_names_list):\n",
    "\t\t\t\t\t\t_,_,model_perf = self.apply_model_predict_validate(model, model_name=name, feature_names = feature_names)\n",
    "\t\t\t\t\t\tmodel_perf_list.append(model_perf)\n",
    "\t\t\t\telse:\n",
    "\t\t\t\t\tfor model in model_objs_list:\n",
    "\t\t\t\t\t\t_,_,model_perf = self.apply_model_predict_validate(model, feature_names = feature_names)\n",
    "\t\t\t\t\t\tmodel_perf_list.append(model_perf)\n",
    "\t\t\tdf = pd.DataFrame(model_perf_list)\n",
    "\t\t\t# df = df.set_index(df[\"model_obj\"])\n",
    "\t\t\t# df.reset_index()\n",
    "\t\t\treturn df\n",
    "\n",
    "\t\t# Experimental\n",
    "\t\t# Replace values in an attribute with other values\n",
    "\t\tdef replace_attribute_values(self, target_attribute, originals, replace_with):\n",
    "\t\t\t\"\"\"Experimental:\n",
    "\t\t\tThis function takes a pandas series object and replaces the specified values with specified values.\"\"\"\n",
    "\t\t\tif len(originals) == len(replace_with):\n",
    "\t\t\t\tfor i in range(len(originals)):\n",
    "\t\t\t\t\tself.X_train[target_attribute].replace(originals[i], replace_with[i], inplace=True)\n",
    "\t\t\t\t\tself.X_validation[target_attribute].replace(originals[i], replace_with[i], inplace=True)\n",
    "\t\t\telif len(originals != len(replace_with)):\n",
    "\t\t\t\traise ValueError(\"replacement values do not match the size of originals\")\n",
    "\t\t\treturn \n"
   ]
  },
  {
   "cell_type": "code",
   "execution_count": 2,
   "metadata": {},
   "outputs": [
    {
     "data": {
      "text/html": [
       "        <script type=\"text/javascript\">\n",
       "        window.PlotlyConfig = {MathJaxConfig: 'local'};\n",
       "        if (window.MathJax) {MathJax.Hub.Config({SVG: {font: \"STIX-Web\"}});}\n",
       "        if (typeof require !== 'undefined') {\n",
       "        require.undef(\"plotly\");\n",
       "        requirejs.config({\n",
       "            paths: {\n",
       "                'plotly': ['https://cdn.plot.ly/plotly-latest.min']\n",
       "            }\n",
       "        });\n",
       "        require(['plotly'], function(Plotly) {\n",
       "            window._Plotly = Plotly;\n",
       "        });\n",
       "        }\n",
       "        </script>\n",
       "        "
      ]
     },
     "metadata": {},
     "output_type": "display_data"
    }
   ],
   "source": [
    "\"\"\"Helper Functions for Plotting\"\"\"\n",
    "import numpy as np\n",
    "\n",
    "import plotly\n",
    "import plotly.offline as pyoff\n",
    "import plotly.figure_factory as ff\n",
    "from plotly.offline import init_notebook_mode, iplot, plot\n",
    "import plotly.graph_objs as go\n",
    "init_notebook_mode(connected = True)\n",
    "\n",
    "def generate_layout_bar(col_name):\n",
    "    \"\"\"\n",
    "    Generate a layout object for bar chart\n",
    "    \"\"\"\n",
    "    layout_bar = go.Layout(\n",
    "        autosize=False,  # auto size the graph? use False if you are specifying the height and width\n",
    "        width=800,  # height of the figure in pixels\n",
    "        height=600,  # height of the figure in pixels\n",
    "        title=\"Distribution of {} column\".format(col_name),  # title of the figure\n",
    "        # more granular control on the title font\n",
    "        titlefont=dict(\n",
    "            family='Courier New, monospace',  # font family\n",
    "            size=14,  # size of the font\n",
    "            color='black'  # color of the font\n",
    "        ),\n",
    "        # granular control on the axes objects\n",
    "        xaxis=dict(\n",
    "            tickfont=dict(\n",
    "                family='Courier New, monospace',  # font family\n",
    "                size=14,  # size of ticks displayed on the x axis\n",
    "                color='black'  # color of the font\n",
    "            )\n",
    "        ),\n",
    "        yaxis=dict(\n",
    "            #         range=[0,100],\n",
    "            title='Percentage',\n",
    "            titlefont=dict(\n",
    "                size=14,\n",
    "                color='black'\n",
    "            ),\n",
    "            tickfont=dict(\n",
    "                family='Courier New, monospace',  # font family\n",
    "                size=14,  # size of ticks displayed on the y axis\n",
    "                color='black'  # color of the font\n",
    "            )\n",
    "        ),\n",
    "        font=dict(\n",
    "            family='Courier New, monospace',  # font family\n",
    "            color=\"white\",  # color of the font\n",
    "            size=12  # size of the font displayed on the bar\n",
    "        )\n",
    "    )\n",
    "    return layout_bar\n",
    "\n",
    "\n",
    "def plot_count_bar(dataframe_name, col_name, top_n=None):\n",
    "    \"\"\"\n",
    "    Plot a bar chart for the categorical columns\n",
    "    Arguments:\n",
    "    dataframe name\n",
    "    categorical column name\n",
    "    Output:\n",
    "    Plot\n",
    "    \"\"\"\n",
    "    # create a table with value counts\n",
    "    temp = dataframe_name[col_name].value_counts()\n",
    "    if top_n is not None:\n",
    "        temp = temp.head(top_n)\n",
    "    # creating a Bar chart object of plotly\n",
    "    data = [go.Bar(\n",
    "            x=temp.index.astype(str),  # x axis values\n",
    "            y=np.round(temp.values.astype(float) / temp.values.sum(), 4) * 100,  # y axis values\n",
    "            text=['{}%'.format(i) for i in np.round(temp.values.astype(float) / temp.values.sum(), 4) * 100],\n",
    "            # text to be displayed on the bar, we are doing this to display the '%' symbol along with the number on the bar\n",
    "            textposition='auto',  # specify at which position on the bar the text should appear\n",
    "            marker=dict(color='#0047AB'),)]  # change color of the bar\n",
    "    # color used here Cobalt Blue\n",
    "    layout_bar = generate_layout_bar(col_name=col_name)\n",
    "    fig = go.Figure(data=data, layout=layout_bar)\n",
    "    return iplot(fig)\n",
    "\n",
    "def plot_bar(dataframe_name, cat_col_name, num_col_name, top_n = 20):\n",
    "    \"\"\"\n",
    "    Plot a bar chart with the mentioned columns\n",
    "    Arguments:\n",
    "    dataframe name\n",
    "    categorical column name\n",
    "    numeric column name\n",
    "    Output:\n",
    "    Plot\n",
    "    \"\"\"\n",
    "    # create a table with value counts\n",
    "    dataframe_name = dataframe_name.sort_values(by = num_col_name, ascending = False)\n",
    "    dataframe_name = dataframe_name.head(top_n)\n",
    "    x = dataframe_name[cat_col_name]\n",
    "    y = dataframe_name[num_col_name]\n",
    "    # creating a Bar chart object of plotly\n",
    "    data = [go.Bar(\n",
    "            x=x,  # x axis values\n",
    "            y=y,  # y axis values\n",
    "            text=['{}%'.format(np.round(i,2)) for i in y],\n",
    "            # text to be displayed on the bar, we are doing this to display the '%' symbol along with the number on the bar\n",
    "            textposition='auto',  # specify at which position on the bar the text should appear\n",
    "            marker=dict(color='#0047AB'),)]  # change color of the bar\n",
    "    # color used here Cobalt Blue\n",
    "    layout_bar = generate_layout_bar(col_name=cat_col_name)\n",
    "    fig = go.Figure(data=data, layout=layout_bar)\n",
    "    return iplot(fig)\n",
    "\n",
    "\n",
    "def plot_hist(dataframe, col_name):\n",
    "    \"\"\"Plot histogram\"\"\"\n",
    "    data = [go.Histogram(x=dataframe[col_name],\n",
    "                         marker=dict(\n",
    "        color='#CC0E1D',  # Lava (#CC0E1D)\n",
    "        #         color = 'rgb(200,0,0)'   # you can provide color in HEX format or rgb format, genrally programmers prefer HEX format as it is a single string value and easy to pass as a variable\n",
    "    ))]\n",
    "    layout = go.Layout(title=\"Histogram of {}\".format(col_name))\n",
    "    fig = go.Figure(data=data, layout=layout)\n",
    "    return iplot(fig)\n",
    "\n",
    "\n",
    "def plot_multi_box(dataframe, col_name, num_col_name):\n",
    "    \"\"\"Plot multiple box plots based on the levels in a column\"\"\"\n",
    "    data = []\n",
    "    for i in dataframe[col_name].unique():\n",
    "        trace = go.Box(y=dataframe[num_col_name][dataframe[col_name] == i],\n",
    "                       name=i)\n",
    "        data.append(trace)\n",
    "    layout = go.Layout(title=\"Boxplot of levels in {} for {} column\".format(col_name, num_col_name))\n",
    "    fig = go.Figure(data=data, layout=layout)\n",
    "    return (iplot(fig))"
   ]
  },
  {
   "cell_type": "markdown",
   "metadata": {},
   "source": [
    "## Load master table"
   ]
  },
  {
   "cell_type": "code",
   "execution_count": 3,
   "metadata": {},
   "outputs": [],
   "source": [
    "import os\n",
    "import sys\n"
   ]
  },
  {
   "cell_type": "code",
   "execution_count": 4,
   "metadata": {},
   "outputs": [],
   "source": [
    "def load_data(file_name):\n",
    "    return pd.read_csv(f\"{file_name}\", na_values=[\" \", \"\", np.nan, \"nan\", \"Na\", \"NaN\"])"
   ]
  },
  {
   "cell_type": "code",
   "execution_count": 5,
   "metadata": {},
   "outputs": [],
   "source": [
    "# from ML.HelperFunctionsMLClass import HelperFunctionsML"
   ]
  },
  {
   "cell_type": "code",
   "execution_count": 6,
   "metadata": {},
   "outputs": [
    {
     "name": "stdout",
     "output_type": "stream",
     "text": [
      "model_data\\master.csv\n",
      "model_data\\notifications_flat.csv\n",
      "model_data\\users.csv\n",
      "model_data\\X_train.csv\n",
      "model_data\\X_validation.csv\n",
      "model_data\\y_train.csv\n",
      "model_data\\y_validation.csv\n",
      "{'master.csv': 'model_data\\\\master.csv', 'notifications_flat.csv': 'model_data\\\\notifications_flat.csv', 'users.csv': 'model_data\\\\users.csv', 'X_train.csv': 'model_data\\\\X_train.csv', 'X_validation.csv': 'model_data\\\\X_validation.csv', 'y_train.csv': 'model_data\\\\y_train.csv', 'y_validation.csv': 'model_data\\\\y_validation.csv'}\n"
     ]
    }
   ],
   "source": [
    "file_paths_dict = {}\n",
    "for dirname, _, filenames in os.walk('model_data'):\n",
    "    for filename in filenames:\n",
    "        print(os.path.join(dirname, filename))\n",
    "        file_paths_dict[filename] =os.path.join(dirname, filename)\n",
    "\n",
    "print(file_paths_dict)"
   ]
  },
  {
   "cell_type": "code",
   "execution_count": 7,
   "metadata": {},
   "outputs": [
    {
     "data": {
      "text/plain": [
       "{'master.csv': 'model_data\\\\master.csv',\n",
       " 'notifications_flat.csv': 'model_data\\\\notifications_flat.csv',\n",
       " 'users.csv': 'model_data\\\\users.csv',\n",
       " 'X_train.csv': 'model_data\\\\X_train.csv',\n",
       " 'X_validation.csv': 'model_data\\\\X_validation.csv',\n",
       " 'y_train.csv': 'model_data\\\\y_train.csv',\n",
       " 'y_validation.csv': 'model_data\\\\y_validation.csv'}"
      ]
     },
     "execution_count": 7,
     "metadata": {},
     "output_type": "execute_result"
    }
   ],
   "source": [
    "file_paths_dict"
   ]
  },
  {
   "cell_type": "code",
   "execution_count": 8,
   "metadata": {},
   "outputs": [],
   "source": [
    "train = load_data(file_paths_dict[\"master.csv\"])"
   ]
  },
  {
   "cell_type": "code",
   "execution_count": 9,
   "metadata": {},
   "outputs": [
    {
     "data": {
      "text/plain": [
       "user_id                                        0\n",
       "birth_year                                     0\n",
       "country                                        0\n",
       "city                                           0\n",
       "created_date                                   0\n",
       "user_settings_crypto_unlocked                  0\n",
       "plan                                           0\n",
       "attributes_notifications_marketing_push     6422\n",
       "attributes_notifications_marketing_email    6422\n",
       "num_contacts                                   0\n",
       "num_referrals                                  0\n",
       "num_successful_referrals                       0\n",
       "age                                            0\n",
       "METAL                                          0\n",
       "METAL_FREE                                     0\n",
       "PREMIUM                                        0\n",
       "PREMIUM_FREE                                   0\n",
       "PREMIUM_OFFER                                  0\n",
       "STANDARD                                       0\n",
       "Android                                        0\n",
       "Apple                                          0\n",
       "num_notifications                              0\n",
       "num_notified_15                                0\n",
       "num_notified_30                                0\n",
       "num_notified_45                                0\n",
       "num_notified_60                                0\n",
       "num_notified_90                                0\n",
       "num_notified_180                               0\n",
       "num_channles_of_com                            0\n",
       "num_reasons_com                                0\n",
       "num_transactions_Fri                           0\n",
       "num_transactions_Mon                           0\n",
       "num_transactions_Sat                           0\n",
       "num_transactions_Sun                           0\n",
       "num_transactions_Thu                           0\n",
       "num_transactions_Tue                           0\n",
       "num_transactions_Wed                           0\n",
       "INBOUND_count                                  0\n",
       "OUTBOUND_count                                 0\n",
       "CANCELLED_count                                0\n",
       "COMPLETED_count                                0\n",
       "DECLINED_count                                 0\n",
       "FAILED_count                                   0\n",
       "PENDING_count                                  0\n",
       "REVERTED_count                                 0\n",
       "is_user_engaged                                0\n",
       "median_usd                                     0\n",
       "mean_usd                                       0\n",
       "min_usd                                        0\n",
       "max_usd                                        0\n",
       "std_usd                                      228\n",
       "dtype: int64"
      ]
     },
     "execution_count": 9,
     "metadata": {},
     "output_type": "execute_result"
    }
   ],
   "source": [
    "train.isnull().sum()"
   ]
  },
  {
   "cell_type": "markdown",
   "metadata": {},
   "source": [
    "## Select columns "
   ]
  },
  {
   "cell_type": "code",
   "execution_count": 10,
   "metadata": {},
   "outputs": [
    {
     "data": {
      "text/plain": [
       "Index(['user_id', 'birth_year', 'country', 'city', 'created_date',\n",
       "       'user_settings_crypto_unlocked', 'plan',\n",
       "       'attributes_notifications_marketing_push',\n",
       "       'attributes_notifications_marketing_email', 'num_contacts',\n",
       "       'num_referrals', 'num_successful_referrals', 'age', 'METAL',\n",
       "       'METAL_FREE', 'PREMIUM', 'PREMIUM_FREE', 'PREMIUM_OFFER', 'STANDARD',\n",
       "       'Android', 'Apple', 'num_notifications', 'num_notified_15',\n",
       "       'num_notified_30', 'num_notified_45', 'num_notified_60',\n",
       "       'num_notified_90', 'num_notified_180', 'num_channles_of_com',\n",
       "       'num_reasons_com', 'num_transactions_Fri', 'num_transactions_Mon',\n",
       "       'num_transactions_Sat', 'num_transactions_Sun', 'num_transactions_Thu',\n",
       "       'num_transactions_Tue', 'num_transactions_Wed', 'INBOUND_count',\n",
       "       'OUTBOUND_count', 'CANCELLED_count', 'COMPLETED_count',\n",
       "       'DECLINED_count', 'FAILED_count', 'PENDING_count', 'REVERTED_count',\n",
       "       'is_user_engaged', 'median_usd', 'mean_usd', 'min_usd', 'max_usd',\n",
       "       'std_usd'],\n",
       "      dtype='object')"
      ]
     },
     "execution_count": 10,
     "metadata": {},
     "output_type": "execute_result"
    }
   ],
   "source": [
    "train.columns"
   ]
  },
  {
   "cell_type": "code",
   "execution_count": 11,
   "metadata": {},
   "outputs": [
    {
     "data": {
      "text/plain": [
       "5744"
      ]
     },
     "execution_count": 11,
     "metadata": {},
     "output_type": "execute_result"
    }
   ],
   "source": [
    "train.city.nunique()"
   ]
  },
  {
   "cell_type": "markdown",
   "metadata": {},
   "source": [
    "Dropping the columns with na values, attributes_notifications_marketing_push,attributes_notifications_marketing_email these attributes are not helping the model building, the information is about the notifications is captured in the engineered features\n",
    "\n",
    "and std_usd (standard deviation of amount) can be imputed using median, but for now I am dropping it"
   ]
  },
  {
   "cell_type": "markdown",
   "metadata": {},
   "source": [
    "City has too many levels, dropping for now as we have the country information"
   ]
  },
  {
   "cell_type": "code",
   "execution_count": 12,
   "metadata": {},
   "outputs": [],
   "source": [
    "cols_needed = ['user_id','age','num_contacts',\n",
    "       'num_referrals', 'num_successful_referrals', 'METAL',\n",
    "       'METAL_FREE', 'PREMIUM', 'PREMIUM_FREE', 'PREMIUM_OFFER', 'STANDARD',\n",
    "       'Android', 'Apple', 'num_notifications', 'num_notified_15',\n",
    "       'num_notified_30', 'num_notified_45', 'num_notified_60',\n",
    "       'num_notified_90', 'num_notified_180', 'num_channles_of_com',\n",
    "       'num_reasons_com', 'num_transactions_Fri', 'num_transactions_Mon',\n",
    "       'num_transactions_Sat', 'num_transactions_Sun', 'num_transactions_Thu',\n",
    "       'num_transactions_Tue', 'num_transactions_Wed', 'INBOUND_count',\n",
    "       'OUTBOUND_count', 'CANCELLED_count', 'COMPLETED_count',\n",
    "       'DECLINED_count', 'FAILED_count', 'PENDING_count', 'REVERTED_count',\n",
    "       'is_user_engaged', 'median_usd', 'mean_usd', 'min_usd', 'max_usd']"
   ]
  },
  {
   "cell_type": "code",
   "execution_count": 13,
   "metadata": {},
   "outputs": [],
   "source": [
    "train = train.loc[:,cols_needed]"
   ]
  },
  {
   "cell_type": "markdown",
   "metadata": {},
   "source": [
    "## Convert the pandas dataframe to my helper function object"
   ]
  },
  {
   "cell_type": "code",
   "execution_count": 14,
   "metadata": {},
   "outputs": [],
   "source": [
    "# I have developed a package for handling the dataset, preprocessing, model building and evaluation for more info, refer to my gihub link provided above\n",
    "train = HelperFunctionsML(train)"
   ]
  },
  {
   "cell_type": "code",
   "execution_count": 15,
   "metadata": {},
   "outputs": [
    {
     "data": {
      "text/plain": [
       "(18337, 42)"
      ]
     },
     "execution_count": 15,
     "metadata": {},
     "output_type": "execute_result"
    }
   ],
   "source": [
    "train.nrows, train.ncols"
   ]
  },
  {
   "cell_type": "markdown",
   "metadata": {},
   "source": [
    "### Set the target variable"
   ]
  },
  {
   "cell_type": "code",
   "execution_count": 16,
   "metadata": {},
   "outputs": [
    {
     "data": {
      "text/plain": [
       "Index(['user_id', 'age', 'num_contacts', 'num_referrals',\n",
       "       'num_successful_referrals', 'METAL', 'METAL_FREE', 'PREMIUM',\n",
       "       'PREMIUM_FREE', 'PREMIUM_OFFER', 'STANDARD', 'Android', 'Apple',\n",
       "       'num_notifications', 'num_notified_15', 'num_notified_30',\n",
       "       'num_notified_45', 'num_notified_60', 'num_notified_90',\n",
       "       'num_notified_180', 'num_channles_of_com', 'num_reasons_com',\n",
       "       'num_transactions_Fri', 'num_transactions_Mon', 'num_transactions_Sat',\n",
       "       'num_transactions_Sun', 'num_transactions_Thu', 'num_transactions_Tue',\n",
       "       'num_transactions_Wed', 'INBOUND_count', 'OUTBOUND_count',\n",
       "       'CANCELLED_count', 'COMPLETED_count', 'DECLINED_count', 'FAILED_count',\n",
       "       'PENDING_count', 'REVERTED_count', 'is_user_engaged', 'median_usd',\n",
       "       'mean_usd', 'min_usd', 'max_usd'],\n",
       "      dtype='object')"
      ]
     },
     "execution_count": 16,
     "metadata": {},
     "output_type": "execute_result"
    }
   ],
   "source": [
    "train.dataset.columns"
   ]
  },
  {
   "cell_type": "code",
   "execution_count": 17,
   "metadata": {},
   "outputs": [
    {
     "data": {
      "text/plain": [
       "'Succesfully set target column!'"
      ]
     },
     "execution_count": 17,
     "metadata": {},
     "output_type": "execute_result"
    }
   ],
   "source": [
    "train.set_target(\"is_user_engaged\")"
   ]
  },
  {
   "cell_type": "markdown",
   "metadata": {},
   "source": [
    "### We can also track the actions performed"
   ]
  },
  {
   "cell_type": "code",
   "execution_count": 18,
   "metadata": {},
   "outputs": [
    {
     "data": {
      "text/plain": [
       "{'set_target': {'attributes': {'col_name': 'is_user_engaged'},\n",
       "  'needed_for_test': False}}"
      ]
     },
     "execution_count": 18,
     "metadata": {},
     "output_type": "execute_result"
    }
   ],
   "source": [
    "train.actions_performed"
   ]
  },
  {
   "cell_type": "markdown",
   "metadata": {},
   "source": [
    "### Check the na values"
   ]
  },
  {
   "cell_type": "code",
   "execution_count": 19,
   "metadata": {},
   "outputs": [
    {
     "name": "stdout",
     "output_type": "stream",
     "text": [
      "No Null values in the dataset.\n"
     ]
    },
    {
     "data": {
      "text/plain": [
       "False"
      ]
     },
     "execution_count": 19,
     "metadata": {},
     "output_type": "execute_result"
    }
   ],
   "source": [
    "train.check_has_na_values()"
   ]
  },
  {
   "cell_type": "code",
   "execution_count": 20,
   "metadata": {},
   "outputs": [
    {
     "data": {
      "text/plain": [
       "'Succesfully set pos_label!'"
      ]
     },
     "execution_count": 20,
     "metadata": {},
     "output_type": "execute_result"
    }
   ],
   "source": [
    "train.set_pos_label(\"NOT_ENGAGED\")"
   ]
  },
  {
   "cell_type": "code",
   "execution_count": 21,
   "metadata": {},
   "outputs": [
    {
     "data": {
      "text/plain": [
       "'Succesfully set target column!'"
      ]
     },
     "execution_count": 21,
     "metadata": {},
     "output_type": "execute_result"
    }
   ],
   "source": [
    "train.set_target(\"is_user_engaged\")"
   ]
  },
  {
   "cell_type": "markdown",
   "metadata": {},
   "source": [
    "## Models"
   ]
  },
  {
   "cell_type": "code",
   "execution_count": 22,
   "metadata": {},
   "outputs": [],
   "source": [
    "cat_cols = []\n",
    "num_cols = train.dataset.columns.tolist()\n",
    "num_cols.remove(\"user_id\")"
   ]
  },
  {
   "cell_type": "code",
   "execution_count": 23,
   "metadata": {},
   "outputs": [],
   "source": [
    "num_cols.remove(\"is_user_engaged\")"
   ]
  },
  {
   "cell_type": "code",
   "execution_count": 24,
   "metadata": {},
   "outputs": [],
   "source": [
    "train.create_train_test_split(cat_cols, num_cols)"
   ]
  },
  {
   "cell_type": "code",
   "execution_count": 25,
   "metadata": {},
   "outputs": [],
   "source": [
    "# train.X_train.to_csv(\"model_data/X_train.csv\",index=False)\n",
    "# train.y_train.to_csv(\"model_data/y_train.csv\",index=False)\n",
    "# train.X_validation.to_csv(\"model_data/X_validation.csv\",index=False)\n",
    "# train.y_validation.to_csv(\"model_data/y_validation.csv\",index=False)"
   ]
  },
  {
   "cell_type": "code",
   "execution_count": 26,
   "metadata": {},
   "outputs": [],
   "source": [
    "train.num_cols = num_cols"
   ]
  },
  {
   "cell_type": "code",
   "execution_count": 27,
   "metadata": {},
   "outputs": [],
   "source": [
    "train.cat_cols = cat_cols"
   ]
  },
  {
   "cell_type": "markdown",
   "metadata": {},
   "source": [
    "### Logistic regression model"
   ]
  },
  {
   "cell_type": "code",
   "execution_count": 152,
   "metadata": {},
   "outputs": [
    {
     "data": {
      "text/plain": [
       "user_id                      object\n",
       "age                           int64\n",
       "num_contacts                  int64\n",
       "num_referrals                 int64\n",
       "num_successful_referrals      int64\n",
       "METAL                         int64\n",
       "METAL_FREE                    int64\n",
       "PREMIUM                       int64\n",
       "PREMIUM_FREE                  int64\n",
       "PREMIUM_OFFER                 int64\n",
       "STANDARD                      int64\n",
       "Android                       int64\n",
       "Apple                         int64\n",
       "num_notifications             int64\n",
       "num_notified_15             float64\n",
       "num_notified_30             float64\n",
       "num_notified_45             float64\n",
       "num_notified_60             float64\n",
       "num_notified_90             float64\n",
       "num_notified_180            float64\n",
       "num_channles_of_com           int64\n",
       "num_reasons_com               int64\n",
       "num_transactions_Fri          int64\n",
       "num_transactions_Mon          int64\n",
       "num_transactions_Sat          int64\n",
       "num_transactions_Sun          int64\n",
       "num_transactions_Thu          int64\n",
       "num_transactions_Tue          int64\n",
       "num_transactions_Wed          int64\n",
       "INBOUND_count                 int64\n",
       "OUTBOUND_count                int64\n",
       "CANCELLED_count               int64\n",
       "COMPLETED_count               int64\n",
       "DECLINED_count                int64\n",
       "FAILED_count                  int64\n",
       "PENDING_count                 int64\n",
       "REVERTED_count                int64\n",
       "is_user_engaged              object\n",
       "median_usd                  float64\n",
       "mean_usd                    float64\n",
       "min_usd                     float64\n",
       "max_usd                     float64\n",
       "dtype: object"
      ]
     },
     "execution_count": 152,
     "metadata": {},
     "output_type": "execute_result"
    }
   ],
   "source": [
    "train.dataset.dtypes"
   ]
  },
  {
   "cell_type": "code",
   "execution_count": 153,
   "metadata": {},
   "outputs": [],
   "source": [
    "log_reg = LogisticRegression()"
   ]
  },
  {
   "cell_type": "code",
   "execution_count": 154,
   "metadata": {},
   "outputs": [
    {
     "name": "stderr",
     "output_type": "stream",
     "text": [
      "C:\\Users\\chait\\Anaconda3\\lib\\site-packages\\sklearn\\utils\\validation.py:760: DataConversionWarning:\n",
      "\n",
      "A column-vector y was passed when a 1d array was expected. Please change the shape of y to (n_samples, ), for example using ravel().\n",
      "\n",
      "C:\\Users\\chait\\Anaconda3\\lib\\site-packages\\sklearn\\linear_model\\_logistic.py:940: ConvergenceWarning:\n",
      "\n",
      "lbfgs failed to converge (status=1):\n",
      "STOP: TOTAL NO. of ITERATIONS REACHED LIMIT.\n",
      "\n",
      "Increase the number of iterations (max_iter) or scale the data as shown in:\n",
      "    https://scikit-learn.org/stable/modules/preprocessing.html\n",
      "Please also refer to the documentation for alternative solver options:\n",
      "    https://scikit-learn.org/stable/modules/linear_model.html#logistic-regression\n",
      "\n",
      "C:\\Users\\chait\\Anaconda3\\lib\\site-packages\\sklearn\\metrics\\_classification.py:1321: UserWarning:\n",
      "\n",
      "Note that pos_label (set to 'NOT_ENGAGED') is ignored when average != 'binary' (got 'macro'). You may use labels=[pos_label] to specify a single positive class.\n",
      "\n"
     ]
    }
   ],
   "source": [
    "_,_,model_performance = train.apply_model_predict_validate(model_obj = log_reg, model_name = \"Logreg\")"
   ]
  },
  {
   "cell_type": "code",
   "execution_count": 155,
   "metadata": {},
   "outputs": [
    {
     "data": {
      "text/plain": [
       "{'train': {'precision': None,\n",
       "  'f1_score': 0.548466690165668,\n",
       "  'recall': 0.709870093158768,\n",
       "  'accuracy': 0.9001947798987144},\n",
       " 'validation': {'precision': None,\n",
       "  'f1_score': 0.5434949961508853,\n",
       "  'recall': 0.7054466523451486,\n",
       "  'accuracy': 0.8922210105416212},\n",
       " 'model_obj': 'Logreg'}"
      ]
     },
     "execution_count": 155,
     "metadata": {},
     "output_type": "execute_result"
    }
   ],
   "source": [
    "model_performance"
   ]
  },
  {
   "cell_type": "code",
   "execution_count": 156,
   "metadata": {},
   "outputs": [
    {
     "data": {
      "text/html": [
       "<div>\n",
       "<style scoped>\n",
       "    .dataframe tbody tr th:only-of-type {\n",
       "        vertical-align: middle;\n",
       "    }\n",
       "\n",
       "    .dataframe tbody tr th {\n",
       "        vertical-align: top;\n",
       "    }\n",
       "\n",
       "    .dataframe thead th {\n",
       "        text-align: right;\n",
       "    }\n",
       "</style>\n",
       "<table border=\"1\" class=\"dataframe\">\n",
       "  <thead>\n",
       "    <tr style=\"text-align: right;\">\n",
       "      <th></th>\n",
       "      <th>train</th>\n",
       "      <th>validation</th>\n",
       "      <th>model_obj</th>\n",
       "    </tr>\n",
       "  </thead>\n",
       "  <tbody>\n",
       "    <tr>\n",
       "      <th>accuracy</th>\n",
       "      <td>0.900195</td>\n",
       "      <td>0.892221</td>\n",
       "      <td>Logreg</td>\n",
       "    </tr>\n",
       "    <tr>\n",
       "      <th>f1_score</th>\n",
       "      <td>0.548467</td>\n",
       "      <td>0.543495</td>\n",
       "      <td>Logreg</td>\n",
       "    </tr>\n",
       "    <tr>\n",
       "      <th>precision</th>\n",
       "      <td>NaN</td>\n",
       "      <td>NaN</td>\n",
       "      <td>Logreg</td>\n",
       "    </tr>\n",
       "    <tr>\n",
       "      <th>recall</th>\n",
       "      <td>0.709870</td>\n",
       "      <td>0.705447</td>\n",
       "      <td>Logreg</td>\n",
       "    </tr>\n",
       "  </tbody>\n",
       "</table>\n",
       "</div>"
      ],
      "text/plain": [
       "              train  validation model_obj\n",
       "accuracy   0.900195    0.892221    Logreg\n",
       "f1_score   0.548467    0.543495    Logreg\n",
       "precision       NaN         NaN    Logreg\n",
       "recall     0.709870    0.705447    Logreg"
      ]
     },
     "execution_count": 156,
     "metadata": {},
     "output_type": "execute_result"
    }
   ],
   "source": [
    "pd.DataFrame(model_performance)"
   ]
  },
  {
   "cell_type": "markdown",
   "metadata": {},
   "source": [
    "#### Model results"
   ]
  },
  {
   "cell_type": "markdown",
   "metadata": {},
   "source": [
    "I will use recall as the metric for the positive class (NOT_ENGAGED) for the problem, reson being that the recall metric looks at how many cases were true among the model predictions."
   ]
  },
  {
   "cell_type": "markdown",
   "metadata": {},
   "source": [
    "Recall for the train and validation are around 70% , inplies that there is no overfitting, I will use this as baseline and try to improve performance"
   ]
  },
  {
   "cell_type": "markdown",
   "metadata": {},
   "source": [
    "#### Taking a look at the train dataset used"
   ]
  },
  {
   "cell_type": "code",
   "execution_count": 157,
   "metadata": {},
   "outputs": [
    {
     "data": {
      "text/html": [
       "<div>\n",
       "<style scoped>\n",
       "    .dataframe tbody tr th:only-of-type {\n",
       "        vertical-align: middle;\n",
       "    }\n",
       "\n",
       "    .dataframe tbody tr th {\n",
       "        vertical-align: top;\n",
       "    }\n",
       "\n",
       "    .dataframe thead th {\n",
       "        text-align: right;\n",
       "    }\n",
       "</style>\n",
       "<table border=\"1\" class=\"dataframe\">\n",
       "  <thead>\n",
       "    <tr style=\"text-align: right;\">\n",
       "      <th></th>\n",
       "      <th>age</th>\n",
       "      <th>num_contacts</th>\n",
       "      <th>num_referrals</th>\n",
       "      <th>num_successful_referrals</th>\n",
       "      <th>METAL</th>\n",
       "      <th>METAL_FREE</th>\n",
       "      <th>PREMIUM</th>\n",
       "      <th>PREMIUM_FREE</th>\n",
       "      <th>PREMIUM_OFFER</th>\n",
       "      <th>STANDARD</th>\n",
       "      <th>...</th>\n",
       "      <th>CANCELLED_count</th>\n",
       "      <th>COMPLETED_count</th>\n",
       "      <th>DECLINED_count</th>\n",
       "      <th>FAILED_count</th>\n",
       "      <th>PENDING_count</th>\n",
       "      <th>REVERTED_count</th>\n",
       "      <th>median_usd</th>\n",
       "      <th>mean_usd</th>\n",
       "      <th>min_usd</th>\n",
       "      <th>max_usd</th>\n",
       "    </tr>\n",
       "  </thead>\n",
       "  <tbody>\n",
       "    <tr>\n",
       "      <th>17408</th>\n",
       "      <td>33</td>\n",
       "      <td>1</td>\n",
       "      <td>0</td>\n",
       "      <td>0</td>\n",
       "      <td>0</td>\n",
       "      <td>0</td>\n",
       "      <td>0</td>\n",
       "      <td>0</td>\n",
       "      <td>0</td>\n",
       "      <td>1</td>\n",
       "      <td>...</td>\n",
       "      <td>0</td>\n",
       "      <td>1</td>\n",
       "      <td>0</td>\n",
       "      <td>0</td>\n",
       "      <td>0</td>\n",
       "      <td>1</td>\n",
       "      <td>4.405</td>\n",
       "      <td>4.405000</td>\n",
       "      <td>0.09</td>\n",
       "      <td>8.72</td>\n",
       "    </tr>\n",
       "    <tr>\n",
       "      <th>11998</th>\n",
       "      <td>65</td>\n",
       "      <td>4</td>\n",
       "      <td>0</td>\n",
       "      <td>0</td>\n",
       "      <td>0</td>\n",
       "      <td>0</td>\n",
       "      <td>0</td>\n",
       "      <td>0</td>\n",
       "      <td>0</td>\n",
       "      <td>1</td>\n",
       "      <td>...</td>\n",
       "      <td>0</td>\n",
       "      <td>4</td>\n",
       "      <td>0</td>\n",
       "      <td>0</td>\n",
       "      <td>0</td>\n",
       "      <td>1</td>\n",
       "      <td>5.010</td>\n",
       "      <td>6.200000</td>\n",
       "      <td>1.00</td>\n",
       "      <td>10.00</td>\n",
       "    </tr>\n",
       "    <tr>\n",
       "      <th>9238</th>\n",
       "      <td>57</td>\n",
       "      <td>0</td>\n",
       "      <td>0</td>\n",
       "      <td>0</td>\n",
       "      <td>0</td>\n",
       "      <td>0</td>\n",
       "      <td>0</td>\n",
       "      <td>0</td>\n",
       "      <td>0</td>\n",
       "      <td>1</td>\n",
       "      <td>...</td>\n",
       "      <td>0</td>\n",
       "      <td>29</td>\n",
       "      <td>9</td>\n",
       "      <td>3</td>\n",
       "      <td>0</td>\n",
       "      <td>13</td>\n",
       "      <td>136.580</td>\n",
       "      <td>217.016667</td>\n",
       "      <td>0.85</td>\n",
       "      <td>1159.22</td>\n",
       "    </tr>\n",
       "    <tr>\n",
       "      <th>12032</th>\n",
       "      <td>31</td>\n",
       "      <td>5</td>\n",
       "      <td>0</td>\n",
       "      <td>0</td>\n",
       "      <td>0</td>\n",
       "      <td>0</td>\n",
       "      <td>0</td>\n",
       "      <td>0</td>\n",
       "      <td>0</td>\n",
       "      <td>1</td>\n",
       "      <td>...</td>\n",
       "      <td>0</td>\n",
       "      <td>13</td>\n",
       "      <td>2</td>\n",
       "      <td>0</td>\n",
       "      <td>0</td>\n",
       "      <td>6</td>\n",
       "      <td>7.630</td>\n",
       "      <td>16.222381</td>\n",
       "      <td>0.00</td>\n",
       "      <td>85.11</td>\n",
       "    </tr>\n",
       "    <tr>\n",
       "      <th>872</th>\n",
       "      <td>24</td>\n",
       "      <td>5</td>\n",
       "      <td>0</td>\n",
       "      <td>0</td>\n",
       "      <td>0</td>\n",
       "      <td>0</td>\n",
       "      <td>0</td>\n",
       "      <td>0</td>\n",
       "      <td>0</td>\n",
       "      <td>1</td>\n",
       "      <td>...</td>\n",
       "      <td>0</td>\n",
       "      <td>97</td>\n",
       "      <td>1</td>\n",
       "      <td>3</td>\n",
       "      <td>1</td>\n",
       "      <td>1</td>\n",
       "      <td>10.950</td>\n",
       "      <td>27.442136</td>\n",
       "      <td>0.00</td>\n",
       "      <td>250.00</td>\n",
       "    </tr>\n",
       "  </tbody>\n",
       "</table>\n",
       "<p>5 rows × 40 columns</p>\n",
       "</div>"
      ],
      "text/plain": [
       "       age  num_contacts  num_referrals  num_successful_referrals  METAL  \\\n",
       "17408   33             1              0                         0      0   \n",
       "11998   65             4              0                         0      0   \n",
       "9238    57             0              0                         0      0   \n",
       "12032   31             5              0                         0      0   \n",
       "872     24             5              0                         0      0   \n",
       "\n",
       "       METAL_FREE  PREMIUM  PREMIUM_FREE  PREMIUM_OFFER  STANDARD  ...  \\\n",
       "17408           0        0             0              0         1  ...   \n",
       "11998           0        0             0              0         1  ...   \n",
       "9238            0        0             0              0         1  ...   \n",
       "12032           0        0             0              0         1  ...   \n",
       "872             0        0             0              0         1  ...   \n",
       "\n",
       "       CANCELLED_count  COMPLETED_count  DECLINED_count  FAILED_count  \\\n",
       "17408                0                1               0             0   \n",
       "11998                0                4               0             0   \n",
       "9238                 0               29               9             3   \n",
       "12032                0               13               2             0   \n",
       "872                  0               97               1             3   \n",
       "\n",
       "       PENDING_count  REVERTED_count  median_usd    mean_usd  min_usd  max_usd  \n",
       "17408              0               1       4.405    4.405000     0.09     8.72  \n",
       "11998              0               1       5.010    6.200000     1.00    10.00  \n",
       "9238               0              13     136.580  217.016667     0.85  1159.22  \n",
       "12032              0               6       7.630   16.222381     0.00    85.11  \n",
       "872                1               1      10.950   27.442136     0.00   250.00  \n",
       "\n",
       "[5 rows x 40 columns]"
      ]
     },
     "execution_count": 157,
     "metadata": {},
     "output_type": "execute_result"
    }
   ],
   "source": [
    "train.X_train.head()"
   ]
  },
  {
   "cell_type": "markdown",
   "metadata": {},
   "source": [
    "### Decision tree "
   ]
  },
  {
   "cell_type": "code",
   "execution_count": 158,
   "metadata": {},
   "outputs": [
    {
     "name": "stderr",
     "output_type": "stream",
     "text": [
      "C:\\Users\\chait\\Anaconda3\\lib\\site-packages\\sklearn\\metrics\\_classification.py:1321: UserWarning:\n",
      "\n",
      "Note that pos_label (set to 'NOT_ENGAGED') is ignored when average != 'binary' (got 'macro'). You may use labels=[pos_label] to specify a single positive class.\n",
      "\n"
     ]
    }
   ],
   "source": [
    "dtree_max_depth = DecisionTreeClassifier(max_depth = 3)\n",
    "_, _ ,model_performance = train.apply_model_predict_validate(model_obj = dtree_max_depth)"
   ]
  },
  {
   "cell_type": "code",
   "execution_count": 159,
   "metadata": {},
   "outputs": [
    {
     "data": {
      "text/plain": [
       "{'train': {'precision': None,\n",
       "  'f1_score': 0.5497981157469718,\n",
       "  'recall': 0.7168055977630414,\n",
       "  'accuracy': 0.8957537982080249},\n",
       " 'validation': {'precision': None,\n",
       "  'f1_score': 0.5655070318282753,\n",
       "  'recall': 0.7211723505191551,\n",
       "  'accuracy': 0.8933115230825155},\n",
       " 'model_obj': 'Pipeline'}"
      ]
     },
     "execution_count": 159,
     "metadata": {},
     "output_type": "execute_result"
    }
   ],
   "source": [
    "model_performance"
   ]
  },
  {
   "cell_type": "code",
   "execution_count": 160,
   "metadata": {},
   "outputs": [
    {
     "data": {
      "text/html": [
       "<div>\n",
       "<style scoped>\n",
       "    .dataframe tbody tr th:only-of-type {\n",
       "        vertical-align: middle;\n",
       "    }\n",
       "\n",
       "    .dataframe tbody tr th {\n",
       "        vertical-align: top;\n",
       "    }\n",
       "\n",
       "    .dataframe thead th {\n",
       "        text-align: right;\n",
       "    }\n",
       "</style>\n",
       "<table border=\"1\" class=\"dataframe\">\n",
       "  <thead>\n",
       "    <tr style=\"text-align: right;\">\n",
       "      <th></th>\n",
       "      <th>train</th>\n",
       "      <th>validation</th>\n",
       "      <th>model_obj</th>\n",
       "    </tr>\n",
       "  </thead>\n",
       "  <tbody>\n",
       "    <tr>\n",
       "      <th>accuracy</th>\n",
       "      <td>0.895754</td>\n",
       "      <td>0.893312</td>\n",
       "      <td>Pipeline</td>\n",
       "    </tr>\n",
       "    <tr>\n",
       "      <th>f1_score</th>\n",
       "      <td>0.549798</td>\n",
       "      <td>0.565507</td>\n",
       "      <td>Pipeline</td>\n",
       "    </tr>\n",
       "    <tr>\n",
       "      <th>precision</th>\n",
       "      <td>NaN</td>\n",
       "      <td>NaN</td>\n",
       "      <td>Pipeline</td>\n",
       "    </tr>\n",
       "    <tr>\n",
       "      <th>recall</th>\n",
       "      <td>0.716806</td>\n",
       "      <td>0.721172</td>\n",
       "      <td>Pipeline</td>\n",
       "    </tr>\n",
       "  </tbody>\n",
       "</table>\n",
       "</div>"
      ],
      "text/plain": [
       "              train  validation model_obj\n",
       "accuracy   0.895754    0.893312  Pipeline\n",
       "f1_score   0.549798    0.565507  Pipeline\n",
       "precision       NaN         NaN  Pipeline\n",
       "recall     0.716806    0.721172  Pipeline"
      ]
     },
     "execution_count": 160,
     "metadata": {},
     "output_type": "execute_result"
    }
   ],
   "source": [
    "pd.DataFrame(model_performance)"
   ]
  },
  {
   "cell_type": "markdown",
   "metadata": {},
   "source": [
    "#### Model Performance"
   ]
  },
  {
   "cell_type": "markdown",
   "metadata": {},
   "source": [
    "The recall for both the train and validation increased yb about 1% , no significant difference compared to the logistic regression model"
   ]
  },
  {
   "cell_type": "markdown",
   "metadata": {},
   "source": [
    "### SVM model"
   ]
  },
  {
   "cell_type": "code",
   "execution_count": 161,
   "metadata": {},
   "outputs": [],
   "source": [
    "from sklearn import svm"
   ]
  },
  {
   "cell_type": "code",
   "execution_count": 162,
   "metadata": {},
   "outputs": [],
   "source": [
    "svc_model = svm.SVC()"
   ]
  },
  {
   "cell_type": "code",
   "execution_count": 163,
   "metadata": {},
   "outputs": [
    {
     "name": "stderr",
     "output_type": "stream",
     "text": [
      "C:\\Users\\chait\\Anaconda3\\lib\\site-packages\\sklearn\\utils\\validation.py:760: DataConversionWarning:\n",
      "\n",
      "A column-vector y was passed when a 1d array was expected. Please change the shape of y to (n_samples, ), for example using ravel().\n",
      "\n",
      "C:\\Users\\chait\\Anaconda3\\lib\\site-packages\\sklearn\\metrics\\_classification.py:1321: UserWarning:\n",
      "\n",
      "Note that pos_label (set to 'NOT_ENGAGED') is ignored when average != 'binary' (got 'macro'). You may use labels=[pos_label] to specify a single positive class.\n",
      "\n"
     ]
    }
   ],
   "source": [
    "_, _ ,model_performance = train.apply_model_predict_validate(svc_model)"
   ]
  },
  {
   "cell_type": "code",
   "execution_count": 164,
   "metadata": {},
   "outputs": [
    {
     "data": {
      "text/html": [
       "<div>\n",
       "<style scoped>\n",
       "    .dataframe tbody tr th:only-of-type {\n",
       "        vertical-align: middle;\n",
       "    }\n",
       "\n",
       "    .dataframe tbody tr th {\n",
       "        vertical-align: top;\n",
       "    }\n",
       "\n",
       "    .dataframe thead th {\n",
       "        text-align: right;\n",
       "    }\n",
       "</style>\n",
       "<table border=\"1\" class=\"dataframe\">\n",
       "  <thead>\n",
       "    <tr style=\"text-align: right;\">\n",
       "      <th></th>\n",
       "      <th>train</th>\n",
       "      <th>validation</th>\n",
       "      <th>model_obj</th>\n",
       "    </tr>\n",
       "  </thead>\n",
       "  <tbody>\n",
       "    <tr>\n",
       "      <th>accuracy</th>\n",
       "      <td>0.893494</td>\n",
       "      <td>0.880407</td>\n",
       "      <td>Pipeline</td>\n",
       "    </tr>\n",
       "    <tr>\n",
       "      <th>f1_score</th>\n",
       "      <td>0.443177</td>\n",
       "      <td>0.406137</td>\n",
       "      <td>Pipeline</td>\n",
       "    </tr>\n",
       "    <tr>\n",
       "      <th>precision</th>\n",
       "      <td>NaN</td>\n",
       "      <td>NaN</td>\n",
       "      <td>Pipeline</td>\n",
       "    </tr>\n",
       "    <tr>\n",
       "      <th>recall</th>\n",
       "      <td>0.648983</td>\n",
       "      <td>0.631943</td>\n",
       "      <td>Pipeline</td>\n",
       "    </tr>\n",
       "  </tbody>\n",
       "</table>\n",
       "</div>"
      ],
      "text/plain": [
       "              train  validation model_obj\n",
       "accuracy   0.893494    0.880407  Pipeline\n",
       "f1_score   0.443177    0.406137  Pipeline\n",
       "precision       NaN         NaN  Pipeline\n",
       "recall     0.648983    0.631943  Pipeline"
      ]
     },
     "execution_count": 164,
     "metadata": {},
     "output_type": "execute_result"
    }
   ],
   "source": [
    "pd.DataFrame(model_performance)"
   ]
  },
  {
   "cell_type": "markdown",
   "metadata": {},
   "source": [
    "#### Model performance"
   ]
  },
  {
   "cell_type": "markdown",
   "metadata": {},
   "source": [
    "Recall for SVC model (without hyperparameter tuning) is about 64% for train and validation, less than logistic regression model.\n"
   ]
  },
  {
   "cell_type": "markdown",
   "metadata": {},
   "source": [
    "### Random Forest"
   ]
  },
  {
   "cell_type": "code",
   "execution_count": 165,
   "metadata": {},
   "outputs": [],
   "source": [
    "from sklearn.ensemble import RandomForestClassifier"
   ]
  },
  {
   "cell_type": "code",
   "execution_count": 166,
   "metadata": {},
   "outputs": [],
   "source": [
    "rf = RandomForestClassifier()"
   ]
  },
  {
   "cell_type": "code",
   "execution_count": 167,
   "metadata": {},
   "outputs": [
    {
     "name": "stderr",
     "output_type": "stream",
     "text": [
      "C:\\Users\\chait\\Anaconda3\\lib\\site-packages\\sklearn\\pipeline.py:354: DataConversionWarning:\n",
      "\n",
      "A column-vector y was passed when a 1d array was expected. Please change the shape of y to (n_samples,), for example using ravel().\n",
      "\n",
      "C:\\Users\\chait\\Anaconda3\\lib\\site-packages\\sklearn\\metrics\\_classification.py:1321: UserWarning:\n",
      "\n",
      "Note that pos_label (set to 'NOT_ENGAGED') is ignored when average != 'binary' (got 'macro'). You may use labels=[pos_label] to specify a single positive class.\n",
      "\n"
     ]
    }
   ],
   "source": [
    "_, _ ,model_performance = train.apply_model_predict_validate(rf)"
   ]
  },
  {
   "cell_type": "code",
   "execution_count": 168,
   "metadata": {},
   "outputs": [
    {
     "data": {
      "text/html": [
       "<div>\n",
       "<style scoped>\n",
       "    .dataframe tbody tr th:only-of-type {\n",
       "        vertical-align: middle;\n",
       "    }\n",
       "\n",
       "    .dataframe tbody tr th {\n",
       "        vertical-align: top;\n",
       "    }\n",
       "\n",
       "    .dataframe thead th {\n",
       "        text-align: right;\n",
       "    }\n",
       "</style>\n",
       "<table border=\"1\" class=\"dataframe\">\n",
       "  <thead>\n",
       "    <tr style=\"text-align: right;\">\n",
       "      <th></th>\n",
       "      <th>train</th>\n",
       "      <th>validation</th>\n",
       "      <th>model_obj</th>\n",
       "    </tr>\n",
       "  </thead>\n",
       "  <tbody>\n",
       "    <tr>\n",
       "      <th>accuracy</th>\n",
       "      <td>1.0</td>\n",
       "      <td>0.909306</td>\n",
       "      <td>Pipeline</td>\n",
       "    </tr>\n",
       "    <tr>\n",
       "      <th>f1_score</th>\n",
       "      <td>1.0</td>\n",
       "      <td>0.620532</td>\n",
       "      <td>Pipeline</td>\n",
       "    </tr>\n",
       "    <tr>\n",
       "      <th>precision</th>\n",
       "      <td>NaN</td>\n",
       "      <td>NaN</td>\n",
       "      <td>Pipeline</td>\n",
       "    </tr>\n",
       "    <tr>\n",
       "      <th>recall</th>\n",
       "      <td>1.0</td>\n",
       "      <td>0.744053</td>\n",
       "      <td>Pipeline</td>\n",
       "    </tr>\n",
       "  </tbody>\n",
       "</table>\n",
       "</div>"
      ],
      "text/plain": [
       "           train  validation model_obj\n",
       "accuracy     1.0    0.909306  Pipeline\n",
       "f1_score     1.0    0.620532  Pipeline\n",
       "precision    NaN         NaN  Pipeline\n",
       "recall       1.0    0.744053  Pipeline"
      ]
     },
     "execution_count": 168,
     "metadata": {},
     "output_type": "execute_result"
    }
   ],
   "source": [
    "pd.DataFrame(model_performance)"
   ]
  },
  {
   "cell_type": "markdown",
   "metadata": {},
   "source": [
    "#### Model performance"
   ]
  },
  {
   "cell_type": "markdown",
   "metadata": {},
   "source": [
    "The recall on train is 100%, and the validations is 74% this is the case of overfitting, will tune the model"
   ]
  },
  {
   "cell_type": "markdown",
   "metadata": {},
   "source": [
    "#### Extracting feature importances"
   ]
  },
  {
   "cell_type": "code",
   "execution_count": 169,
   "metadata": {},
   "outputs": [
    {
     "data": {
      "text/plain": [
       "Index(['age', 'num_contacts', 'num_referrals', 'num_successful_referrals',\n",
       "       'METAL', 'METAL_FREE', 'PREMIUM', 'PREMIUM_FREE', 'PREMIUM_OFFER',\n",
       "       'STANDARD', 'Android', 'Apple', 'num_notifications', 'num_notified_15',\n",
       "       'num_notified_30', 'num_notified_45', 'num_notified_60',\n",
       "       'num_notified_90', 'num_notified_180', 'num_channles_of_com',\n",
       "       'num_reasons_com', 'num_transactions_Fri', 'num_transactions_Mon',\n",
       "       'num_transactions_Sat', 'num_transactions_Sun', 'num_transactions_Thu',\n",
       "       'num_transactions_Tue', 'num_transactions_Wed', 'INBOUND_count',\n",
       "       'OUTBOUND_count', 'CANCELLED_count', 'COMPLETED_count',\n",
       "       'DECLINED_count', 'FAILED_count', 'PENDING_count', 'REVERTED_count',\n",
       "       'median_usd', 'mean_usd', 'min_usd', 'max_usd'],\n",
       "      dtype='object')"
      ]
     },
     "execution_count": 169,
     "metadata": {},
     "output_type": "execute_result"
    }
   ],
   "source": [
    "train.X_train.columns"
   ]
  },
  {
   "cell_type": "code",
   "execution_count": 170,
   "metadata": {},
   "outputs": [
    {
     "data": {
      "text/plain": [
       "array([3.96076837e-02, 4.98923789e-02, 0.00000000e+00, 0.00000000e+00,\n",
       "       1.74951740e-04, 4.75735683e-05, 6.04883389e-04, 0.00000000e+00,\n",
       "       3.37341481e-06, 1.06404604e-03, 6.72685414e-03, 7.24290414e-03,\n",
       "       2.13260667e-02, 1.93505869e-02, 1.74446611e-02, 1.80062647e-02,\n",
       "       1.85730698e-02, 2.67140109e-02, 6.93773451e-02, 1.53605509e-02,\n",
       "       2.91969268e-02, 4.22102473e-02, 3.30033872e-02, 3.84210956e-02,\n",
       "       4.26598142e-02, 2.84755901e-02, 2.81746328e-02, 2.62422605e-02,\n",
       "       5.57178869e-02, 7.07650891e-02, 3.10620496e-03, 7.99783286e-02,\n",
       "       4.01227840e-02, 1.36965529e-02, 6.97051833e-03, 2.29826106e-02,\n",
       "       4.35071913e-02, 3.32832700e-02, 4.09048163e-02, 9.06358747e-03])"
      ]
     },
     "execution_count": 170,
     "metadata": {},
     "output_type": "execute_result"
    }
   ],
   "source": [
    "train.model[-1].feature_importances_"
   ]
  },
  {
   "cell_type": "code",
   "execution_count": 171,
   "metadata": {},
   "outputs": [],
   "source": [
    "feature_importances_df = pd.DataFrame(zip(train.X_train.columns, train.model[-1].feature_importances_))\n",
    "feature_importances_df.columns = [\"Column\", \"Importance\"]"
   ]
  },
  {
   "cell_type": "code",
   "execution_count": 172,
   "metadata": {},
   "outputs": [
    {
     "data": {
      "text/html": [
       "<div>\n",
       "<style scoped>\n",
       "    .dataframe tbody tr th:only-of-type {\n",
       "        vertical-align: middle;\n",
       "    }\n",
       "\n",
       "    .dataframe tbody tr th {\n",
       "        vertical-align: top;\n",
       "    }\n",
       "\n",
       "    .dataframe thead th {\n",
       "        text-align: right;\n",
       "    }\n",
       "</style>\n",
       "<table border=\"1\" class=\"dataframe\">\n",
       "  <thead>\n",
       "    <tr style=\"text-align: right;\">\n",
       "      <th></th>\n",
       "      <th>Column</th>\n",
       "      <th>Importance</th>\n",
       "    </tr>\n",
       "  </thead>\n",
       "  <tbody>\n",
       "    <tr>\n",
       "      <th>0</th>\n",
       "      <td>age</td>\n",
       "      <td>0.039608</td>\n",
       "    </tr>\n",
       "    <tr>\n",
       "      <th>1</th>\n",
       "      <td>num_contacts</td>\n",
       "      <td>0.049892</td>\n",
       "    </tr>\n",
       "    <tr>\n",
       "      <th>2</th>\n",
       "      <td>num_referrals</td>\n",
       "      <td>0.000000</td>\n",
       "    </tr>\n",
       "    <tr>\n",
       "      <th>3</th>\n",
       "      <td>num_successful_referrals</td>\n",
       "      <td>0.000000</td>\n",
       "    </tr>\n",
       "    <tr>\n",
       "      <th>4</th>\n",
       "      <td>METAL</td>\n",
       "      <td>0.000175</td>\n",
       "    </tr>\n",
       "  </tbody>\n",
       "</table>\n",
       "</div>"
      ],
      "text/plain": [
       "                     Column  Importance\n",
       "0                       age    0.039608\n",
       "1              num_contacts    0.049892\n",
       "2             num_referrals    0.000000\n",
       "3  num_successful_referrals    0.000000\n",
       "4                     METAL    0.000175"
      ]
     },
     "execution_count": 172,
     "metadata": {},
     "output_type": "execute_result"
    }
   ],
   "source": [
    "feature_importances_df.head()"
   ]
  },
  {
   "cell_type": "code",
   "execution_count": 173,
   "metadata": {},
   "outputs": [
    {
     "data": {
      "application/vnd.plotly.v1+json": {
       "config": {
        "linkText": "Export to plot.ly",
        "plotlyServerURL": "https://plot.ly",
        "showLink": false
       },
       "data": [
        {
         "marker": {
          "color": "#0047AB"
         },
         "text": [
          "0.08%",
          "0.07%",
          "0.07%",
          "0.06%",
          "0.05%",
          "0.04%",
          "0.04%",
          "0.04%",
          "0.04%",
          "0.04%",
          "0.04%",
          "0.04%",
          "0.03%",
          "0.03%",
          "0.03%",
          "0.03%",
          "0.03%",
          "0.03%",
          "0.03%",
          "0.02%"
         ],
         "textposition": "auto",
         "type": "bar",
         "x": [
          "COMPLETED_count",
          "OUTBOUND_count",
          "num_notified_180",
          "INBOUND_count",
          "num_contacts",
          "median_usd",
          "num_transactions_Sun",
          "num_transactions_Fri",
          "min_usd",
          "DECLINED_count",
          "age",
          "num_transactions_Sat",
          "mean_usd",
          "num_transactions_Mon",
          "num_reasons_com",
          "num_transactions_Thu",
          "num_transactions_Tue",
          "num_notified_90",
          "num_transactions_Wed",
          "REVERTED_count"
         ],
         "y": [
          0.0799783285849501,
          0.07076508911332721,
          0.06937734510698204,
          0.05571788693158851,
          0.04989237885553984,
          0.04350719127447327,
          0.042659814221767005,
          0.04221024725208786,
          0.040904816290540706,
          0.04012278397154472,
          0.039607683675136174,
          0.03842109561190603,
          0.03328327001355974,
          0.03300338719917228,
          0.029196926821512644,
          0.028475590132375047,
          0.028174632751993632,
          0.026714010894995904,
          0.026242260485588986,
          0.022982610612620316
         ]
        }
       ],
       "layout": {
        "autosize": false,
        "font": {
         "color": "white",
         "family": "Courier New, monospace",
         "size": 12
        },
        "height": 600,
        "template": {
         "data": {
          "bar": [
           {
            "error_x": {
             "color": "#2a3f5f"
            },
            "error_y": {
             "color": "#2a3f5f"
            },
            "marker": {
             "line": {
              "color": "#E5ECF6",
              "width": 0.5
             }
            },
            "type": "bar"
           }
          ],
          "barpolar": [
           {
            "marker": {
             "line": {
              "color": "#E5ECF6",
              "width": 0.5
             }
            },
            "type": "barpolar"
           }
          ],
          "carpet": [
           {
            "aaxis": {
             "endlinecolor": "#2a3f5f",
             "gridcolor": "white",
             "linecolor": "white",
             "minorgridcolor": "white",
             "startlinecolor": "#2a3f5f"
            },
            "baxis": {
             "endlinecolor": "#2a3f5f",
             "gridcolor": "white",
             "linecolor": "white",
             "minorgridcolor": "white",
             "startlinecolor": "#2a3f5f"
            },
            "type": "carpet"
           }
          ],
          "choropleth": [
           {
            "colorbar": {
             "outlinewidth": 0,
             "ticks": ""
            },
            "type": "choropleth"
           }
          ],
          "contour": [
           {
            "colorbar": {
             "outlinewidth": 0,
             "ticks": ""
            },
            "colorscale": [
             [
              0,
              "#0d0887"
             ],
             [
              0.1111111111111111,
              "#46039f"
             ],
             [
              0.2222222222222222,
              "#7201a8"
             ],
             [
              0.3333333333333333,
              "#9c179e"
             ],
             [
              0.4444444444444444,
              "#bd3786"
             ],
             [
              0.5555555555555556,
              "#d8576b"
             ],
             [
              0.6666666666666666,
              "#ed7953"
             ],
             [
              0.7777777777777778,
              "#fb9f3a"
             ],
             [
              0.8888888888888888,
              "#fdca26"
             ],
             [
              1,
              "#f0f921"
             ]
            ],
            "type": "contour"
           }
          ],
          "contourcarpet": [
           {
            "colorbar": {
             "outlinewidth": 0,
             "ticks": ""
            },
            "type": "contourcarpet"
           }
          ],
          "heatmap": [
           {
            "colorbar": {
             "outlinewidth": 0,
             "ticks": ""
            },
            "colorscale": [
             [
              0,
              "#0d0887"
             ],
             [
              0.1111111111111111,
              "#46039f"
             ],
             [
              0.2222222222222222,
              "#7201a8"
             ],
             [
              0.3333333333333333,
              "#9c179e"
             ],
             [
              0.4444444444444444,
              "#bd3786"
             ],
             [
              0.5555555555555556,
              "#d8576b"
             ],
             [
              0.6666666666666666,
              "#ed7953"
             ],
             [
              0.7777777777777778,
              "#fb9f3a"
             ],
             [
              0.8888888888888888,
              "#fdca26"
             ],
             [
              1,
              "#f0f921"
             ]
            ],
            "type": "heatmap"
           }
          ],
          "heatmapgl": [
           {
            "colorbar": {
             "outlinewidth": 0,
             "ticks": ""
            },
            "colorscale": [
             [
              0,
              "#0d0887"
             ],
             [
              0.1111111111111111,
              "#46039f"
             ],
             [
              0.2222222222222222,
              "#7201a8"
             ],
             [
              0.3333333333333333,
              "#9c179e"
             ],
             [
              0.4444444444444444,
              "#bd3786"
             ],
             [
              0.5555555555555556,
              "#d8576b"
             ],
             [
              0.6666666666666666,
              "#ed7953"
             ],
             [
              0.7777777777777778,
              "#fb9f3a"
             ],
             [
              0.8888888888888888,
              "#fdca26"
             ],
             [
              1,
              "#f0f921"
             ]
            ],
            "type": "heatmapgl"
           }
          ],
          "histogram": [
           {
            "marker": {
             "colorbar": {
              "outlinewidth": 0,
              "ticks": ""
             }
            },
            "type": "histogram"
           }
          ],
          "histogram2d": [
           {
            "colorbar": {
             "outlinewidth": 0,
             "ticks": ""
            },
            "colorscale": [
             [
              0,
              "#0d0887"
             ],
             [
              0.1111111111111111,
              "#46039f"
             ],
             [
              0.2222222222222222,
              "#7201a8"
             ],
             [
              0.3333333333333333,
              "#9c179e"
             ],
             [
              0.4444444444444444,
              "#bd3786"
             ],
             [
              0.5555555555555556,
              "#d8576b"
             ],
             [
              0.6666666666666666,
              "#ed7953"
             ],
             [
              0.7777777777777778,
              "#fb9f3a"
             ],
             [
              0.8888888888888888,
              "#fdca26"
             ],
             [
              1,
              "#f0f921"
             ]
            ],
            "type": "histogram2d"
           }
          ],
          "histogram2dcontour": [
           {
            "colorbar": {
             "outlinewidth": 0,
             "ticks": ""
            },
            "colorscale": [
             [
              0,
              "#0d0887"
             ],
             [
              0.1111111111111111,
              "#46039f"
             ],
             [
              0.2222222222222222,
              "#7201a8"
             ],
             [
              0.3333333333333333,
              "#9c179e"
             ],
             [
              0.4444444444444444,
              "#bd3786"
             ],
             [
              0.5555555555555556,
              "#d8576b"
             ],
             [
              0.6666666666666666,
              "#ed7953"
             ],
             [
              0.7777777777777778,
              "#fb9f3a"
             ],
             [
              0.8888888888888888,
              "#fdca26"
             ],
             [
              1,
              "#f0f921"
             ]
            ],
            "type": "histogram2dcontour"
           }
          ],
          "mesh3d": [
           {
            "colorbar": {
             "outlinewidth": 0,
             "ticks": ""
            },
            "type": "mesh3d"
           }
          ],
          "parcoords": [
           {
            "line": {
             "colorbar": {
              "outlinewidth": 0,
              "ticks": ""
             }
            },
            "type": "parcoords"
           }
          ],
          "pie": [
           {
            "automargin": true,
            "type": "pie"
           }
          ],
          "scatter": [
           {
            "marker": {
             "colorbar": {
              "outlinewidth": 0,
              "ticks": ""
             }
            },
            "type": "scatter"
           }
          ],
          "scatter3d": [
           {
            "line": {
             "colorbar": {
              "outlinewidth": 0,
              "ticks": ""
             }
            },
            "marker": {
             "colorbar": {
              "outlinewidth": 0,
              "ticks": ""
             }
            },
            "type": "scatter3d"
           }
          ],
          "scattercarpet": [
           {
            "marker": {
             "colorbar": {
              "outlinewidth": 0,
              "ticks": ""
             }
            },
            "type": "scattercarpet"
           }
          ],
          "scattergeo": [
           {
            "marker": {
             "colorbar": {
              "outlinewidth": 0,
              "ticks": ""
             }
            },
            "type": "scattergeo"
           }
          ],
          "scattergl": [
           {
            "marker": {
             "colorbar": {
              "outlinewidth": 0,
              "ticks": ""
             }
            },
            "type": "scattergl"
           }
          ],
          "scattermapbox": [
           {
            "marker": {
             "colorbar": {
              "outlinewidth": 0,
              "ticks": ""
             }
            },
            "type": "scattermapbox"
           }
          ],
          "scatterpolar": [
           {
            "marker": {
             "colorbar": {
              "outlinewidth": 0,
              "ticks": ""
             }
            },
            "type": "scatterpolar"
           }
          ],
          "scatterpolargl": [
           {
            "marker": {
             "colorbar": {
              "outlinewidth": 0,
              "ticks": ""
             }
            },
            "type": "scatterpolargl"
           }
          ],
          "scatterternary": [
           {
            "marker": {
             "colorbar": {
              "outlinewidth": 0,
              "ticks": ""
             }
            },
            "type": "scatterternary"
           }
          ],
          "surface": [
           {
            "colorbar": {
             "outlinewidth": 0,
             "ticks": ""
            },
            "colorscale": [
             [
              0,
              "#0d0887"
             ],
             [
              0.1111111111111111,
              "#46039f"
             ],
             [
              0.2222222222222222,
              "#7201a8"
             ],
             [
              0.3333333333333333,
              "#9c179e"
             ],
             [
              0.4444444444444444,
              "#bd3786"
             ],
             [
              0.5555555555555556,
              "#d8576b"
             ],
             [
              0.6666666666666666,
              "#ed7953"
             ],
             [
              0.7777777777777778,
              "#fb9f3a"
             ],
             [
              0.8888888888888888,
              "#fdca26"
             ],
             [
              1,
              "#f0f921"
             ]
            ],
            "type": "surface"
           }
          ],
          "table": [
           {
            "cells": {
             "fill": {
              "color": "#EBF0F8"
             },
             "line": {
              "color": "white"
             }
            },
            "header": {
             "fill": {
              "color": "#C8D4E3"
             },
             "line": {
              "color": "white"
             }
            },
            "type": "table"
           }
          ]
         },
         "layout": {
          "annotationdefaults": {
           "arrowcolor": "#2a3f5f",
           "arrowhead": 0,
           "arrowwidth": 1
          },
          "coloraxis": {
           "colorbar": {
            "outlinewidth": 0,
            "ticks": ""
           }
          },
          "colorscale": {
           "diverging": [
            [
             0,
             "#8e0152"
            ],
            [
             0.1,
             "#c51b7d"
            ],
            [
             0.2,
             "#de77ae"
            ],
            [
             0.3,
             "#f1b6da"
            ],
            [
             0.4,
             "#fde0ef"
            ],
            [
             0.5,
             "#f7f7f7"
            ],
            [
             0.6,
             "#e6f5d0"
            ],
            [
             0.7,
             "#b8e186"
            ],
            [
             0.8,
             "#7fbc41"
            ],
            [
             0.9,
             "#4d9221"
            ],
            [
             1,
             "#276419"
            ]
           ],
           "sequential": [
            [
             0,
             "#0d0887"
            ],
            [
             0.1111111111111111,
             "#46039f"
            ],
            [
             0.2222222222222222,
             "#7201a8"
            ],
            [
             0.3333333333333333,
             "#9c179e"
            ],
            [
             0.4444444444444444,
             "#bd3786"
            ],
            [
             0.5555555555555556,
             "#d8576b"
            ],
            [
             0.6666666666666666,
             "#ed7953"
            ],
            [
             0.7777777777777778,
             "#fb9f3a"
            ],
            [
             0.8888888888888888,
             "#fdca26"
            ],
            [
             1,
             "#f0f921"
            ]
           ],
           "sequentialminus": [
            [
             0,
             "#0d0887"
            ],
            [
             0.1111111111111111,
             "#46039f"
            ],
            [
             0.2222222222222222,
             "#7201a8"
            ],
            [
             0.3333333333333333,
             "#9c179e"
            ],
            [
             0.4444444444444444,
             "#bd3786"
            ],
            [
             0.5555555555555556,
             "#d8576b"
            ],
            [
             0.6666666666666666,
             "#ed7953"
            ],
            [
             0.7777777777777778,
             "#fb9f3a"
            ],
            [
             0.8888888888888888,
             "#fdca26"
            ],
            [
             1,
             "#f0f921"
            ]
           ]
          },
          "colorway": [
           "#636efa",
           "#EF553B",
           "#00cc96",
           "#ab63fa",
           "#FFA15A",
           "#19d3f3",
           "#FF6692",
           "#B6E880",
           "#FF97FF",
           "#FECB52"
          ],
          "font": {
           "color": "#2a3f5f"
          },
          "geo": {
           "bgcolor": "white",
           "lakecolor": "white",
           "landcolor": "#E5ECF6",
           "showlakes": true,
           "showland": true,
           "subunitcolor": "white"
          },
          "hoverlabel": {
           "align": "left"
          },
          "hovermode": "closest",
          "mapbox": {
           "style": "light"
          },
          "paper_bgcolor": "white",
          "plot_bgcolor": "#E5ECF6",
          "polar": {
           "angularaxis": {
            "gridcolor": "white",
            "linecolor": "white",
            "ticks": ""
           },
           "bgcolor": "#E5ECF6",
           "radialaxis": {
            "gridcolor": "white",
            "linecolor": "white",
            "ticks": ""
           }
          },
          "scene": {
           "xaxis": {
            "backgroundcolor": "#E5ECF6",
            "gridcolor": "white",
            "gridwidth": 2,
            "linecolor": "white",
            "showbackground": true,
            "ticks": "",
            "zerolinecolor": "white"
           },
           "yaxis": {
            "backgroundcolor": "#E5ECF6",
            "gridcolor": "white",
            "gridwidth": 2,
            "linecolor": "white",
            "showbackground": true,
            "ticks": "",
            "zerolinecolor": "white"
           },
           "zaxis": {
            "backgroundcolor": "#E5ECF6",
            "gridcolor": "white",
            "gridwidth": 2,
            "linecolor": "white",
            "showbackground": true,
            "ticks": "",
            "zerolinecolor": "white"
           }
          },
          "shapedefaults": {
           "line": {
            "color": "#2a3f5f"
           }
          },
          "ternary": {
           "aaxis": {
            "gridcolor": "white",
            "linecolor": "white",
            "ticks": ""
           },
           "baxis": {
            "gridcolor": "white",
            "linecolor": "white",
            "ticks": ""
           },
           "bgcolor": "#E5ECF6",
           "caxis": {
            "gridcolor": "white",
            "linecolor": "white",
            "ticks": ""
           }
          },
          "title": {
           "x": 0.05
          },
          "xaxis": {
           "automargin": true,
           "gridcolor": "white",
           "linecolor": "white",
           "ticks": "",
           "title": {
            "standoff": 15
           },
           "zerolinecolor": "white",
           "zerolinewidth": 2
          },
          "yaxis": {
           "automargin": true,
           "gridcolor": "white",
           "linecolor": "white",
           "ticks": "",
           "title": {
            "standoff": 15
           },
           "zerolinecolor": "white",
           "zerolinewidth": 2
          }
         }
        },
        "title": {
         "font": {
          "color": "black",
          "family": "Courier New, monospace",
          "size": 14
         },
         "text": "Distribution of Column column"
        },
        "width": 800,
        "xaxis": {
         "tickfont": {
          "color": "black",
          "family": "Courier New, monospace",
          "size": 14
         }
        },
        "yaxis": {
         "tickfont": {
          "color": "black",
          "family": "Courier New, monospace",
          "size": 14
         },
         "title": {
          "font": {
           "color": "black",
           "size": 14
          },
          "text": "Percentage"
         }
        }
       }
      },
      "text/html": [
       "<div>\n",
       "        \n",
       "        \n",
       "            <div id=\"e990bef7-49f5-4bc8-9a68-214b2b127a29\" class=\"plotly-graph-div\" style=\"height:600px; width:800px;\"></div>\n",
       "            <script type=\"text/javascript\">\n",
       "                require([\"plotly\"], function(Plotly) {\n",
       "                    window.PLOTLYENV=window.PLOTLYENV || {};\n",
       "                    \n",
       "                if (document.getElementById(\"e990bef7-49f5-4bc8-9a68-214b2b127a29\")) {\n",
       "                    Plotly.newPlot(\n",
       "                        'e990bef7-49f5-4bc8-9a68-214b2b127a29',\n",
       "                        [{\"marker\": {\"color\": \"#0047AB\"}, \"text\": [\"0.08%\", \"0.07%\", \"0.07%\", \"0.06%\", \"0.05%\", \"0.04%\", \"0.04%\", \"0.04%\", \"0.04%\", \"0.04%\", \"0.04%\", \"0.04%\", \"0.03%\", \"0.03%\", \"0.03%\", \"0.03%\", \"0.03%\", \"0.03%\", \"0.03%\", \"0.02%\"], \"textposition\": \"auto\", \"type\": \"bar\", \"x\": [\"COMPLETED_count\", \"OUTBOUND_count\", \"num_notified_180\", \"INBOUND_count\", \"num_contacts\", \"median_usd\", \"num_transactions_Sun\", \"num_transactions_Fri\", \"min_usd\", \"DECLINED_count\", \"age\", \"num_transactions_Sat\", \"mean_usd\", \"num_transactions_Mon\", \"num_reasons_com\", \"num_transactions_Thu\", \"num_transactions_Tue\", \"num_notified_90\", \"num_transactions_Wed\", \"REVERTED_count\"], \"y\": [0.0799783285849501, 0.07076508911332721, 0.06937734510698204, 0.05571788693158851, 0.04989237885553984, 0.04350719127447327, 0.042659814221767005, 0.04221024725208786, 0.040904816290540706, 0.04012278397154472, 0.039607683675136174, 0.03842109561190603, 0.03328327001355974, 0.03300338719917228, 0.029196926821512644, 0.028475590132375047, 0.028174632751993632, 0.026714010894995904, 0.026242260485588986, 0.022982610612620316]}],\n",
       "                        {\"autosize\": false, \"font\": {\"color\": \"white\", \"family\": \"Courier New, monospace\", \"size\": 12}, \"height\": 600, \"template\": {\"data\": {\"bar\": [{\"error_x\": {\"color\": \"#2a3f5f\"}, \"error_y\": {\"color\": \"#2a3f5f\"}, \"marker\": {\"line\": {\"color\": \"#E5ECF6\", \"width\": 0.5}}, \"type\": \"bar\"}], \"barpolar\": [{\"marker\": {\"line\": {\"color\": \"#E5ECF6\", \"width\": 0.5}}, \"type\": \"barpolar\"}], \"carpet\": [{\"aaxis\": {\"endlinecolor\": \"#2a3f5f\", \"gridcolor\": \"white\", \"linecolor\": \"white\", \"minorgridcolor\": \"white\", \"startlinecolor\": \"#2a3f5f\"}, \"baxis\": {\"endlinecolor\": \"#2a3f5f\", \"gridcolor\": \"white\", \"linecolor\": \"white\", \"minorgridcolor\": \"white\", \"startlinecolor\": \"#2a3f5f\"}, \"type\": \"carpet\"}], \"choropleth\": [{\"colorbar\": {\"outlinewidth\": 0, \"ticks\": \"\"}, \"type\": \"choropleth\"}], \"contour\": [{\"colorbar\": {\"outlinewidth\": 0, \"ticks\": \"\"}, \"colorscale\": [[0.0, \"#0d0887\"], [0.1111111111111111, \"#46039f\"], [0.2222222222222222, \"#7201a8\"], [0.3333333333333333, \"#9c179e\"], [0.4444444444444444, \"#bd3786\"], [0.5555555555555556, \"#d8576b\"], [0.6666666666666666, \"#ed7953\"], [0.7777777777777778, \"#fb9f3a\"], [0.8888888888888888, \"#fdca26\"], [1.0, \"#f0f921\"]], \"type\": \"contour\"}], \"contourcarpet\": [{\"colorbar\": {\"outlinewidth\": 0, \"ticks\": \"\"}, \"type\": \"contourcarpet\"}], \"heatmap\": [{\"colorbar\": {\"outlinewidth\": 0, \"ticks\": \"\"}, \"colorscale\": [[0.0, \"#0d0887\"], [0.1111111111111111, \"#46039f\"], [0.2222222222222222, \"#7201a8\"], [0.3333333333333333, \"#9c179e\"], [0.4444444444444444, \"#bd3786\"], [0.5555555555555556, \"#d8576b\"], [0.6666666666666666, \"#ed7953\"], [0.7777777777777778, \"#fb9f3a\"], [0.8888888888888888, \"#fdca26\"], [1.0, \"#f0f921\"]], \"type\": \"heatmap\"}], \"heatmapgl\": [{\"colorbar\": {\"outlinewidth\": 0, \"ticks\": \"\"}, \"colorscale\": [[0.0, \"#0d0887\"], [0.1111111111111111, \"#46039f\"], [0.2222222222222222, \"#7201a8\"], [0.3333333333333333, \"#9c179e\"], [0.4444444444444444, \"#bd3786\"], [0.5555555555555556, \"#d8576b\"], [0.6666666666666666, \"#ed7953\"], [0.7777777777777778, \"#fb9f3a\"], [0.8888888888888888, \"#fdca26\"], [1.0, \"#f0f921\"]], \"type\": \"heatmapgl\"}], \"histogram\": [{\"marker\": {\"colorbar\": {\"outlinewidth\": 0, \"ticks\": \"\"}}, \"type\": \"histogram\"}], \"histogram2d\": [{\"colorbar\": {\"outlinewidth\": 0, \"ticks\": \"\"}, \"colorscale\": [[0.0, \"#0d0887\"], [0.1111111111111111, \"#46039f\"], [0.2222222222222222, \"#7201a8\"], [0.3333333333333333, \"#9c179e\"], [0.4444444444444444, \"#bd3786\"], [0.5555555555555556, \"#d8576b\"], [0.6666666666666666, \"#ed7953\"], [0.7777777777777778, \"#fb9f3a\"], [0.8888888888888888, \"#fdca26\"], [1.0, \"#f0f921\"]], \"type\": \"histogram2d\"}], \"histogram2dcontour\": [{\"colorbar\": {\"outlinewidth\": 0, \"ticks\": \"\"}, \"colorscale\": [[0.0, \"#0d0887\"], [0.1111111111111111, \"#46039f\"], [0.2222222222222222, \"#7201a8\"], [0.3333333333333333, \"#9c179e\"], [0.4444444444444444, \"#bd3786\"], [0.5555555555555556, \"#d8576b\"], [0.6666666666666666, \"#ed7953\"], [0.7777777777777778, \"#fb9f3a\"], [0.8888888888888888, \"#fdca26\"], [1.0, \"#f0f921\"]], \"type\": \"histogram2dcontour\"}], \"mesh3d\": [{\"colorbar\": {\"outlinewidth\": 0, \"ticks\": \"\"}, \"type\": \"mesh3d\"}], \"parcoords\": [{\"line\": {\"colorbar\": {\"outlinewidth\": 0, \"ticks\": \"\"}}, \"type\": \"parcoords\"}], \"pie\": [{\"automargin\": true, \"type\": \"pie\"}], \"scatter\": [{\"marker\": {\"colorbar\": {\"outlinewidth\": 0, \"ticks\": \"\"}}, \"type\": \"scatter\"}], \"scatter3d\": [{\"line\": {\"colorbar\": {\"outlinewidth\": 0, \"ticks\": \"\"}}, \"marker\": {\"colorbar\": {\"outlinewidth\": 0, \"ticks\": \"\"}}, \"type\": \"scatter3d\"}], \"scattercarpet\": [{\"marker\": {\"colorbar\": {\"outlinewidth\": 0, \"ticks\": \"\"}}, \"type\": \"scattercarpet\"}], \"scattergeo\": [{\"marker\": {\"colorbar\": {\"outlinewidth\": 0, \"ticks\": \"\"}}, \"type\": \"scattergeo\"}], \"scattergl\": [{\"marker\": {\"colorbar\": {\"outlinewidth\": 0, \"ticks\": \"\"}}, \"type\": \"scattergl\"}], \"scattermapbox\": [{\"marker\": {\"colorbar\": {\"outlinewidth\": 0, \"ticks\": \"\"}}, \"type\": \"scattermapbox\"}], \"scatterpolar\": [{\"marker\": {\"colorbar\": {\"outlinewidth\": 0, \"ticks\": \"\"}}, \"type\": \"scatterpolar\"}], \"scatterpolargl\": [{\"marker\": {\"colorbar\": {\"outlinewidth\": 0, \"ticks\": \"\"}}, \"type\": \"scatterpolargl\"}], \"scatterternary\": [{\"marker\": {\"colorbar\": {\"outlinewidth\": 0, \"ticks\": \"\"}}, \"type\": \"scatterternary\"}], \"surface\": [{\"colorbar\": {\"outlinewidth\": 0, \"ticks\": \"\"}, \"colorscale\": [[0.0, \"#0d0887\"], [0.1111111111111111, \"#46039f\"], [0.2222222222222222, \"#7201a8\"], [0.3333333333333333, \"#9c179e\"], [0.4444444444444444, \"#bd3786\"], [0.5555555555555556, \"#d8576b\"], [0.6666666666666666, \"#ed7953\"], [0.7777777777777778, \"#fb9f3a\"], [0.8888888888888888, \"#fdca26\"], [1.0, \"#f0f921\"]], \"type\": \"surface\"}], \"table\": [{\"cells\": {\"fill\": {\"color\": \"#EBF0F8\"}, \"line\": {\"color\": \"white\"}}, \"header\": {\"fill\": {\"color\": \"#C8D4E3\"}, \"line\": {\"color\": \"white\"}}, \"type\": \"table\"}]}, \"layout\": {\"annotationdefaults\": {\"arrowcolor\": \"#2a3f5f\", \"arrowhead\": 0, \"arrowwidth\": 1}, \"coloraxis\": {\"colorbar\": {\"outlinewidth\": 0, \"ticks\": \"\"}}, \"colorscale\": {\"diverging\": [[0, \"#8e0152\"], [0.1, \"#c51b7d\"], [0.2, \"#de77ae\"], [0.3, \"#f1b6da\"], [0.4, \"#fde0ef\"], [0.5, \"#f7f7f7\"], [0.6, \"#e6f5d0\"], [0.7, \"#b8e186\"], [0.8, \"#7fbc41\"], [0.9, \"#4d9221\"], [1, \"#276419\"]], \"sequential\": [[0.0, \"#0d0887\"], [0.1111111111111111, \"#46039f\"], [0.2222222222222222, \"#7201a8\"], [0.3333333333333333, \"#9c179e\"], [0.4444444444444444, \"#bd3786\"], [0.5555555555555556, \"#d8576b\"], [0.6666666666666666, \"#ed7953\"], [0.7777777777777778, \"#fb9f3a\"], [0.8888888888888888, \"#fdca26\"], [1.0, \"#f0f921\"]], \"sequentialminus\": [[0.0, \"#0d0887\"], [0.1111111111111111, \"#46039f\"], [0.2222222222222222, \"#7201a8\"], [0.3333333333333333, \"#9c179e\"], [0.4444444444444444, \"#bd3786\"], [0.5555555555555556, \"#d8576b\"], [0.6666666666666666, \"#ed7953\"], [0.7777777777777778, \"#fb9f3a\"], [0.8888888888888888, \"#fdca26\"], [1.0, \"#f0f921\"]]}, \"colorway\": [\"#636efa\", \"#EF553B\", \"#00cc96\", \"#ab63fa\", \"#FFA15A\", \"#19d3f3\", \"#FF6692\", \"#B6E880\", \"#FF97FF\", \"#FECB52\"], \"font\": {\"color\": \"#2a3f5f\"}, \"geo\": {\"bgcolor\": \"white\", \"lakecolor\": \"white\", \"landcolor\": \"#E5ECF6\", \"showlakes\": true, \"showland\": true, \"subunitcolor\": \"white\"}, \"hoverlabel\": {\"align\": \"left\"}, \"hovermode\": \"closest\", \"mapbox\": {\"style\": \"light\"}, \"paper_bgcolor\": \"white\", \"plot_bgcolor\": \"#E5ECF6\", \"polar\": {\"angularaxis\": {\"gridcolor\": \"white\", \"linecolor\": \"white\", \"ticks\": \"\"}, \"bgcolor\": \"#E5ECF6\", \"radialaxis\": {\"gridcolor\": \"white\", \"linecolor\": \"white\", \"ticks\": \"\"}}, \"scene\": {\"xaxis\": {\"backgroundcolor\": \"#E5ECF6\", \"gridcolor\": \"white\", \"gridwidth\": 2, \"linecolor\": \"white\", \"showbackground\": true, \"ticks\": \"\", \"zerolinecolor\": \"white\"}, \"yaxis\": {\"backgroundcolor\": \"#E5ECF6\", \"gridcolor\": \"white\", \"gridwidth\": 2, \"linecolor\": \"white\", \"showbackground\": true, \"ticks\": \"\", \"zerolinecolor\": \"white\"}, \"zaxis\": {\"backgroundcolor\": \"#E5ECF6\", \"gridcolor\": \"white\", \"gridwidth\": 2, \"linecolor\": \"white\", \"showbackground\": true, \"ticks\": \"\", \"zerolinecolor\": \"white\"}}, \"shapedefaults\": {\"line\": {\"color\": \"#2a3f5f\"}}, \"ternary\": {\"aaxis\": {\"gridcolor\": \"white\", \"linecolor\": \"white\", \"ticks\": \"\"}, \"baxis\": {\"gridcolor\": \"white\", \"linecolor\": \"white\", \"ticks\": \"\"}, \"bgcolor\": \"#E5ECF6\", \"caxis\": {\"gridcolor\": \"white\", \"linecolor\": \"white\", \"ticks\": \"\"}}, \"title\": {\"x\": 0.05}, \"xaxis\": {\"automargin\": true, \"gridcolor\": \"white\", \"linecolor\": \"white\", \"ticks\": \"\", \"title\": {\"standoff\": 15}, \"zerolinecolor\": \"white\", \"zerolinewidth\": 2}, \"yaxis\": {\"automargin\": true, \"gridcolor\": \"white\", \"linecolor\": \"white\", \"ticks\": \"\", \"title\": {\"standoff\": 15}, \"zerolinecolor\": \"white\", \"zerolinewidth\": 2}}}, \"title\": {\"font\": {\"color\": \"black\", \"family\": \"Courier New, monospace\", \"size\": 14}, \"text\": \"Distribution of Column column\"}, \"width\": 800, \"xaxis\": {\"tickfont\": {\"color\": \"black\", \"family\": \"Courier New, monospace\", \"size\": 14}}, \"yaxis\": {\"tickfont\": {\"color\": \"black\", \"family\": \"Courier New, monospace\", \"size\": 14}, \"title\": {\"font\": {\"color\": \"black\", \"size\": 14}, \"text\": \"Percentage\"}}},\n",
       "                        {\"responsive\": true}\n",
       "                    ).then(function(){\n",
       "                            \n",
       "var gd = document.getElementById('e990bef7-49f5-4bc8-9a68-214b2b127a29');\n",
       "var x = new MutationObserver(function (mutations, observer) {{\n",
       "        var display = window.getComputedStyle(gd).display;\n",
       "        if (!display || display === 'none') {{\n",
       "            console.log([gd, 'removed!']);\n",
       "            Plotly.purge(gd);\n",
       "            observer.disconnect();\n",
       "        }}\n",
       "}});\n",
       "\n",
       "// Listen for the removal of the full notebook cells\n",
       "var notebookContainer = gd.closest('#notebook-container');\n",
       "if (notebookContainer) {{\n",
       "    x.observe(notebookContainer, {childList: true});\n",
       "}}\n",
       "\n",
       "// Listen for the clearing of the current output cell\n",
       "var outputEl = gd.closest('.output');\n",
       "if (outputEl) {{\n",
       "    x.observe(outputEl, {childList: true});\n",
       "}}\n",
       "\n",
       "                        })\n",
       "                };\n",
       "                });\n",
       "            </script>\n",
       "        </div>"
      ]
     },
     "metadata": {},
     "output_type": "display_data"
    }
   ],
   "source": [
    "plot_bar(feature_importances_df, \"Column\",\"Importance\" )"
   ]
  },
  {
   "cell_type": "markdown",
   "metadata": {},
   "source": [
    "### Random forest randomized search"
   ]
  },
  {
   "cell_type": "code",
   "execution_count": 174,
   "metadata": {},
   "outputs": [],
   "source": [
    "X_train = train.X_train\n",
    "y_train = train.y_train"
   ]
  },
  {
   "cell_type": "code",
   "execution_count": 186,
   "metadata": {},
   "outputs": [],
   "source": [
    "from sklearn.model_selection import RandomizedSearchCV\n",
    "# Number of trees in random forest\n",
    "n_estimators = list(range(30,300,10))\n",
    "# Number of features to consider at every split\n",
    "max_features = ['auto', 'sqrt']\n",
    "# Maximum number of levels in tree\n",
    "# max_depth = [int(x) for x in np.linspace(10, 100, num =5)]\n",
    "max_depth = []\n",
    "max_depth.append(None)\n",
    "# Minimum number of samples required to split a node\n",
    "min_samples_split = [2, 5, 10]\n",
    "# Minimum number of samples required at each leaf node\n",
    "min_samples_leaf = [1, 2, 4]\n",
    "# Method of selecting samples for training each tree\n",
    "bootstrap = [True, False]\n",
    "# Create the random grid\n",
    "random_grid = {'n_estimators': n_estimators,\n",
    "               'max_features': max_features,\n",
    "               'max_depth': max_depth,\n",
    "               'min_samples_split': min_samples_split,\n",
    "               'min_samples_leaf': min_samples_leaf,\n",
    "               'bootstrap': bootstrap}\n"
   ]
  },
  {
   "cell_type": "code",
   "execution_count": 187,
   "metadata": {},
   "outputs": [
    {
     "name": "stdout",
     "output_type": "stream",
     "text": [
      "{'n_estimators': [30, 40, 50, 60, 70, 80, 90, 100, 110, 120, 130, 140, 150, 160, 170, 180, 190, 200, 210, 220, 230, 240, 250, 260, 270, 280, 290], 'max_features': ['auto', 'sqrt'], 'max_depth': [None], 'min_samples_split': [2, 5, 10], 'min_samples_leaf': [1, 2, 4], 'bootstrap': [True, False]}\n"
     ]
    }
   ],
   "source": [
    "print(random_grid)"
   ]
  },
  {
   "cell_type": "code",
   "execution_count": 189,
   "metadata": {},
   "outputs": [
    {
     "name": "stdout",
     "output_type": "stream",
     "text": [
      "Fitting 3 folds for each of 100 candidates, totalling 300 fits\n"
     ]
    },
    {
     "name": "stderr",
     "output_type": "stream",
     "text": [
      "[Parallel(n_jobs=-1)]: Using backend LokyBackend with 4 concurrent workers.\n",
      "[Parallel(n_jobs=-1)]: Done  33 tasks      | elapsed:   53.6s\n",
      "[Parallel(n_jobs=-1)]: Done 154 tasks      | elapsed:  2.9min\n",
      "[Parallel(n_jobs=-1)]: Done 300 out of 300 | elapsed:  5.6min finished\n",
      "C:\\Users\\chait\\Anaconda3\\lib\\site-packages\\sklearn\\model_selection\\_search.py:739: DataConversionWarning:\n",
      "\n",
      "A column-vector y was passed when a 1d array was expected. Please change the shape of y to (n_samples,), for example using ravel().\n",
      "\n"
     ]
    },
    {
     "name": "stdout",
     "output_type": "stream",
     "text": [
      "Wall time: 5min 43s\n"
     ]
    },
    {
     "data": {
      "text/plain": [
       "RandomizedSearchCV(cv=3, error_score=nan,\n",
       "                   estimator=RandomForestClassifier(bootstrap=True,\n",
       "                                                    ccp_alpha=0.0,\n",
       "                                                    class_weight=None,\n",
       "                                                    criterion='gini',\n",
       "                                                    max_depth=None,\n",
       "                                                    max_features='auto',\n",
       "                                                    max_leaf_nodes=None,\n",
       "                                                    max_samples=None,\n",
       "                                                    min_impurity_decrease=0.0,\n",
       "                                                    min_impurity_split=None,\n",
       "                                                    min_samples_leaf=1,\n",
       "                                                    min_samples_split=2,\n",
       "                                                    min_weight_fraction_leaf=0.0,\n",
       "                                                    n_estimators=100,\n",
       "                                                    n_jobs...\n",
       "                   param_distributions={'bootstrap': [True, False],\n",
       "                                        'max_depth': [None],\n",
       "                                        'max_features': ['auto', 'sqrt'],\n",
       "                                        'min_samples_leaf': [1, 2, 4],\n",
       "                                        'min_samples_split': [2, 5, 10],\n",
       "                                        'n_estimators': [30, 40, 50, 60, 70, 80,\n",
       "                                                         90, 100, 110, 120, 130,\n",
       "                                                         140, 150, 160, 170,\n",
       "                                                         180, 190, 200, 210,\n",
       "                                                         220, 230, 240, 250,\n",
       "                                                         260, 270, 280, 290]},\n",
       "                   pre_dispatch='2*n_jobs', random_state=42, refit=True,\n",
       "                   return_train_score=False, scoring=None, verbose=2)"
      ]
     },
     "execution_count": 189,
     "metadata": {},
     "output_type": "execute_result"
    }
   ],
   "source": [
    "%%time\n",
    "rf = RandomForestClassifier()\n",
    "\n",
    "rf_random = RandomizedSearchCV(estimator = rf, param_distributions = random_grid, n_iter = 100, cv = 3, verbose=2, random_state=42, n_jobs = -1)\n",
    "# Fit the random search model\n",
    "rf_random.fit(X_train, y_train)"
   ]
  },
  {
   "cell_type": "markdown",
   "metadata": {},
   "source": [
    "#### Best estimator from the random search"
   ]
  },
  {
   "cell_type": "code",
   "execution_count": 190,
   "metadata": {},
   "outputs": [],
   "source": [
    "best_random = rf_random.best_estimator_"
   ]
  },
  {
   "cell_type": "code",
   "execution_count": 191,
   "metadata": {},
   "outputs": [
    {
     "data": {
      "text/plain": [
       "RandomForestClassifier(bootstrap=False, ccp_alpha=0.0, class_weight=None,\n",
       "                       criterion='gini', max_depth=None, max_features='sqrt',\n",
       "                       max_leaf_nodes=None, max_samples=None,\n",
       "                       min_impurity_decrease=0.0, min_impurity_split=None,\n",
       "                       min_samples_leaf=2, min_samples_split=5,\n",
       "                       min_weight_fraction_leaf=0.0, n_estimators=210,\n",
       "                       n_jobs=None, oob_score=False, random_state=None,\n",
       "                       verbose=0, warm_start=False)"
      ]
     },
     "execution_count": 191,
     "metadata": {},
     "output_type": "execute_result"
    }
   ],
   "source": [
    "best_random"
   ]
  },
  {
   "cell_type": "markdown",
   "metadata": {},
   "source": [
    "#### Best estimator performance"
   ]
  },
  {
   "cell_type": "code",
   "execution_count": 192,
   "metadata": {},
   "outputs": [
    {
     "name": "stderr",
     "output_type": "stream",
     "text": [
      "C:\\Users\\chait\\Anaconda3\\lib\\site-packages\\sklearn\\pipeline.py:354: DataConversionWarning:\n",
      "\n",
      "A column-vector y was passed when a 1d array was expected. Please change the shape of y to (n_samples,), for example using ravel().\n",
      "\n",
      "C:\\Users\\chait\\Anaconda3\\lib\\site-packages\\sklearn\\metrics\\_classification.py:1321: UserWarning:\n",
      "\n",
      "Note that pos_label (set to 'NOT_ENGAGED') is ignored when average != 'binary' (got 'macro'). You may use labels=[pos_label] to specify a single positive class.\n",
      "\n"
     ]
    }
   ],
   "source": [
    "_,_, model_performance= train.apply_model_predict_validate(best_random)"
   ]
  },
  {
   "cell_type": "code",
   "execution_count": 193,
   "metadata": {},
   "outputs": [
    {
     "data": {
      "text/html": [
       "<div>\n",
       "<style scoped>\n",
       "    .dataframe tbody tr th:only-of-type {\n",
       "        vertical-align: middle;\n",
       "    }\n",
       "\n",
       "    .dataframe tbody tr th {\n",
       "        vertical-align: top;\n",
       "    }\n",
       "\n",
       "    .dataframe thead th {\n",
       "        text-align: right;\n",
       "    }\n",
       "</style>\n",
       "<table border=\"1\" class=\"dataframe\">\n",
       "  <thead>\n",
       "    <tr style=\"text-align: right;\">\n",
       "      <th></th>\n",
       "      <th>train</th>\n",
       "      <th>validation</th>\n",
       "      <th>model_obj</th>\n",
       "    </tr>\n",
       "  </thead>\n",
       "  <tbody>\n",
       "    <tr>\n",
       "      <th>accuracy</th>\n",
       "      <td>0.999610</td>\n",
       "      <td>0.909487</td>\n",
       "      <td>Pipeline</td>\n",
       "    </tr>\n",
       "    <tr>\n",
       "      <th>f1_score</th>\n",
       "      <td>0.998556</td>\n",
       "      <td>0.621005</td>\n",
       "      <td>Pipeline</td>\n",
       "    </tr>\n",
       "    <tr>\n",
       "      <th>precision</th>\n",
       "      <td>NaN</td>\n",
       "      <td>NaN</td>\n",
       "      <td>Pipeline</td>\n",
       "    </tr>\n",
       "    <tr>\n",
       "      <th>recall</th>\n",
       "      <td>0.999044</td>\n",
       "      <td>0.744160</td>\n",
       "      <td>Pipeline</td>\n",
       "    </tr>\n",
       "  </tbody>\n",
       "</table>\n",
       "</div>"
      ],
      "text/plain": [
       "              train  validation model_obj\n",
       "accuracy   0.999610    0.909487  Pipeline\n",
       "f1_score   0.998556    0.621005  Pipeline\n",
       "precision       NaN         NaN  Pipeline\n",
       "recall     0.999044    0.744160  Pipeline"
      ]
     },
     "execution_count": 193,
     "metadata": {},
     "output_type": "execute_result"
    }
   ],
   "source": [
    "pd.DataFrame(model_performance)"
   ]
  },
  {
   "cell_type": "markdown",
   "metadata": {},
   "source": [
    "#### Model performance after grid search"
   ]
  },
  {
   "cell_type": "markdown",
   "metadata": {},
   "source": [
    "The recall of the best estimator using random search on train data is ~100% and validation is 74.4% this is also overfitting"
   ]
  }
 ],
 "metadata": {
  "kernelspec": {
   "display_name": "Python 3",
   "language": "python",
   "name": "python3"
  },
  "language_info": {
   "codemirror_mode": {
    "name": "ipython",
    "version": 3
   },
   "file_extension": ".py",
   "mimetype": "text/x-python",
   "name": "python",
   "nbconvert_exporter": "python",
   "pygments_lexer": "ipython3",
   "version": "3.7.3"
  },
  "toc": {
   "base_numbering": 1,
   "nav_menu": {},
   "number_sections": true,
   "sideBar": false,
   "skip_h1_title": true,
   "title_cell": "Table of Contents",
   "title_sidebar": "Contents",
   "toc_cell": true,
   "toc_position": {
    "height": "785px",
    "left": "10px",
    "top": "110px",
    "width": "259px"
   },
   "toc_section_display": true,
   "toc_window_display": true
  }
 },
 "nbformat": 4,
 "nbformat_minor": 2
}
