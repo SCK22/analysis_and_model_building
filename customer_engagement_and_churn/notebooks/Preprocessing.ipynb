{
 "cells": [
  {
   "cell_type": "markdown",
   "metadata": {
    "toc": true
   },
   "source": [
    "<h1>Table of Contents<span class=\"tocSkip\"></span></h1>\n",
    "<div class=\"toc\"><ul class=\"toc-item\"><li><ul class=\"toc-item\"><li><span><a href=\"#Checking-for-null-values\" data-toc-modified-id=\"Checking-for-null-values-0.1\"><span class=\"toc-item-num\">0.1&nbsp;&nbsp;</span>Checking for null values</a></span></li></ul></li><li><span><a href=\"#Master-table-creation\" data-toc-modified-id=\"Master-table-creation-1\"><span class=\"toc-item-num\">1&nbsp;&nbsp;</span>Master table creation</a></span></li><li><span><a href=\"#Users\" data-toc-modified-id=\"Users-2\"><span class=\"toc-item-num\">2&nbsp;&nbsp;</span>Users</a></span></li><li><span><a href=\"#Devices\" data-toc-modified-id=\"Devices-3\"><span class=\"toc-item-num\">3&nbsp;&nbsp;</span>Devices</a></span><ul class=\"toc-item\"><li><span><a href=\"#Merging-the-devices-data-with-users\" data-toc-modified-id=\"Merging-the-devices-data-with-users-3.1\"><span class=\"toc-item-num\">3.1&nbsp;&nbsp;</span>Merging the devices data with users</a></span></li><li><span><a href=\"#Notifications-dataset\" data-toc-modified-id=\"Notifications-dataset-3.2\"><span class=\"toc-item-num\">3.2&nbsp;&nbsp;</span>Notifications dataset</a></span><ul class=\"toc-item\"><li><span><a href=\"#Was-a-notification-sent-in-the-last-x-months?\" data-toc-modified-id=\"Was-a-notification-sent-in-the-last-x-months?-3.2.1\"><span class=\"toc-item-num\">3.2.1&nbsp;&nbsp;</span>Was a notification sent in the last x months?</a></span></li><li><span><a href=\"#Number-of-channels-of-communication\" data-toc-modified-id=\"Number-of-channels-of-communication-3.2.2\"><span class=\"toc-item-num\">3.2.2&nbsp;&nbsp;</span>Number of channels of communication</a></span></li><li><span><a href=\"#Number-of-reasons-for-communication\" data-toc-modified-id=\"Number-of-reasons-for-communication-3.2.3\"><span class=\"toc-item-num\">3.2.3&nbsp;&nbsp;</span>Number of reasons for communication</a></span></li><li><span><a href=\"#Final-columns-to-consider-from-notifications\" data-toc-modified-id=\"Final-columns-to-consider-from-notifications-3.2.4\"><span class=\"toc-item-num\">3.2.4&nbsp;&nbsp;</span>Final columns to consider from notifications</a></span></li><li><span><a href=\"#Merging-users-and-notifications\" data-toc-modified-id=\"Merging-users-and-notifications-3.2.5\"><span class=\"toc-item-num\">3.2.5&nbsp;&nbsp;</span>Merging users and notifications</a></span></li></ul></li><li><span><a href=\"#Transactions\" data-toc-modified-id=\"Transactions-3.3\"><span class=\"toc-item-num\">3.3&nbsp;&nbsp;</span>Transactions</a></span><ul class=\"toc-item\"><li><span><a href=\"#Transactions-day-of-week-counts\" data-toc-modified-id=\"Transactions-day-of-week-counts-3.3.1\"><span class=\"toc-item-num\">3.3.1&nbsp;&nbsp;</span>Transactions day of week counts</a></span></li><li><span><a href=\"#Number-of-inbound-and-outbound-transactions\" data-toc-modified-id=\"Number-of-inbound-and-outbound-transactions-3.3.2\"><span class=\"toc-item-num\">3.3.2&nbsp;&nbsp;</span>Number of inbound and outbound transactions</a></span></li><li><span><a href=\"#Transaction-state-counts\" data-toc-modified-id=\"Transaction-state-counts-3.3.3\"><span class=\"toc-item-num\">3.3.3&nbsp;&nbsp;</span>Transaction state counts</a></span></li><li><span><a href=\"#Is-user-engaged?\" data-toc-modified-id=\"Is-user-engaged?-3.3.4\"><span class=\"toc-item-num\">3.3.4&nbsp;&nbsp;</span>Is user engaged?</a></span></li><li><span><a href=\"#Amount\" data-toc-modified-id=\"Amount-3.3.5\"><span class=\"toc-item-num\">3.3.5&nbsp;&nbsp;</span>Amount</a></span></li><li><span><a href=\"#Selecting-columns-from-transactions-table-for-model-building\" data-toc-modified-id=\"Selecting-columns-from-transactions-table-for-model-building-3.3.6\"><span class=\"toc-item-num\">3.3.6&nbsp;&nbsp;</span>Selecting columns from transactions table for model building</a></span></li><li><span><a href=\"#Writing-the-flat-table-to-disk\" data-toc-modified-id=\"Writing-the-flat-table-to-disk-3.3.7\"><span class=\"toc-item-num\">3.3.7&nbsp;&nbsp;</span>Writing the flat table to disk</a></span></li></ul></li></ul></li><li><span><a href=\"#Master-table\" data-toc-modified-id=\"Master-table-4\"><span class=\"toc-item-num\">4&nbsp;&nbsp;</span>Master table</a></span></li></ul></div>"
   ]
  },
  {
   "cell_type": "markdown",
   "metadata": {},
   "source": [
    "# Define a target metric to measure user engagement. How would you define an engaged vs. unengaged user?"
   ]
  },
  {
   "cell_type": "markdown",
   "metadata": {},
   "source": [
    "\n",
    "I am assuming that a user can be tagged as engaged, if\n",
    "    - user has at least one COMPLETED transaction on the last 3 months\n",
    "and not engaged otherwise \n",
    "Note : \n",
    "    1. We can tag the users who joined in the last week as engaged user but I want to keep this simple for now\n",
    "    2. We can tag the users to whom notifications were not delivered in the past 3 months as un engaged user as well ( will do this if time permits)"
   ]
  },
  {
   "cell_type": "markdown",
   "metadata": {},
   "source": [
    "__NOTE__\n",
    "1. Using the last date in the transactions table as `today`"
   ]
  },
  {
   "cell_type": "code",
   "execution_count": 123,
   "metadata": {},
   "outputs": [
    {
     "data": {
      "text/html": [
       "        <script type=\"text/javascript\">\n",
       "        window.PlotlyConfig = {MathJaxConfig: 'local'};\n",
       "        if (window.MathJax) {MathJax.Hub.Config({SVG: {font: \"STIX-Web\"}});}\n",
       "        if (typeof require !== 'undefined') {\n",
       "        require.undef(\"plotly\");\n",
       "        requirejs.config({\n",
       "            paths: {\n",
       "                'plotly': ['https://cdn.plot.ly/plotly-latest.min']\n",
       "            }\n",
       "        });\n",
       "        require(['plotly'], function(Plotly) {\n",
       "            window._Plotly = Plotly;\n",
       "        });\n",
       "        }\n",
       "        </script>\n",
       "        "
      ]
     },
     "metadata": {},
     "output_type": "display_data"
    }
   ],
   "source": [
    "import sys\n",
    "import os\n",
    "import pandas as pd\n",
    "from datetime import datetime\n",
    "import numpy as np\n",
    "import plotly\n",
    "import plotly.offline as pyoff\n",
    "import plotly.figure_factory as ff\n",
    "from plotly.offline import init_notebook_mode, iplot, plot\n",
    "import plotly.graph_objs as go\n",
    "init_notebook_mode(connected = True)"
   ]
  },
  {
   "cell_type": "markdown",
   "metadata": {},
   "source": [
    "The following code is from my github page https://github.com/SCK22/HelperFunctions/blob/master/Plotting/HelperFunctionsPlotlyPlotting.py"
   ]
  },
  {
   "cell_type": "code",
   "execution_count": 124,
   "metadata": {},
   "outputs": [],
   "source": [
    "\"\"\"Helper Functions for Plotting\"\"\"\n",
    "\n",
    "def generate_layout_bar(col_name):\n",
    "    \"\"\"\n",
    "    Generate a layout object for bar chart\n",
    "    \"\"\"\n",
    "    layout_bar = go.Layout(\n",
    "        autosize=False,  # auto size the graph? use False if you are specifying the height and width\n",
    "        width=800,  # height of the figure in pixels\n",
    "        height=600,  # height of the figure in pixels\n",
    "        title=\"Distribution of {} column\".format(col_name),  # title of the figure\n",
    "        # more granular control on the title font\n",
    "        titlefont=dict(\n",
    "            family='Courier New, monospace',  # font family\n",
    "            size=14,  # size of the font\n",
    "            color='black'  # color of the font\n",
    "        ),\n",
    "        # granular control on the axes objects\n",
    "        xaxis=dict(\n",
    "            tickfont=dict(\n",
    "                family='Courier New, monospace',  # font family\n",
    "                size=14,  # size of ticks displayed on the x axis\n",
    "                color='black'  # color of the font\n",
    "            )\n",
    "        ),\n",
    "        yaxis=dict(\n",
    "            #         range=[0,100],\n",
    "            title='Percentage',\n",
    "            titlefont=dict(\n",
    "                size=14,\n",
    "                color='black'\n",
    "            ),\n",
    "            tickfont=dict(\n",
    "                family='Courier New, monospace',  # font family\n",
    "                size=14,  # size of ticks displayed on the y axis\n",
    "                color='black'  # color of the font\n",
    "            )\n",
    "        ),\n",
    "        font=dict(\n",
    "            family='Courier New, monospace',  # font family\n",
    "            color=\"white\",  # color of the font\n",
    "            size=12  # size of the font displayed on the bar\n",
    "        )\n",
    "    )\n",
    "    return layout_bar\n",
    "\n",
    "\n",
    "def plot_count_bar(dataframe_name, col_name, top_n=None):\n",
    "    \"\"\"\n",
    "    Plot a bar chart for the categorical columns\n",
    "    Arguments:\n",
    "    dataframe name\n",
    "    categorical column name\n",
    "    Output:\n",
    "    Plot\n",
    "    \"\"\"\n",
    "    # create a table with value counts\n",
    "    temp = dataframe_name[col_name].value_counts()\n",
    "    if top_n is not None:\n",
    "        temp = temp.head(top_n)\n",
    "    # creating a Bar chart object of plotly\n",
    "    data = [go.Bar(\n",
    "            x=temp.index.astype(str),  # x axis values\n",
    "            y=np.round(temp.values.astype(float) / temp.values.sum(), 4) * 100,  # y axis values\n",
    "            text=['{}%'.format(i) for i in np.round(temp.values.astype(float) / temp.values.sum(), 4) * 100],\n",
    "            # text to be displayed on the bar, we are doing this to display the '%' symbol along with the number on the bar\n",
    "            textposition='auto',  # specify at which position on the bar the text should appear\n",
    "            marker=dict(color='#0047AB'),)]  # change color of the bar\n",
    "    # color used here Cobalt Blue\n",
    "    layout_bar = generate_layout_bar(col_name=col_name)\n",
    "    fig = go.Figure(data=data, layout=layout_bar)\n",
    "    return iplot(fig)\n",
    "\n",
    "def plot_bar(dataframe_name, cat_col_name, num_col_name, top_n = 20):\n",
    "    \"\"\"\n",
    "    Plot a bar chart with the mentioned columns\n",
    "    Arguments:\n",
    "    dataframe name\n",
    "    categorical column name\n",
    "    numeric column name\n",
    "    Output:\n",
    "    Plot\n",
    "    \"\"\"\n",
    "    # create a table with value counts\n",
    "    dataframe_name = dataframe_name.sort_values(by = num_col_name, ascending = False)\n",
    "    dataframe_name = dataframe_name.head(top_n)\n",
    "    x = dataframe_name[cat_col_name]\n",
    "    y = dataframe_name[num_col_name]\n",
    "    # creating a Bar chart object of plotly\n",
    "    data = [go.Bar(\n",
    "            x=x,  # x axis values\n",
    "            y=y,  # y axis values\n",
    "            text=['{}%'.format(np.round(i,2)) for i in y],\n",
    "            # text to be displayed on the bar, we are doing this to display the '%' symbol along with the number on the bar\n",
    "            textposition='auto',  # specify at which position on the bar the text should appear\n",
    "            marker=dict(color='#0047AB'),)]  # change color of the bar\n",
    "    # color used here Cobalt Blue\n",
    "    layout_bar = generate_layout_bar(col_name=cat_col_name)\n",
    "    fig = go.Figure(data=data, layout=layout_bar)\n",
    "    return iplot(fig)\n",
    "\n",
    "\n",
    "def plot_hist(dataframe, col_name):\n",
    "    \"\"\"Plot histogram\"\"\"\n",
    "    data = [go.Histogram(x=dataframe[col_name],\n",
    "                         marker=dict(\n",
    "        color='#CC0E1D',  # Lava (#CC0E1D)\n",
    "        #         color = 'rgb(200,0,0)'   # you can provide color in HEX format or rgb format, genrally programmers prefer HEX format as it is a single string value and easy to pass as a variable\n",
    "    ))]\n",
    "    layout = go.Layout(title=\"Histogram of {}\".format(col_name))\n",
    "    fig = go.Figure(data=data, layout=layout)\n",
    "    return iplot(fig)\n",
    "\n",
    "\n",
    "def plot_multi_box(dataframe, col_name, num_col_name):\n",
    "    \"\"\"Plot multiple box plots based on the levels in a column\"\"\"\n",
    "    data = []\n",
    "    for i in dataframe[col_name].unique():\n",
    "        trace = go.Box(y=dataframe[num_col_name][dataframe[col_name] == i],\n",
    "                       name=i)\n",
    "        data.append(trace)\n",
    "    layout = go.Layout(title=\"Boxplot of levels in {} for {} column\".format(col_name, num_col_name))\n",
    "    fig = go.Figure(data=data, layout=layout)\n",
    "    return (iplot(fig))"
   ]
  },
  {
   "cell_type": "code",
   "execution_count": 125,
   "metadata": {},
   "outputs": [],
   "source": [
    "data_path = \"data/\""
   ]
  },
  {
   "cell_type": "code",
   "execution_count": 126,
   "metadata": {},
   "outputs": [],
   "source": [
    "def load_data(file_name):\n",
    "    return pd.read_csv(data_path+f\"{file_name}\"+\".csv\", na_values=[\" \", \"\", np.nan, \"nan\", \"Na\"])"
   ]
  },
  {
   "cell_type": "code",
   "execution_count": 127,
   "metadata": {},
   "outputs": [
    {
     "data": {
      "text/plain": [
       "['notifications.csv',\n",
       " 'notifications_processed.csv',\n",
       " 'rev-devices.csv',\n",
       " 'rev-notifications.csv',\n",
       " 'rev-transactions.csv',\n",
       " 'rev-users.csv',\n",
       " 'transactions_processed.csv',\n",
       " 'users.csv',\n",
       " 'users_processed.csv']"
      ]
     },
     "execution_count": 127,
     "metadata": {},
     "output_type": "execute_result"
    }
   ],
   "source": [
    "os.listdir(data_path)"
   ]
  },
  {
   "cell_type": "code",
   "execution_count": 128,
   "metadata": {},
   "outputs": [],
   "source": [
    "def convert_to_pandas_datetime(col):\n",
    "    return pd.to_datetime(col)"
   ]
  },
  {
   "cell_type": "code",
   "execution_count": 129,
   "metadata": {},
   "outputs": [],
   "source": [
    "def check_null(df):\n",
    "    return df.isnull().sum()"
   ]
  },
  {
   "cell_type": "markdown",
   "metadata": {},
   "source": [
    "Converting dates to pandas datetime format"
   ]
  },
  {
   "cell_type": "code",
   "execution_count": 130,
   "metadata": {},
   "outputs": [],
   "source": [
    "devices = load_data(\"rev-devices\")\n",
    "notifications = load_data(\"notifications_processed\")\n",
    "transactions = load_data(\"transactions_processed\")\n",
    "users = load_data(\"users_processed\")"
   ]
  },
  {
   "cell_type": "code",
   "execution_count": 131,
   "metadata": {},
   "outputs": [],
   "source": [
    "users.created_date = convert_to_pandas_datetime(users.created_date)\n",
    "\n",
    "transactions.created_date = convert_to_pandas_datetime(transactions.created_date)\n",
    "\n",
    "notifications.created_date = convert_to_pandas_datetime(notifications.created_date)"
   ]
  },
  {
   "cell_type": "code",
   "execution_count": 132,
   "metadata": {},
   "outputs": [],
   "source": [
    "today = transactions.created_date.max()"
   ]
  },
  {
   "cell_type": "markdown",
   "metadata": {},
   "source": [
    "#### Checking for null values"
   ]
  },
  {
   "cell_type": "code",
   "execution_count": 133,
   "metadata": {},
   "outputs": [
    {
     "data": {
      "text/plain": [
       "user_id                                        0\n",
       "birth_year                                     0\n",
       "country                                        0\n",
       "city                                           0\n",
       "created_date                                   0\n",
       "user_settings_crypto_unlocked                  0\n",
       "plan                                           0\n",
       "attributes_notifications_marketing_push     6610\n",
       "attributes_notifications_marketing_email    6610\n",
       "num_contacts                                   0\n",
       "num_referrals                                  0\n",
       "num_successful_referrals                       0\n",
       "age                                            0\n",
       "dtype: int64"
      ]
     },
     "execution_count": 133,
     "metadata": {},
     "output_type": "execute_result"
    }
   ],
   "source": [
    "check_null(users)"
   ]
  },
  {
   "cell_type": "code",
   "execution_count": 134,
   "metadata": {},
   "outputs": [
    {
     "data": {
      "text/plain": [
       "reason          0\n",
       "channel         0\n",
       "status          0\n",
       "user_id         0\n",
       "created_date    0\n",
       "dtype: int64"
      ]
     },
     "execution_count": 134,
     "metadata": {},
     "output_type": "execute_result"
    }
   ],
   "source": [
    "check_null(notifications)"
   ]
  },
  {
   "cell_type": "code",
   "execution_count": 135,
   "metadata": {},
   "outputs": [
    {
     "data": {
      "text/plain": [
       "transaction_id                 0\n",
       "transactions_type              0\n",
       "transactions_currency          0\n",
       "amount_usd                     0\n",
       "transactions_state             0\n",
       "ea_cardholderpresence          0\n",
       "ea_merchant_mcc          1158658\n",
       "ea_merchant_city         1158803\n",
       "ea_merchant_country      1158979\n",
       "direction                      0\n",
       "user_id                        0\n",
       "created_date                   0\n",
       "dayofweek                      0\n",
       "transactionmonth               0\n",
       "dtype: int64"
      ]
     },
     "execution_count": 135,
     "metadata": {},
     "output_type": "execute_result"
    }
   ],
   "source": [
    "check_null(transactions)"
   ]
  },
  {
   "cell_type": "code",
   "execution_count": 136,
   "metadata": {},
   "outputs": [
    {
     "data": {
      "text/plain": [
       "brand      0\n",
       "user_id    0\n",
       "dtype: int64"
      ]
     },
     "execution_count": 136,
     "metadata": {},
     "output_type": "execute_result"
    }
   ],
   "source": [
    "check_null(devices)"
   ]
  },
  {
   "cell_type": "markdown",
   "metadata": {},
   "source": [
    "> There are null values in some of the columns in the dataset, Instead of spending time on imputation, I will not use these columns are most of these columns for analysis"
   ]
  },
  {
   "cell_type": "code",
   "execution_count": 137,
   "metadata": {},
   "outputs": [],
   "source": [
    "null_coulmns = []\n",
    "for i in [users,transactions,notifications,devices]:\n",
    "        null_coulmns.extend(i.columns[i.isnull().sum()>0])"
   ]
  },
  {
   "cell_type": "code",
   "execution_count": 138,
   "metadata": {},
   "outputs": [
    {
     "data": {
      "text/plain": [
       "['attributes_notifications_marketing_push',\n",
       " 'attributes_notifications_marketing_email',\n",
       " 'ea_merchant_mcc',\n",
       " 'ea_merchant_city',\n",
       " 'ea_merchant_country']"
      ]
     },
     "execution_count": 138,
     "metadata": {},
     "output_type": "execute_result"
    }
   ],
   "source": [
    "null_coulmns"
   ]
  },
  {
   "cell_type": "markdown",
   "metadata": {},
   "source": [
    "### Master table creation"
   ]
  },
  {
   "cell_type": "markdown",
   "metadata": {},
   "source": [
    "- First , the task of creating a master table is at hand\n",
    "    - The common column is the user_id\n",
    "    - There are multiple transactions per user in the transactions table, aggregating is the first task for this dataset\n",
    "    - There are multiple notifications per user in the notifications table, aggregating is the first task for this dataset\n",
    "    - devices can be used as is to join (with the pre processing done in the EDA.ipynb)\n"
   ]
  },
  {
   "cell_type": "markdown",
   "metadata": {},
   "source": [
    "### Users"
   ]
  },
  {
   "cell_type": "code",
   "execution_count": 139,
   "metadata": {},
   "outputs": [
    {
     "data": {
      "text/plain": [
       "Index(['user_id', 'birth_year', 'country', 'city', 'created_date',\n",
       "       'user_settings_crypto_unlocked', 'plan',\n",
       "       'attributes_notifications_marketing_push',\n",
       "       'attributes_notifications_marketing_email', 'num_contacts',\n",
       "       'num_referrals', 'num_successful_referrals', 'age'],\n",
       "      dtype='object')"
      ]
     },
     "execution_count": 139,
     "metadata": {},
     "output_type": "execute_result"
    }
   ],
   "source": [
    "users.columns"
   ]
  },
  {
   "cell_type": "code",
   "execution_count": 140,
   "metadata": {},
   "outputs": [],
   "source": [
    "users_plan = pd.crosstab(users.user_id, users.plan).reset_index()"
   ]
  },
  {
   "cell_type": "code",
   "execution_count": 141,
   "metadata": {},
   "outputs": [
    {
     "data": {
      "text/plain": [
       "Index(['user_id', 'METAL', 'METAL_FREE', 'PREMIUM', 'PREMIUM_FREE',\n",
       "       'PREMIUM_OFFER', 'STANDARD'],\n",
       "      dtype='object', name='plan')"
      ]
     },
     "execution_count": 141,
     "metadata": {},
     "output_type": "execute_result"
    }
   ],
   "source": [
    "users_plan.columns"
   ]
  },
  {
   "cell_type": "code",
   "execution_count": 142,
   "metadata": {},
   "outputs": [],
   "source": [
    "users = pd.merge(users,users_plan ,left_on=\"user_id\", right_on = \"user_id\")"
   ]
  },
  {
   "cell_type": "markdown",
   "metadata": {},
   "source": [
    "### Devices"
   ]
  },
  {
   "cell_type": "code",
   "execution_count": 143,
   "metadata": {},
   "outputs": [],
   "source": [
    "user_device_brand = pd.crosstab(devices.user_id,devices.brand).reset_index()"
   ]
  },
  {
   "cell_type": "code",
   "execution_count": 144,
   "metadata": {},
   "outputs": [
    {
     "data": {
      "text/plain": [
       "Index(['user_id', 'Android', 'Apple', 'Unknown'], dtype='object', name='brand')"
      ]
     },
     "execution_count": 144,
     "metadata": {},
     "output_type": "execute_result"
    }
   ],
   "source": [
    "user_device_brand.columns"
   ]
  },
  {
   "cell_type": "code",
   "execution_count": 145,
   "metadata": {},
   "outputs": [],
   "source": [
    "devices = user_device_brand.loc[:,['user_id', 'Android', 'Apple',]]"
   ]
  },
  {
   "cell_type": "markdown",
   "metadata": {},
   "source": [
    "#### Merging the devices data with users"
   ]
  },
  {
   "cell_type": "code",
   "execution_count": 146,
   "metadata": {},
   "outputs": [],
   "source": [
    "users = pd.merge(users, devices,left_on=\"user_id\", right_on=\"user_id\")"
   ]
  },
  {
   "cell_type": "code",
   "execution_count": 147,
   "metadata": {},
   "outputs": [],
   "source": [
    "users.to_csv(\"model_data/users.csv\")"
   ]
  },
  {
   "cell_type": "markdown",
   "metadata": {},
   "source": [
    "#### Notifications dataset"
   ]
  },
  {
   "cell_type": "code",
   "execution_count": 148,
   "metadata": {},
   "outputs": [],
   "source": [
    "num_notifications_user = notifications.groupby([\"user_id\"]).size().to_frame().reset_index()"
   ]
  },
  {
   "cell_type": "code",
   "execution_count": 149,
   "metadata": {},
   "outputs": [],
   "source": [
    "num_notifications_user.columns = [\"user_id\", \"num_notifications\"]"
   ]
  },
  {
   "cell_type": "code",
   "execution_count": 150,
   "metadata": {},
   "outputs": [
    {
     "data": {
      "text/html": [
       "<div>\n",
       "<style scoped>\n",
       "    .dataframe tbody tr th:only-of-type {\n",
       "        vertical-align: middle;\n",
       "    }\n",
       "\n",
       "    .dataframe tbody tr th {\n",
       "        vertical-align: top;\n",
       "    }\n",
       "\n",
       "    .dataframe thead th {\n",
       "        text-align: right;\n",
       "    }\n",
       "</style>\n",
       "<table border=\"1\" class=\"dataframe\">\n",
       "  <thead>\n",
       "    <tr style=\"text-align: right;\">\n",
       "      <th></th>\n",
       "      <th>user_id</th>\n",
       "      <th>num_notifications</th>\n",
       "    </tr>\n",
       "  </thead>\n",
       "  <tbody>\n",
       "    <tr>\n",
       "      <th>0</th>\n",
       "      <td>user_0</td>\n",
       "      <td>8</td>\n",
       "    </tr>\n",
       "    <tr>\n",
       "      <th>1</th>\n",
       "      <td>user_1</td>\n",
       "      <td>7</td>\n",
       "    </tr>\n",
       "    <tr>\n",
       "      <th>2</th>\n",
       "      <td>user_10</td>\n",
       "      <td>6</td>\n",
       "    </tr>\n",
       "    <tr>\n",
       "      <th>3</th>\n",
       "      <td>user_100</td>\n",
       "      <td>4</td>\n",
       "    </tr>\n",
       "    <tr>\n",
       "      <th>4</th>\n",
       "      <td>user_1000</td>\n",
       "      <td>18</td>\n",
       "    </tr>\n",
       "  </tbody>\n",
       "</table>\n",
       "</div>"
      ],
      "text/plain": [
       "     user_id  num_notifications\n",
       "0     user_0                  8\n",
       "1     user_1                  7\n",
       "2    user_10                  6\n",
       "3   user_100                  4\n",
       "4  user_1000                 18"
      ]
     },
     "execution_count": 150,
     "metadata": {},
     "output_type": "execute_result"
    }
   ],
   "source": [
    "num_notifications_user.head()"
   ]
  },
  {
   "cell_type": "code",
   "execution_count": 151,
   "metadata": {},
   "outputs": [],
   "source": [
    "notifications = pd.merge(notifications, num_notifications_user,left_on=\"user_id\", right_on=\"user_id\")"
   ]
  },
  {
   "cell_type": "markdown",
   "metadata": {},
   "source": [
    "##### Was a notification sent in the last x months?\n",
    "\n",
    "I will try 15,30,45,60,90,180 for x values\n",
    "\n",
    "- Determine if the user was notified in the las x days\n",
    "- Calculate the number of times he was notified\n",
    "- Merge the dataset with the original"
   ]
  },
  {
   "cell_type": "code",
   "execution_count": 152,
   "metadata": {},
   "outputs": [],
   "source": [
    "x = [15,30,45,60,90,180]\n",
    "for d in x:\n",
    "    notifications[\"notified_{}\".format(d)] = notifications.created_date.apply(lambda x : (today - x).days>d) # find if the user was notified\n",
    "    temp = notifications.groupby([\"user_id\"]).agg({\"notified_{}\".format(d):np.sum}).reset_index() # calcuate the number of times he was notified\n",
    "    temp.columns = [\"user_id\", \"num_notified_{}\".format(d)] # renaming the columns\n",
    "    notifications = pd.merge(notifications, temp, left_on=\"user_id\", right_on= \"user_id\") # merging the two datasets"
   ]
  },
  {
   "cell_type": "code",
   "execution_count": 153,
   "metadata": {},
   "outputs": [
    {
     "data": {
      "text/plain": [
       "Index(['reason', 'channel', 'status', 'user_id', 'created_date',\n",
       "       'num_notifications', 'notified_15', 'num_notified_15', 'notified_30',\n",
       "       'num_notified_30', 'notified_45', 'num_notified_45', 'notified_60',\n",
       "       'num_notified_60', 'notified_90', 'num_notified_90', 'notified_180',\n",
       "       'num_notified_180'],\n",
       "      dtype='object')"
      ]
     },
     "execution_count": 153,
     "metadata": {},
     "output_type": "execute_result"
    }
   ],
   "source": [
    "notifications.columns"
   ]
  },
  {
   "cell_type": "markdown",
   "metadata": {},
   "source": [
    "##### Number of channels of communication"
   ]
  },
  {
   "cell_type": "code",
   "execution_count": 154,
   "metadata": {},
   "outputs": [],
   "source": [
    "num_channles_of_com = notifications.groupby(\"user_id\").agg({\"channel\" : lambda x : len(np.unique(x))}).reset_index()\n",
    "num_channles_of_com.columns = [\"user_id\", \"num_channles_of_com\"]"
   ]
  },
  {
   "cell_type": "code",
   "execution_count": 155,
   "metadata": {},
   "outputs": [
    {
     "data": {
      "text/html": [
       "<div>\n",
       "<style scoped>\n",
       "    .dataframe tbody tr th:only-of-type {\n",
       "        vertical-align: middle;\n",
       "    }\n",
       "\n",
       "    .dataframe tbody tr th {\n",
       "        vertical-align: top;\n",
       "    }\n",
       "\n",
       "    .dataframe thead th {\n",
       "        text-align: right;\n",
       "    }\n",
       "</style>\n",
       "<table border=\"1\" class=\"dataframe\">\n",
       "  <thead>\n",
       "    <tr style=\"text-align: right;\">\n",
       "      <th></th>\n",
       "      <th>user_id</th>\n",
       "      <th>num_channles_of_com</th>\n",
       "    </tr>\n",
       "  </thead>\n",
       "  <tbody>\n",
       "    <tr>\n",
       "      <th>0</th>\n",
       "      <td>user_0</td>\n",
       "      <td>2</td>\n",
       "    </tr>\n",
       "    <tr>\n",
       "      <th>1</th>\n",
       "      <td>user_1</td>\n",
       "      <td>2</td>\n",
       "    </tr>\n",
       "    <tr>\n",
       "      <th>2</th>\n",
       "      <td>user_10</td>\n",
       "      <td>2</td>\n",
       "    </tr>\n",
       "    <tr>\n",
       "      <th>3</th>\n",
       "      <td>user_100</td>\n",
       "      <td>2</td>\n",
       "    </tr>\n",
       "    <tr>\n",
       "      <th>4</th>\n",
       "      <td>user_1000</td>\n",
       "      <td>3</td>\n",
       "    </tr>\n",
       "  </tbody>\n",
       "</table>\n",
       "</div>"
      ],
      "text/plain": [
       "     user_id  num_channles_of_com\n",
       "0     user_0                    2\n",
       "1     user_1                    2\n",
       "2    user_10                    2\n",
       "3   user_100                    2\n",
       "4  user_1000                    3"
      ]
     },
     "execution_count": 155,
     "metadata": {},
     "output_type": "execute_result"
    }
   ],
   "source": [
    "num_channles_of_com.head()"
   ]
  },
  {
   "cell_type": "code",
   "execution_count": 156,
   "metadata": {},
   "outputs": [],
   "source": [
    "notifications = pd.merge(notifications, num_channles_of_com,left_on= \"user_id\", right_on = \"user_id\")"
   ]
  },
  {
   "cell_type": "code",
   "execution_count": 157,
   "metadata": {},
   "outputs": [
    {
     "data": {
      "text/plain": [
       "Index(['reason', 'channel', 'status', 'user_id', 'created_date',\n",
       "       'num_notifications', 'notified_15', 'num_notified_15', 'notified_30',\n",
       "       'num_notified_30', 'notified_45', 'num_notified_45', 'notified_60',\n",
       "       'num_notified_60', 'notified_90', 'num_notified_90', 'notified_180',\n",
       "       'num_notified_180', 'num_channles_of_com'],\n",
       "      dtype='object')"
      ]
     },
     "execution_count": 157,
     "metadata": {},
     "output_type": "execute_result"
    }
   ],
   "source": [
    "notifications.columns"
   ]
  },
  {
   "cell_type": "markdown",
   "metadata": {},
   "source": [
    "##### Number of reasons for communication"
   ]
  },
  {
   "cell_type": "code",
   "execution_count": 158,
   "metadata": {},
   "outputs": [],
   "source": [
    "num_reasons_of_com = notifications.groupby(\"user_id\").agg({\"reason\" : lambda x : len(np.unique(x))}).reset_index()\n",
    "num_reasons_of_com.columns = [\"user_id\", \"num_reasons_com\"]\n",
    "notifications = pd.merge(notifications, num_reasons_of_com,left_on= \"user_id\", right_on = \"user_id\")"
   ]
  },
  {
   "cell_type": "markdown",
   "metadata": {},
   "source": [
    "##### Final columns to consider from notifications"
   ]
  },
  {
   "cell_type": "code",
   "execution_count": 159,
   "metadata": {},
   "outputs": [
    {
     "data": {
      "text/plain": [
       "Index(['reason', 'channel', 'status', 'user_id', 'created_date',\n",
       "       'num_notifications', 'notified_15', 'num_notified_15', 'notified_30',\n",
       "       'num_notified_30', 'notified_45', 'num_notified_45', 'notified_60',\n",
       "       'num_notified_60', 'notified_90', 'num_notified_90', 'notified_180',\n",
       "       'num_notified_180', 'num_channles_of_com', 'num_reasons_com'],\n",
       "      dtype='object')"
      ]
     },
     "execution_count": 159,
     "metadata": {},
     "output_type": "execute_result"
    }
   ],
   "source": [
    "notifications.columns"
   ]
  },
  {
   "cell_type": "code",
   "execution_count": 160,
   "metadata": {},
   "outputs": [],
   "source": [
    "notifications_cols = [\"user_id\",'num_notifications',\n",
    " 'num_notified_15',\n",
    " 'num_notified_30',\n",
    " 'num_notified_45',\n",
    " 'num_notified_60',\n",
    " 'num_notified_90',\n",
    " 'num_notified_180',\n",
    " 'num_channles_of_com',\n",
    " 'num_reasons_com']"
   ]
  },
  {
   "cell_type": "code",
   "execution_count": 161,
   "metadata": {},
   "outputs": [],
   "source": [
    "notifications_flat = notifications.loc[:, notifications_cols]"
   ]
  },
  {
   "cell_type": "code",
   "execution_count": 162,
   "metadata": {},
   "outputs": [],
   "source": [
    "notifications_flat = notifications_flat.drop_duplicates(\"user_id\")"
   ]
  },
  {
   "cell_type": "code",
   "execution_count": 163,
   "metadata": {},
   "outputs": [
    {
     "data": {
      "text/plain": [
       "(18953, 10)"
      ]
     },
     "execution_count": 163,
     "metadata": {},
     "output_type": "execute_result"
    }
   ],
   "source": [
    "notifications_flat.shape"
   ]
  },
  {
   "cell_type": "code",
   "execution_count": 164,
   "metadata": {},
   "outputs": [
    {
     "data": {
      "text/html": [
       "<div>\n",
       "<style scoped>\n",
       "    .dataframe tbody tr th:only-of-type {\n",
       "        vertical-align: middle;\n",
       "    }\n",
       "\n",
       "    .dataframe tbody tr th {\n",
       "        vertical-align: top;\n",
       "    }\n",
       "\n",
       "    .dataframe thead th {\n",
       "        text-align: right;\n",
       "    }\n",
       "</style>\n",
       "<table border=\"1\" class=\"dataframe\">\n",
       "  <thead>\n",
       "    <tr style=\"text-align: right;\">\n",
       "      <th></th>\n",
       "      <th>user_id</th>\n",
       "      <th>num_notifications</th>\n",
       "      <th>num_notified_15</th>\n",
       "      <th>num_notified_30</th>\n",
       "      <th>num_notified_45</th>\n",
       "      <th>num_notified_60</th>\n",
       "      <th>num_notified_90</th>\n",
       "      <th>num_notified_180</th>\n",
       "      <th>num_channles_of_com</th>\n",
       "      <th>num_reasons_com</th>\n",
       "    </tr>\n",
       "  </thead>\n",
       "  <tbody>\n",
       "    <tr>\n",
       "      <th>0</th>\n",
       "      <td>user_7086</td>\n",
       "      <td>10</td>\n",
       "      <td>10.0</td>\n",
       "      <td>10.0</td>\n",
       "      <td>10.0</td>\n",
       "      <td>10.0</td>\n",
       "      <td>10.0</td>\n",
       "      <td>0.0</td>\n",
       "      <td>2</td>\n",
       "      <td>2</td>\n",
       "    </tr>\n",
       "    <tr>\n",
       "      <th>10</th>\n",
       "      <td>user_6598</td>\n",
       "      <td>11</td>\n",
       "      <td>11.0</td>\n",
       "      <td>11.0</td>\n",
       "      <td>10.0</td>\n",
       "      <td>10.0</td>\n",
       "      <td>10.0</td>\n",
       "      <td>3.0</td>\n",
       "      <td>2</td>\n",
       "      <td>6</td>\n",
       "    </tr>\n",
       "    <tr>\n",
       "      <th>21</th>\n",
       "      <td>user_4151</td>\n",
       "      <td>7</td>\n",
       "      <td>6.0</td>\n",
       "      <td>6.0</td>\n",
       "      <td>6.0</td>\n",
       "      <td>6.0</td>\n",
       "      <td>6.0</td>\n",
       "      <td>1.0</td>\n",
       "      <td>2</td>\n",
       "      <td>3</td>\n",
       "    </tr>\n",
       "    <tr>\n",
       "      <th>28</th>\n",
       "      <td>user_1408</td>\n",
       "      <td>4</td>\n",
       "      <td>4.0</td>\n",
       "      <td>4.0</td>\n",
       "      <td>4.0</td>\n",
       "      <td>4.0</td>\n",
       "      <td>3.0</td>\n",
       "      <td>1.0</td>\n",
       "      <td>1</td>\n",
       "      <td>2</td>\n",
       "    </tr>\n",
       "    <tr>\n",
       "      <th>32</th>\n",
       "      <td>user_6292</td>\n",
       "      <td>10</td>\n",
       "      <td>10.0</td>\n",
       "      <td>10.0</td>\n",
       "      <td>10.0</td>\n",
       "      <td>10.0</td>\n",
       "      <td>8.0</td>\n",
       "      <td>3.0</td>\n",
       "      <td>2</td>\n",
       "      <td>4</td>\n",
       "    </tr>\n",
       "  </tbody>\n",
       "</table>\n",
       "</div>"
      ],
      "text/plain": [
       "      user_id  num_notifications  num_notified_15  num_notified_30  \\\n",
       "0   user_7086                 10             10.0             10.0   \n",
       "10  user_6598                 11             11.0             11.0   \n",
       "21  user_4151                  7              6.0              6.0   \n",
       "28  user_1408                  4              4.0              4.0   \n",
       "32  user_6292                 10             10.0             10.0   \n",
       "\n",
       "    num_notified_45  num_notified_60  num_notified_90  num_notified_180  \\\n",
       "0              10.0             10.0             10.0               0.0   \n",
       "10             10.0             10.0             10.0               3.0   \n",
       "21              6.0              6.0              6.0               1.0   \n",
       "28              4.0              4.0              3.0               1.0   \n",
       "32             10.0             10.0              8.0               3.0   \n",
       "\n",
       "    num_channles_of_com  num_reasons_com  \n",
       "0                     2                2  \n",
       "10                    2                6  \n",
       "21                    2                3  \n",
       "28                    1                2  \n",
       "32                    2                4  "
      ]
     },
     "execution_count": 164,
     "metadata": {},
     "output_type": "execute_result"
    }
   ],
   "source": [
    "notifications_flat.head()"
   ]
  },
  {
   "cell_type": "code",
   "execution_count": 165,
   "metadata": {},
   "outputs": [],
   "source": [
    "notifications_flat.to_csv(\"model_data/notifications_flat.csv\",index=False)"
   ]
  },
  {
   "cell_type": "markdown",
   "metadata": {},
   "source": [
    "##### Merging users and notifications"
   ]
  },
  {
   "cell_type": "code",
   "execution_count": 166,
   "metadata": {},
   "outputs": [
    {
     "data": {
      "text/plain": [
       "(19430, 21)"
      ]
     },
     "execution_count": 166,
     "metadata": {},
     "output_type": "execute_result"
    }
   ],
   "source": [
    "users.shape"
   ]
  },
  {
   "cell_type": "code",
   "execution_count": 167,
   "metadata": {},
   "outputs": [
    {
     "data": {
      "text/plain": [
       "19430"
      ]
     },
     "execution_count": 167,
     "metadata": {},
     "output_type": "execute_result"
    }
   ],
   "source": [
    "users.user_id.nunique()"
   ]
  },
  {
   "cell_type": "code",
   "execution_count": 168,
   "metadata": {},
   "outputs": [],
   "source": [
    "master = pd.merge(users, notifications_flat, left_on= \"user_id\", right_on= \"user_id\", how = \"inner\")"
   ]
  },
  {
   "cell_type": "code",
   "execution_count": 169,
   "metadata": {},
   "outputs": [],
   "source": [
    "master.to_csv(\"model_data/master.csv\",index= False)"
   ]
  },
  {
   "cell_type": "markdown",
   "metadata": {},
   "source": [
    "#### Transactions"
   ]
  },
  {
   "cell_type": "markdown",
   "metadata": {},
   "source": [
    "##### Transactions day of week counts\n",
    "Count the numbe or transactions a user has done on a week day"
   ]
  },
  {
   "cell_type": "code",
   "execution_count": 170,
   "metadata": {},
   "outputs": [
    {
     "data": {
      "text/plain": [
       "['num_transactions_Fri',\n",
       " 'num_transactions_Mon',\n",
       " 'num_transactions_Sat',\n",
       " 'num_transactions_Sun',\n",
       " 'num_transactions_Thu',\n",
       " 'num_transactions_Tue',\n",
       " 'num_transactions_Wed']"
      ]
     },
     "execution_count": 170,
     "metadata": {},
     "output_type": "execute_result"
    }
   ],
   "source": [
    "weekday_transactions = pd.crosstab(transactions.user_id, transactions.dayofweek).reset_index()\n",
    "[\"num_transactions_{}\".format(i) for i in weekday_transactions.columns[1:]]"
   ]
  },
  {
   "cell_type": "code",
   "execution_count": 171,
   "metadata": {},
   "outputs": [],
   "source": [
    "weekday_transactions.columns = [\"user_id\", 'num_transactions_Fri',\n",
    " 'num_transactions_Mon',\n",
    " 'num_transactions_Sat',\n",
    " 'num_transactions_Sun',\n",
    " 'num_transactions_Thu',\n",
    " 'num_transactions_Tue',\n",
    " 'num_transactions_Wed']"
   ]
  },
  {
   "cell_type": "code",
   "execution_count": 172,
   "metadata": {},
   "outputs": [
    {
     "data": {
      "text/html": [
       "<div>\n",
       "<style scoped>\n",
       "    .dataframe tbody tr th:only-of-type {\n",
       "        vertical-align: middle;\n",
       "    }\n",
       "\n",
       "    .dataframe tbody tr th {\n",
       "        vertical-align: top;\n",
       "    }\n",
       "\n",
       "    .dataframe thead th {\n",
       "        text-align: right;\n",
       "    }\n",
       "</style>\n",
       "<table border=\"1\" class=\"dataframe\">\n",
       "  <thead>\n",
       "    <tr style=\"text-align: right;\">\n",
       "      <th></th>\n",
       "      <th>user_id</th>\n",
       "      <th>num_transactions_Fri</th>\n",
       "      <th>num_transactions_Mon</th>\n",
       "      <th>num_transactions_Sat</th>\n",
       "      <th>num_transactions_Sun</th>\n",
       "      <th>num_transactions_Thu</th>\n",
       "      <th>num_transactions_Tue</th>\n",
       "      <th>num_transactions_Wed</th>\n",
       "    </tr>\n",
       "  </thead>\n",
       "  <tbody>\n",
       "    <tr>\n",
       "      <th>0</th>\n",
       "      <td>user_0</td>\n",
       "      <td>66</td>\n",
       "      <td>64</td>\n",
       "      <td>51</td>\n",
       "      <td>54</td>\n",
       "      <td>51</td>\n",
       "      <td>53</td>\n",
       "      <td>50</td>\n",
       "    </tr>\n",
       "    <tr>\n",
       "      <th>1</th>\n",
       "      <td>user_1</td>\n",
       "      <td>15</td>\n",
       "      <td>14</td>\n",
       "      <td>26</td>\n",
       "      <td>16</td>\n",
       "      <td>23</td>\n",
       "      <td>14</td>\n",
       "      <td>21</td>\n",
       "    </tr>\n",
       "    <tr>\n",
       "      <th>2</th>\n",
       "      <td>user_10</td>\n",
       "      <td>160</td>\n",
       "      <td>143</td>\n",
       "      <td>165</td>\n",
       "      <td>135</td>\n",
       "      <td>130</td>\n",
       "      <td>134</td>\n",
       "      <td>186</td>\n",
       "    </tr>\n",
       "    <tr>\n",
       "      <th>3</th>\n",
       "      <td>user_100</td>\n",
       "      <td>13</td>\n",
       "      <td>15</td>\n",
       "      <td>16</td>\n",
       "      <td>24</td>\n",
       "      <td>14</td>\n",
       "      <td>23</td>\n",
       "      <td>28</td>\n",
       "    </tr>\n",
       "    <tr>\n",
       "      <th>4</th>\n",
       "      <td>user_1000</td>\n",
       "      <td>1</td>\n",
       "      <td>8</td>\n",
       "      <td>3</td>\n",
       "      <td>3</td>\n",
       "      <td>9</td>\n",
       "      <td>11</td>\n",
       "      <td>4</td>\n",
       "    </tr>\n",
       "  </tbody>\n",
       "</table>\n",
       "</div>"
      ],
      "text/plain": [
       "     user_id  num_transactions_Fri  num_transactions_Mon  \\\n",
       "0     user_0                    66                    64   \n",
       "1     user_1                    15                    14   \n",
       "2    user_10                   160                   143   \n",
       "3   user_100                    13                    15   \n",
       "4  user_1000                     1                     8   \n",
       "\n",
       "   num_transactions_Sat  num_transactions_Sun  num_transactions_Thu  \\\n",
       "0                    51                    54                    51   \n",
       "1                    26                    16                    23   \n",
       "2                   165                   135                   130   \n",
       "3                    16                    24                    14   \n",
       "4                     3                     3                     9   \n",
       "\n",
       "   num_transactions_Tue  num_transactions_Wed  \n",
       "0                    53                    50  \n",
       "1                    14                    21  \n",
       "2                   134                   186  \n",
       "3                    23                    28  \n",
       "4                    11                     4  "
      ]
     },
     "execution_count": 172,
     "metadata": {},
     "output_type": "execute_result"
    }
   ],
   "source": [
    "weekday_transactions.head()"
   ]
  },
  {
   "cell_type": "code",
   "execution_count": 173,
   "metadata": {},
   "outputs": [
    {
     "data": {
      "text/plain": [
       "Index(['transaction_id', 'transactions_type', 'transactions_currency',\n",
       "       'amount_usd', 'transactions_state', 'ea_cardholderpresence',\n",
       "       'ea_merchant_mcc', 'ea_merchant_city', 'ea_merchant_country',\n",
       "       'direction', 'user_id', 'created_date', 'dayofweek',\n",
       "       'transactionmonth'],\n",
       "      dtype='object')"
      ]
     },
     "execution_count": 173,
     "metadata": {},
     "output_type": "execute_result"
    }
   ],
   "source": [
    "transactions.columns"
   ]
  },
  {
   "cell_type": "code",
   "execution_count": 174,
   "metadata": {},
   "outputs": [],
   "source": [
    "transactions = pd.merge(transactions, weekday_transactions, left_on=\"user_id\", right_on= \"user_id\")"
   ]
  },
  {
   "cell_type": "code",
   "execution_count": 175,
   "metadata": {},
   "outputs": [
    {
     "data": {
      "text/html": [
       "<div>\n",
       "<style scoped>\n",
       "    .dataframe tbody tr th:only-of-type {\n",
       "        vertical-align: middle;\n",
       "    }\n",
       "\n",
       "    .dataframe tbody tr th {\n",
       "        vertical-align: top;\n",
       "    }\n",
       "\n",
       "    .dataframe thead th {\n",
       "        text-align: right;\n",
       "    }\n",
       "</style>\n",
       "<table border=\"1\" class=\"dataframe\">\n",
       "  <thead>\n",
       "    <tr style=\"text-align: right;\">\n",
       "      <th></th>\n",
       "      <th>transaction_id</th>\n",
       "      <th>transactions_type</th>\n",
       "      <th>transactions_currency</th>\n",
       "      <th>amount_usd</th>\n",
       "      <th>transactions_state</th>\n",
       "      <th>ea_cardholderpresence</th>\n",
       "      <th>ea_merchant_mcc</th>\n",
       "      <th>ea_merchant_city</th>\n",
       "      <th>ea_merchant_country</th>\n",
       "      <th>direction</th>\n",
       "      <th>...</th>\n",
       "      <th>created_date</th>\n",
       "      <th>dayofweek</th>\n",
       "      <th>transactionmonth</th>\n",
       "      <th>num_transactions_Fri</th>\n",
       "      <th>num_transactions_Mon</th>\n",
       "      <th>num_transactions_Sat</th>\n",
       "      <th>num_transactions_Sun</th>\n",
       "      <th>num_transactions_Thu</th>\n",
       "      <th>num_transactions_Tue</th>\n",
       "      <th>num_transactions_Wed</th>\n",
       "    </tr>\n",
       "  </thead>\n",
       "  <tbody>\n",
       "    <tr>\n",
       "      <th>0</th>\n",
       "      <td>transaction_0</td>\n",
       "      <td>TRANSFER</td>\n",
       "      <td>AED</td>\n",
       "      <td>4.55</td>\n",
       "      <td>COMPLETED</td>\n",
       "      <td>False</td>\n",
       "      <td>NaN</td>\n",
       "      <td>NaN</td>\n",
       "      <td>NaN</td>\n",
       "      <td>OUTBOUND</td>\n",
       "      <td>...</td>\n",
       "      <td>2018-04-03 03:34:21.784487</td>\n",
       "      <td>Tue</td>\n",
       "      <td>4</td>\n",
       "      <td>30</td>\n",
       "      <td>59</td>\n",
       "      <td>30</td>\n",
       "      <td>25</td>\n",
       "      <td>31</td>\n",
       "      <td>55</td>\n",
       "      <td>31</td>\n",
       "    </tr>\n",
       "    <tr>\n",
       "      <th>1</th>\n",
       "      <td>transaction_378</td>\n",
       "      <td>TRANSFER</td>\n",
       "      <td>AED</td>\n",
       "      <td>14.47</td>\n",
       "      <td>COMPLETED</td>\n",
       "      <td>False</td>\n",
       "      <td>NaN</td>\n",
       "      <td>NaN</td>\n",
       "      <td>NaN</td>\n",
       "      <td>OUTBOUND</td>\n",
       "      <td>...</td>\n",
       "      <td>2018-04-08 04:43:53.933487</td>\n",
       "      <td>Sun</td>\n",
       "      <td>4</td>\n",
       "      <td>30</td>\n",
       "      <td>59</td>\n",
       "      <td>30</td>\n",
       "      <td>25</td>\n",
       "      <td>31</td>\n",
       "      <td>55</td>\n",
       "      <td>31</td>\n",
       "    </tr>\n",
       "    <tr>\n",
       "      <th>2</th>\n",
       "      <td>transaction_379</td>\n",
       "      <td>ATM</td>\n",
       "      <td>AED</td>\n",
       "      <td>41.33</td>\n",
       "      <td>COMPLETED</td>\n",
       "      <td>False</td>\n",
       "      <td>6011.0</td>\n",
       "      <td>Abu Dhabi</td>\n",
       "      <td>ARE</td>\n",
       "      <td>OUTBOUND</td>\n",
       "      <td>...</td>\n",
       "      <td>2018-04-07 18:41:07.029487</td>\n",
       "      <td>Sat</td>\n",
       "      <td>4</td>\n",
       "      <td>30</td>\n",
       "      <td>59</td>\n",
       "      <td>30</td>\n",
       "      <td>25</td>\n",
       "      <td>31</td>\n",
       "      <td>55</td>\n",
       "      <td>31</td>\n",
       "    </tr>\n",
       "    <tr>\n",
       "      <th>3</th>\n",
       "      <td>transaction_380</td>\n",
       "      <td>CARD_PAYMENT</td>\n",
       "      <td>AED</td>\n",
       "      <td>6.61</td>\n",
       "      <td>COMPLETED</td>\n",
       "      <td>False</td>\n",
       "      <td>5814.0</td>\n",
       "      <td>Dubai</td>\n",
       "      <td>ARE</td>\n",
       "      <td>OUTBOUND</td>\n",
       "      <td>...</td>\n",
       "      <td>2018-04-04 23:33:57.894487</td>\n",
       "      <td>Wed</td>\n",
       "      <td>4</td>\n",
       "      <td>30</td>\n",
       "      <td>59</td>\n",
       "      <td>30</td>\n",
       "      <td>25</td>\n",
       "      <td>31</td>\n",
       "      <td>55</td>\n",
       "      <td>31</td>\n",
       "    </tr>\n",
       "    <tr>\n",
       "      <th>4</th>\n",
       "      <td>transaction_381</td>\n",
       "      <td>TRANSFER</td>\n",
       "      <td>AED</td>\n",
       "      <td>0.21</td>\n",
       "      <td>COMPLETED</td>\n",
       "      <td>False</td>\n",
       "      <td>NaN</td>\n",
       "      <td>NaN</td>\n",
       "      <td>NaN</td>\n",
       "      <td>OUTBOUND</td>\n",
       "      <td>...</td>\n",
       "      <td>2018-04-04 19:39:31.674487</td>\n",
       "      <td>Wed</td>\n",
       "      <td>4</td>\n",
       "      <td>30</td>\n",
       "      <td>59</td>\n",
       "      <td>30</td>\n",
       "      <td>25</td>\n",
       "      <td>31</td>\n",
       "      <td>55</td>\n",
       "      <td>31</td>\n",
       "    </tr>\n",
       "  </tbody>\n",
       "</table>\n",
       "<p>5 rows × 21 columns</p>\n",
       "</div>"
      ],
      "text/plain": [
       "    transaction_id transactions_type transactions_currency  amount_usd  \\\n",
       "0    transaction_0          TRANSFER                   AED        4.55   \n",
       "1  transaction_378          TRANSFER                   AED       14.47   \n",
       "2  transaction_379               ATM                   AED       41.33   \n",
       "3  transaction_380      CARD_PAYMENT                   AED        6.61   \n",
       "4  transaction_381          TRANSFER                   AED        0.21   \n",
       "\n",
       "  transactions_state  ea_cardholderpresence  ea_merchant_mcc ea_merchant_city  \\\n",
       "0          COMPLETED                  False              NaN              NaN   \n",
       "1          COMPLETED                  False              NaN              NaN   \n",
       "2          COMPLETED                  False           6011.0        Abu Dhabi   \n",
       "3          COMPLETED                  False           5814.0            Dubai   \n",
       "4          COMPLETED                  False              NaN              NaN   \n",
       "\n",
       "  ea_merchant_country direction  ...               created_date dayofweek  \\\n",
       "0                 NaN  OUTBOUND  ... 2018-04-03 03:34:21.784487       Tue   \n",
       "1                 NaN  OUTBOUND  ... 2018-04-08 04:43:53.933487       Sun   \n",
       "2                 ARE  OUTBOUND  ... 2018-04-07 18:41:07.029487       Sat   \n",
       "3                 ARE  OUTBOUND  ... 2018-04-04 23:33:57.894487       Wed   \n",
       "4                 NaN  OUTBOUND  ... 2018-04-04 19:39:31.674487       Wed   \n",
       "\n",
       "  transactionmonth  num_transactions_Fri  num_transactions_Mon  \\\n",
       "0                4                    30                    59   \n",
       "1                4                    30                    59   \n",
       "2                4                    30                    59   \n",
       "3                4                    30                    59   \n",
       "4                4                    30                    59   \n",
       "\n",
       "   num_transactions_Sat  num_transactions_Sun  num_transactions_Thu  \\\n",
       "0                    30                    25                    31   \n",
       "1                    30                    25                    31   \n",
       "2                    30                    25                    31   \n",
       "3                    30                    25                    31   \n",
       "4                    30                    25                    31   \n",
       "\n",
       "   num_transactions_Tue  num_transactions_Wed  \n",
       "0                    55                    31  \n",
       "1                    55                    31  \n",
       "2                    55                    31  \n",
       "3                    55                    31  \n",
       "4                    55                    31  \n",
       "\n",
       "[5 rows x 21 columns]"
      ]
     },
     "execution_count": 175,
     "metadata": {},
     "output_type": "execute_result"
    }
   ],
   "source": [
    "transactions.head()"
   ]
  },
  {
   "cell_type": "markdown",
   "metadata": {},
   "source": [
    "##### Number of inbound and outbound transactions"
   ]
  },
  {
   "cell_type": "code",
   "execution_count": 176,
   "metadata": {},
   "outputs": [],
   "source": [
    "direction_transactions = pd.crosstab(transactions.user_id, transactions.direction).reset_index()"
   ]
  },
  {
   "cell_type": "code",
   "execution_count": 177,
   "metadata": {},
   "outputs": [],
   "source": [
    "direction_transactions.columns = ['user_id', 'INBOUND_count', 'OUTBOUND_count']"
   ]
  },
  {
   "cell_type": "code",
   "execution_count": 178,
   "metadata": {},
   "outputs": [
    {
     "data": {
      "text/html": [
       "<div>\n",
       "<style scoped>\n",
       "    .dataframe tbody tr th:only-of-type {\n",
       "        vertical-align: middle;\n",
       "    }\n",
       "\n",
       "    .dataframe tbody tr th {\n",
       "        vertical-align: top;\n",
       "    }\n",
       "\n",
       "    .dataframe thead th {\n",
       "        text-align: right;\n",
       "    }\n",
       "</style>\n",
       "<table border=\"1\" class=\"dataframe\">\n",
       "  <thead>\n",
       "    <tr style=\"text-align: right;\">\n",
       "      <th></th>\n",
       "      <th>user_id</th>\n",
       "      <th>INBOUND_count</th>\n",
       "      <th>OUTBOUND_count</th>\n",
       "    </tr>\n",
       "  </thead>\n",
       "  <tbody>\n",
       "    <tr>\n",
       "      <th>0</th>\n",
       "      <td>user_0</td>\n",
       "      <td>69</td>\n",
       "      <td>320</td>\n",
       "    </tr>\n",
       "    <tr>\n",
       "      <th>1</th>\n",
       "      <td>user_1</td>\n",
       "      <td>32</td>\n",
       "      <td>97</td>\n",
       "    </tr>\n",
       "    <tr>\n",
       "      <th>2</th>\n",
       "      <td>user_10</td>\n",
       "      <td>284</td>\n",
       "      <td>769</td>\n",
       "    </tr>\n",
       "    <tr>\n",
       "      <th>3</th>\n",
       "      <td>user_100</td>\n",
       "      <td>25</td>\n",
       "      <td>108</td>\n",
       "    </tr>\n",
       "    <tr>\n",
       "      <th>4</th>\n",
       "      <td>user_1000</td>\n",
       "      <td>16</td>\n",
       "      <td>23</td>\n",
       "    </tr>\n",
       "  </tbody>\n",
       "</table>\n",
       "</div>"
      ],
      "text/plain": [
       "     user_id  INBOUND_count  OUTBOUND_count\n",
       "0     user_0             69             320\n",
       "1     user_1             32              97\n",
       "2    user_10            284             769\n",
       "3   user_100             25             108\n",
       "4  user_1000             16              23"
      ]
     },
     "execution_count": 178,
     "metadata": {},
     "output_type": "execute_result"
    }
   ],
   "source": [
    "direction_transactions.head()"
   ]
  },
  {
   "cell_type": "code",
   "execution_count": 179,
   "metadata": {},
   "outputs": [
    {
     "data": {
      "text/plain": [
       "Index(['transaction_id', 'transactions_type', 'transactions_currency',\n",
       "       'amount_usd', 'transactions_state', 'ea_cardholderpresence',\n",
       "       'ea_merchant_mcc', 'ea_merchant_city', 'ea_merchant_country',\n",
       "       'direction', 'user_id', 'created_date', 'dayofweek', 'transactionmonth',\n",
       "       'num_transactions_Fri', 'num_transactions_Mon', 'num_transactions_Sat',\n",
       "       'num_transactions_Sun', 'num_transactions_Thu', 'num_transactions_Tue',\n",
       "       'num_transactions_Wed'],\n",
       "      dtype='object')"
      ]
     },
     "execution_count": 179,
     "metadata": {},
     "output_type": "execute_result"
    }
   ],
   "source": [
    "transactions.columns"
   ]
  },
  {
   "cell_type": "code",
   "execution_count": 180,
   "metadata": {},
   "outputs": [],
   "source": [
    "transactions = pd.merge(transactions, direction_transactions, left_on=\"user_id\", right_on= \"user_id\")"
   ]
  },
  {
   "cell_type": "markdown",
   "metadata": {},
   "source": [
    "##### Transaction state counts\n"
   ]
  },
  {
   "cell_type": "code",
   "execution_count": 181,
   "metadata": {},
   "outputs": [],
   "source": [
    "t_state_transactions = pd.crosstab(transactions.user_id, transactions.transactions_state).reset_index()"
   ]
  },
  {
   "cell_type": "code",
   "execution_count": 182,
   "metadata": {},
   "outputs": [
    {
     "data": {
      "text/plain": [
       "['CANCELLED_count',\n",
       " 'COMPLETED_count',\n",
       " 'DECLINED_count',\n",
       " 'FAILED_count',\n",
       " 'PENDING_count',\n",
       " 'REVERTED_count']"
      ]
     },
     "execution_count": 182,
     "metadata": {},
     "output_type": "execute_result"
    }
   ],
   "source": [
    "[\"{}_count\".format(i) for i in t_state_transactions.columns[1:]]"
   ]
  },
  {
   "cell_type": "code",
   "execution_count": 183,
   "metadata": {},
   "outputs": [],
   "source": [
    "t_state_transactions.columns = ['user_id', 'CANCELLED_count',\n",
    " 'COMPLETED_count',\n",
    " 'DECLINED_count',\n",
    " 'FAILED_count',\n",
    " 'PENDING_count',\n",
    " 'REVERTED_count']"
   ]
  },
  {
   "cell_type": "code",
   "execution_count": 184,
   "metadata": {},
   "outputs": [
    {
     "data": {
      "text/html": [
       "<div>\n",
       "<style scoped>\n",
       "    .dataframe tbody tr th:only-of-type {\n",
       "        vertical-align: middle;\n",
       "    }\n",
       "\n",
       "    .dataframe tbody tr th {\n",
       "        vertical-align: top;\n",
       "    }\n",
       "\n",
       "    .dataframe thead th {\n",
       "        text-align: right;\n",
       "    }\n",
       "</style>\n",
       "<table border=\"1\" class=\"dataframe\">\n",
       "  <thead>\n",
       "    <tr style=\"text-align: right;\">\n",
       "      <th></th>\n",
       "      <th>user_id</th>\n",
       "      <th>CANCELLED_count</th>\n",
       "      <th>COMPLETED_count</th>\n",
       "      <th>DECLINED_count</th>\n",
       "      <th>FAILED_count</th>\n",
       "      <th>PENDING_count</th>\n",
       "      <th>REVERTED_count</th>\n",
       "    </tr>\n",
       "  </thead>\n",
       "  <tbody>\n",
       "    <tr>\n",
       "      <th>0</th>\n",
       "      <td>user_0</td>\n",
       "      <td>0</td>\n",
       "      <td>350</td>\n",
       "      <td>20</td>\n",
       "      <td>4</td>\n",
       "      <td>0</td>\n",
       "      <td>15</td>\n",
       "    </tr>\n",
       "    <tr>\n",
       "      <th>1</th>\n",
       "      <td>user_1</td>\n",
       "      <td>1</td>\n",
       "      <td>114</td>\n",
       "      <td>11</td>\n",
       "      <td>0</td>\n",
       "      <td>0</td>\n",
       "      <td>3</td>\n",
       "    </tr>\n",
       "    <tr>\n",
       "      <th>2</th>\n",
       "      <td>user_10</td>\n",
       "      <td>0</td>\n",
       "      <td>846</td>\n",
       "      <td>45</td>\n",
       "      <td>99</td>\n",
       "      <td>1</td>\n",
       "      <td>62</td>\n",
       "    </tr>\n",
       "    <tr>\n",
       "      <th>3</th>\n",
       "      <td>user_100</td>\n",
       "      <td>0</td>\n",
       "      <td>110</td>\n",
       "      <td>22</td>\n",
       "      <td>1</td>\n",
       "      <td>0</td>\n",
       "      <td>0</td>\n",
       "    </tr>\n",
       "    <tr>\n",
       "      <th>4</th>\n",
       "      <td>user_1000</td>\n",
       "      <td>0</td>\n",
       "      <td>35</td>\n",
       "      <td>1</td>\n",
       "      <td>1</td>\n",
       "      <td>0</td>\n",
       "      <td>2</td>\n",
       "    </tr>\n",
       "  </tbody>\n",
       "</table>\n",
       "</div>"
      ],
      "text/plain": [
       "     user_id  CANCELLED_count  COMPLETED_count  DECLINED_count  FAILED_count  \\\n",
       "0     user_0                0              350              20             4   \n",
       "1     user_1                1              114              11             0   \n",
       "2    user_10                0              846              45            99   \n",
       "3   user_100                0              110              22             1   \n",
       "4  user_1000                0               35               1             1   \n",
       "\n",
       "   PENDING_count  REVERTED_count  \n",
       "0              0              15  \n",
       "1              0               3  \n",
       "2              1              62  \n",
       "3              0               0  \n",
       "4              0               2  "
      ]
     },
     "execution_count": 184,
     "metadata": {},
     "output_type": "execute_result"
    }
   ],
   "source": [
    "t_state_transactions.head()"
   ]
  },
  {
   "cell_type": "code",
   "execution_count": 185,
   "metadata": {},
   "outputs": [],
   "source": [
    "transactions = pd.merge(transactions, t_state_transactions, left_on=\"user_id\", right_on= \"user_id\")"
   ]
  },
  {
   "cell_type": "markdown",
   "metadata": {},
   "source": [
    "##### Is user engaged?\n",
    "As mentioned above, I will consider that a user is engaged if they made a tranasaction in the last 3 months (180 days)"
   ]
  },
  {
   "cell_type": "code",
   "execution_count": 186,
   "metadata": {},
   "outputs": [],
   "source": [
    "# creating a new column called transaction_age, which is the difference bewteen the `today` variable and the date of transaction\n",
    "# transactions[\"transaction_age\"] = transactions.created_date.apply(lambda x : (today - x).days)\n",
    "# pd.crosstab(transactions.user_id, transactions.transaction_age)"
   ]
  },
  {
   "cell_type": "code",
   "execution_count": 187,
   "metadata": {},
   "outputs": [],
   "source": [
    "is_user_active = transactions.created_date.apply(lambda x : (today - x).days<180)"
   ]
  },
  {
   "cell_type": "code",
   "execution_count": 188,
   "metadata": {},
   "outputs": [
    {
     "data": {
      "text/plain": [
       "0    False\n",
       "1    False\n",
       "2    False\n",
       "3    False\n",
       "4    False\n",
       "Name: created_date, dtype: bool"
      ]
     },
     "execution_count": 188,
     "metadata": {},
     "output_type": "execute_result"
    }
   ],
   "source": [
    "is_user_active.head()"
   ]
  },
  {
   "cell_type": "code",
   "execution_count": 189,
   "metadata": {},
   "outputs": [
    {
     "data": {
      "text/plain": [
       "True     1700845\n",
       "False    1039230\n",
       "Name: created_date, dtype: int64"
      ]
     },
     "execution_count": 189,
     "metadata": {},
     "output_type": "execute_result"
    }
   ],
   "source": [
    "is_user_active.value_counts()"
   ]
  },
  {
   "cell_type": "code",
   "execution_count": 190,
   "metadata": {},
   "outputs": [],
   "source": [
    "transactions[\"is_user_active\"] = is_user_active\n",
    "# pd.merge(transactions, is_user_active, left_on=\"user_id\", right_on= \"user_id\")"
   ]
  },
  {
   "cell_type": "code",
   "execution_count": 191,
   "metadata": {},
   "outputs": [
    {
     "data": {
      "text/html": [
       "<div>\n",
       "<style scoped>\n",
       "    .dataframe tbody tr th:only-of-type {\n",
       "        vertical-align: middle;\n",
       "    }\n",
       "\n",
       "    .dataframe tbody tr th {\n",
       "        vertical-align: top;\n",
       "    }\n",
       "\n",
       "    .dataframe thead th {\n",
       "        text-align: right;\n",
       "    }\n",
       "</style>\n",
       "<table border=\"1\" class=\"dataframe\">\n",
       "  <thead>\n",
       "    <tr style=\"text-align: right;\">\n",
       "      <th></th>\n",
       "      <th>transaction_id</th>\n",
       "      <th>transactions_type</th>\n",
       "      <th>transactions_currency</th>\n",
       "      <th>amount_usd</th>\n",
       "      <th>transactions_state</th>\n",
       "      <th>ea_cardholderpresence</th>\n",
       "      <th>ea_merchant_mcc</th>\n",
       "      <th>ea_merchant_city</th>\n",
       "      <th>ea_merchant_country</th>\n",
       "      <th>direction</th>\n",
       "      <th>...</th>\n",
       "      <th>num_transactions_Wed</th>\n",
       "      <th>INBOUND_count</th>\n",
       "      <th>OUTBOUND_count</th>\n",
       "      <th>CANCELLED_count</th>\n",
       "      <th>COMPLETED_count</th>\n",
       "      <th>DECLINED_count</th>\n",
       "      <th>FAILED_count</th>\n",
       "      <th>PENDING_count</th>\n",
       "      <th>REVERTED_count</th>\n",
       "      <th>is_user_active</th>\n",
       "    </tr>\n",
       "  </thead>\n",
       "  <tbody>\n",
       "    <tr>\n",
       "      <th>0</th>\n",
       "      <td>transaction_0</td>\n",
       "      <td>TRANSFER</td>\n",
       "      <td>AED</td>\n",
       "      <td>4.55</td>\n",
       "      <td>COMPLETED</td>\n",
       "      <td>False</td>\n",
       "      <td>NaN</td>\n",
       "      <td>NaN</td>\n",
       "      <td>NaN</td>\n",
       "      <td>OUTBOUND</td>\n",
       "      <td>...</td>\n",
       "      <td>31</td>\n",
       "      <td>53</td>\n",
       "      <td>208</td>\n",
       "      <td>0</td>\n",
       "      <td>240</td>\n",
       "      <td>14</td>\n",
       "      <td>4</td>\n",
       "      <td>0</td>\n",
       "      <td>3</td>\n",
       "      <td>False</td>\n",
       "    </tr>\n",
       "    <tr>\n",
       "      <th>1</th>\n",
       "      <td>transaction_378</td>\n",
       "      <td>TRANSFER</td>\n",
       "      <td>AED</td>\n",
       "      <td>14.47</td>\n",
       "      <td>COMPLETED</td>\n",
       "      <td>False</td>\n",
       "      <td>NaN</td>\n",
       "      <td>NaN</td>\n",
       "      <td>NaN</td>\n",
       "      <td>OUTBOUND</td>\n",
       "      <td>...</td>\n",
       "      <td>31</td>\n",
       "      <td>53</td>\n",
       "      <td>208</td>\n",
       "      <td>0</td>\n",
       "      <td>240</td>\n",
       "      <td>14</td>\n",
       "      <td>4</td>\n",
       "      <td>0</td>\n",
       "      <td>3</td>\n",
       "      <td>False</td>\n",
       "    </tr>\n",
       "    <tr>\n",
       "      <th>2</th>\n",
       "      <td>transaction_379</td>\n",
       "      <td>ATM</td>\n",
       "      <td>AED</td>\n",
       "      <td>41.33</td>\n",
       "      <td>COMPLETED</td>\n",
       "      <td>False</td>\n",
       "      <td>6011.0</td>\n",
       "      <td>Abu Dhabi</td>\n",
       "      <td>ARE</td>\n",
       "      <td>OUTBOUND</td>\n",
       "      <td>...</td>\n",
       "      <td>31</td>\n",
       "      <td>53</td>\n",
       "      <td>208</td>\n",
       "      <td>0</td>\n",
       "      <td>240</td>\n",
       "      <td>14</td>\n",
       "      <td>4</td>\n",
       "      <td>0</td>\n",
       "      <td>3</td>\n",
       "      <td>False</td>\n",
       "    </tr>\n",
       "    <tr>\n",
       "      <th>3</th>\n",
       "      <td>transaction_380</td>\n",
       "      <td>CARD_PAYMENT</td>\n",
       "      <td>AED</td>\n",
       "      <td>6.61</td>\n",
       "      <td>COMPLETED</td>\n",
       "      <td>False</td>\n",
       "      <td>5814.0</td>\n",
       "      <td>Dubai</td>\n",
       "      <td>ARE</td>\n",
       "      <td>OUTBOUND</td>\n",
       "      <td>...</td>\n",
       "      <td>31</td>\n",
       "      <td>53</td>\n",
       "      <td>208</td>\n",
       "      <td>0</td>\n",
       "      <td>240</td>\n",
       "      <td>14</td>\n",
       "      <td>4</td>\n",
       "      <td>0</td>\n",
       "      <td>3</td>\n",
       "      <td>False</td>\n",
       "    </tr>\n",
       "    <tr>\n",
       "      <th>4</th>\n",
       "      <td>transaction_381</td>\n",
       "      <td>TRANSFER</td>\n",
       "      <td>AED</td>\n",
       "      <td>0.21</td>\n",
       "      <td>COMPLETED</td>\n",
       "      <td>False</td>\n",
       "      <td>NaN</td>\n",
       "      <td>NaN</td>\n",
       "      <td>NaN</td>\n",
       "      <td>OUTBOUND</td>\n",
       "      <td>...</td>\n",
       "      <td>31</td>\n",
       "      <td>53</td>\n",
       "      <td>208</td>\n",
       "      <td>0</td>\n",
       "      <td>240</td>\n",
       "      <td>14</td>\n",
       "      <td>4</td>\n",
       "      <td>0</td>\n",
       "      <td>3</td>\n",
       "      <td>False</td>\n",
       "    </tr>\n",
       "  </tbody>\n",
       "</table>\n",
       "<p>5 rows × 30 columns</p>\n",
       "</div>"
      ],
      "text/plain": [
       "    transaction_id transactions_type transactions_currency  amount_usd  \\\n",
       "0    transaction_0          TRANSFER                   AED        4.55   \n",
       "1  transaction_378          TRANSFER                   AED       14.47   \n",
       "2  transaction_379               ATM                   AED       41.33   \n",
       "3  transaction_380      CARD_PAYMENT                   AED        6.61   \n",
       "4  transaction_381          TRANSFER                   AED        0.21   \n",
       "\n",
       "  transactions_state  ea_cardholderpresence  ea_merchant_mcc ea_merchant_city  \\\n",
       "0          COMPLETED                  False              NaN              NaN   \n",
       "1          COMPLETED                  False              NaN              NaN   \n",
       "2          COMPLETED                  False           6011.0        Abu Dhabi   \n",
       "3          COMPLETED                  False           5814.0            Dubai   \n",
       "4          COMPLETED                  False              NaN              NaN   \n",
       "\n",
       "  ea_merchant_country direction  ... num_transactions_Wed INBOUND_count  \\\n",
       "0                 NaN  OUTBOUND  ...                   31            53   \n",
       "1                 NaN  OUTBOUND  ...                   31            53   \n",
       "2                 ARE  OUTBOUND  ...                   31            53   \n",
       "3                 ARE  OUTBOUND  ...                   31            53   \n",
       "4                 NaN  OUTBOUND  ...                   31            53   \n",
       "\n",
       "  OUTBOUND_count  CANCELLED_count  COMPLETED_count  DECLINED_count  \\\n",
       "0            208                0              240              14   \n",
       "1            208                0              240              14   \n",
       "2            208                0              240              14   \n",
       "3            208                0              240              14   \n",
       "4            208                0              240              14   \n",
       "\n",
       "   FAILED_count  PENDING_count  REVERTED_count  is_user_active  \n",
       "0             4              0               3           False  \n",
       "1             4              0               3           False  \n",
       "2             4              0               3           False  \n",
       "3             4              0               3           False  \n",
       "4             4              0               3           False  \n",
       "\n",
       "[5 rows x 30 columns]"
      ]
     },
     "execution_count": 191,
     "metadata": {},
     "output_type": "execute_result"
    }
   ],
   "source": [
    "transactions.head()"
   ]
  },
  {
   "cell_type": "code",
   "execution_count": 192,
   "metadata": {},
   "outputs": [],
   "source": [
    "def is_user_engaged(x):\n",
    "    if np.sum(x)>=1:\n",
    "        return \"ENGAGED\"\n",
    "    else:\n",
    "        return \"NOT_ENGAGED\""
   ]
  },
  {
   "cell_type": "code",
   "execution_count": 193,
   "metadata": {},
   "outputs": [],
   "source": [
    "is_user_engaged_df = transactions.groupby(\"user_id\").agg({\"is_user_active\" : lambda x : is_user_engaged(x)}).reset_index()"
   ]
  },
  {
   "cell_type": "code",
   "execution_count": 194,
   "metadata": {},
   "outputs": [
    {
     "data": {
      "text/html": [
       "<div>\n",
       "<style scoped>\n",
       "    .dataframe tbody tr th:only-of-type {\n",
       "        vertical-align: middle;\n",
       "    }\n",
       "\n",
       "    .dataframe tbody tr th {\n",
       "        vertical-align: top;\n",
       "    }\n",
       "\n",
       "    .dataframe thead th {\n",
       "        text-align: right;\n",
       "    }\n",
       "</style>\n",
       "<table border=\"1\" class=\"dataframe\">\n",
       "  <thead>\n",
       "    <tr style=\"text-align: right;\">\n",
       "      <th></th>\n",
       "      <th>user_id</th>\n",
       "      <th>is_user_active</th>\n",
       "    </tr>\n",
       "  </thead>\n",
       "  <tbody>\n",
       "    <tr>\n",
       "      <th>0</th>\n",
       "      <td>user_0</td>\n",
       "      <td>ENGAGED</td>\n",
       "    </tr>\n",
       "    <tr>\n",
       "      <th>1</th>\n",
       "      <td>user_1</td>\n",
       "      <td>ENGAGED</td>\n",
       "    </tr>\n",
       "    <tr>\n",
       "      <th>2</th>\n",
       "      <td>user_10</td>\n",
       "      <td>ENGAGED</td>\n",
       "    </tr>\n",
       "    <tr>\n",
       "      <th>3</th>\n",
       "      <td>user_100</td>\n",
       "      <td>ENGAGED</td>\n",
       "    </tr>\n",
       "    <tr>\n",
       "      <th>4</th>\n",
       "      <td>user_1000</td>\n",
       "      <td>NOT_ENGAGED</td>\n",
       "    </tr>\n",
       "  </tbody>\n",
       "</table>\n",
       "</div>"
      ],
      "text/plain": [
       "     user_id is_user_active\n",
       "0     user_0        ENGAGED\n",
       "1     user_1        ENGAGED\n",
       "2    user_10        ENGAGED\n",
       "3   user_100        ENGAGED\n",
       "4  user_1000    NOT_ENGAGED"
      ]
     },
     "execution_count": 194,
     "metadata": {},
     "output_type": "execute_result"
    }
   ],
   "source": [
    "is_user_engaged_df.head()"
   ]
  },
  {
   "cell_type": "code",
   "execution_count": 195,
   "metadata": {},
   "outputs": [
    {
     "data": {
      "text/plain": [
       "ENGAGED        16110\n",
       "NOT_ENGAGED     2656\n",
       "Name: is_user_active, dtype: int64"
      ]
     },
     "execution_count": 195,
     "metadata": {},
     "output_type": "execute_result"
    }
   ],
   "source": [
    "is_user_engaged_df.is_user_active.value_counts()"
   ]
  },
  {
   "cell_type": "code",
   "execution_count": 196,
   "metadata": {},
   "outputs": [
    {
     "data": {
      "application/vnd.plotly.v1+json": {
       "config": {
        "linkText": "Export to plot.ly",
        "plotlyServerURL": "https://plot.ly",
        "showLink": false
       },
       "data": [
        {
         "marker": {
          "color": "#0047AB"
         },
         "text": [
          "85.85000000000001%",
          "14.149999999999999%"
         ],
         "textposition": "auto",
         "type": "bar",
         "x": [
          "ENGAGED",
          "NOT_ENGAGED"
         ],
         "y": [
          85.85000000000001,
          14.149999999999999
         ]
        }
       ],
       "layout": {
        "autosize": false,
        "font": {
         "color": "white",
         "family": "Courier New, monospace",
         "size": 12
        },
        "height": 600,
        "template": {
         "data": {
          "bar": [
           {
            "error_x": {
             "color": "#2a3f5f"
            },
            "error_y": {
             "color": "#2a3f5f"
            },
            "marker": {
             "line": {
              "color": "#E5ECF6",
              "width": 0.5
             }
            },
            "type": "bar"
           }
          ],
          "barpolar": [
           {
            "marker": {
             "line": {
              "color": "#E5ECF6",
              "width": 0.5
             }
            },
            "type": "barpolar"
           }
          ],
          "carpet": [
           {
            "aaxis": {
             "endlinecolor": "#2a3f5f",
             "gridcolor": "white",
             "linecolor": "white",
             "minorgridcolor": "white",
             "startlinecolor": "#2a3f5f"
            },
            "baxis": {
             "endlinecolor": "#2a3f5f",
             "gridcolor": "white",
             "linecolor": "white",
             "minorgridcolor": "white",
             "startlinecolor": "#2a3f5f"
            },
            "type": "carpet"
           }
          ],
          "choropleth": [
           {
            "colorbar": {
             "outlinewidth": 0,
             "ticks": ""
            },
            "type": "choropleth"
           }
          ],
          "contour": [
           {
            "colorbar": {
             "outlinewidth": 0,
             "ticks": ""
            },
            "colorscale": [
             [
              0,
              "#0d0887"
             ],
             [
              0.1111111111111111,
              "#46039f"
             ],
             [
              0.2222222222222222,
              "#7201a8"
             ],
             [
              0.3333333333333333,
              "#9c179e"
             ],
             [
              0.4444444444444444,
              "#bd3786"
             ],
             [
              0.5555555555555556,
              "#d8576b"
             ],
             [
              0.6666666666666666,
              "#ed7953"
             ],
             [
              0.7777777777777778,
              "#fb9f3a"
             ],
             [
              0.8888888888888888,
              "#fdca26"
             ],
             [
              1,
              "#f0f921"
             ]
            ],
            "type": "contour"
           }
          ],
          "contourcarpet": [
           {
            "colorbar": {
             "outlinewidth": 0,
             "ticks": ""
            },
            "type": "contourcarpet"
           }
          ],
          "heatmap": [
           {
            "colorbar": {
             "outlinewidth": 0,
             "ticks": ""
            },
            "colorscale": [
             [
              0,
              "#0d0887"
             ],
             [
              0.1111111111111111,
              "#46039f"
             ],
             [
              0.2222222222222222,
              "#7201a8"
             ],
             [
              0.3333333333333333,
              "#9c179e"
             ],
             [
              0.4444444444444444,
              "#bd3786"
             ],
             [
              0.5555555555555556,
              "#d8576b"
             ],
             [
              0.6666666666666666,
              "#ed7953"
             ],
             [
              0.7777777777777778,
              "#fb9f3a"
             ],
             [
              0.8888888888888888,
              "#fdca26"
             ],
             [
              1,
              "#f0f921"
             ]
            ],
            "type": "heatmap"
           }
          ],
          "heatmapgl": [
           {
            "colorbar": {
             "outlinewidth": 0,
             "ticks": ""
            },
            "colorscale": [
             [
              0,
              "#0d0887"
             ],
             [
              0.1111111111111111,
              "#46039f"
             ],
             [
              0.2222222222222222,
              "#7201a8"
             ],
             [
              0.3333333333333333,
              "#9c179e"
             ],
             [
              0.4444444444444444,
              "#bd3786"
             ],
             [
              0.5555555555555556,
              "#d8576b"
             ],
             [
              0.6666666666666666,
              "#ed7953"
             ],
             [
              0.7777777777777778,
              "#fb9f3a"
             ],
             [
              0.8888888888888888,
              "#fdca26"
             ],
             [
              1,
              "#f0f921"
             ]
            ],
            "type": "heatmapgl"
           }
          ],
          "histogram": [
           {
            "marker": {
             "colorbar": {
              "outlinewidth": 0,
              "ticks": ""
             }
            },
            "type": "histogram"
           }
          ],
          "histogram2d": [
           {
            "colorbar": {
             "outlinewidth": 0,
             "ticks": ""
            },
            "colorscale": [
             [
              0,
              "#0d0887"
             ],
             [
              0.1111111111111111,
              "#46039f"
             ],
             [
              0.2222222222222222,
              "#7201a8"
             ],
             [
              0.3333333333333333,
              "#9c179e"
             ],
             [
              0.4444444444444444,
              "#bd3786"
             ],
             [
              0.5555555555555556,
              "#d8576b"
             ],
             [
              0.6666666666666666,
              "#ed7953"
             ],
             [
              0.7777777777777778,
              "#fb9f3a"
             ],
             [
              0.8888888888888888,
              "#fdca26"
             ],
             [
              1,
              "#f0f921"
             ]
            ],
            "type": "histogram2d"
           }
          ],
          "histogram2dcontour": [
           {
            "colorbar": {
             "outlinewidth": 0,
             "ticks": ""
            },
            "colorscale": [
             [
              0,
              "#0d0887"
             ],
             [
              0.1111111111111111,
              "#46039f"
             ],
             [
              0.2222222222222222,
              "#7201a8"
             ],
             [
              0.3333333333333333,
              "#9c179e"
             ],
             [
              0.4444444444444444,
              "#bd3786"
             ],
             [
              0.5555555555555556,
              "#d8576b"
             ],
             [
              0.6666666666666666,
              "#ed7953"
             ],
             [
              0.7777777777777778,
              "#fb9f3a"
             ],
             [
              0.8888888888888888,
              "#fdca26"
             ],
             [
              1,
              "#f0f921"
             ]
            ],
            "type": "histogram2dcontour"
           }
          ],
          "mesh3d": [
           {
            "colorbar": {
             "outlinewidth": 0,
             "ticks": ""
            },
            "type": "mesh3d"
           }
          ],
          "parcoords": [
           {
            "line": {
             "colorbar": {
              "outlinewidth": 0,
              "ticks": ""
             }
            },
            "type": "parcoords"
           }
          ],
          "pie": [
           {
            "automargin": true,
            "type": "pie"
           }
          ],
          "scatter": [
           {
            "marker": {
             "colorbar": {
              "outlinewidth": 0,
              "ticks": ""
             }
            },
            "type": "scatter"
           }
          ],
          "scatter3d": [
           {
            "line": {
             "colorbar": {
              "outlinewidth": 0,
              "ticks": ""
             }
            },
            "marker": {
             "colorbar": {
              "outlinewidth": 0,
              "ticks": ""
             }
            },
            "type": "scatter3d"
           }
          ],
          "scattercarpet": [
           {
            "marker": {
             "colorbar": {
              "outlinewidth": 0,
              "ticks": ""
             }
            },
            "type": "scattercarpet"
           }
          ],
          "scattergeo": [
           {
            "marker": {
             "colorbar": {
              "outlinewidth": 0,
              "ticks": ""
             }
            },
            "type": "scattergeo"
           }
          ],
          "scattergl": [
           {
            "marker": {
             "colorbar": {
              "outlinewidth": 0,
              "ticks": ""
             }
            },
            "type": "scattergl"
           }
          ],
          "scattermapbox": [
           {
            "marker": {
             "colorbar": {
              "outlinewidth": 0,
              "ticks": ""
             }
            },
            "type": "scattermapbox"
           }
          ],
          "scatterpolar": [
           {
            "marker": {
             "colorbar": {
              "outlinewidth": 0,
              "ticks": ""
             }
            },
            "type": "scatterpolar"
           }
          ],
          "scatterpolargl": [
           {
            "marker": {
             "colorbar": {
              "outlinewidth": 0,
              "ticks": ""
             }
            },
            "type": "scatterpolargl"
           }
          ],
          "scatterternary": [
           {
            "marker": {
             "colorbar": {
              "outlinewidth": 0,
              "ticks": ""
             }
            },
            "type": "scatterternary"
           }
          ],
          "surface": [
           {
            "colorbar": {
             "outlinewidth": 0,
             "ticks": ""
            },
            "colorscale": [
             [
              0,
              "#0d0887"
             ],
             [
              0.1111111111111111,
              "#46039f"
             ],
             [
              0.2222222222222222,
              "#7201a8"
             ],
             [
              0.3333333333333333,
              "#9c179e"
             ],
             [
              0.4444444444444444,
              "#bd3786"
             ],
             [
              0.5555555555555556,
              "#d8576b"
             ],
             [
              0.6666666666666666,
              "#ed7953"
             ],
             [
              0.7777777777777778,
              "#fb9f3a"
             ],
             [
              0.8888888888888888,
              "#fdca26"
             ],
             [
              1,
              "#f0f921"
             ]
            ],
            "type": "surface"
           }
          ],
          "table": [
           {
            "cells": {
             "fill": {
              "color": "#EBF0F8"
             },
             "line": {
              "color": "white"
             }
            },
            "header": {
             "fill": {
              "color": "#C8D4E3"
             },
             "line": {
              "color": "white"
             }
            },
            "type": "table"
           }
          ]
         },
         "layout": {
          "annotationdefaults": {
           "arrowcolor": "#2a3f5f",
           "arrowhead": 0,
           "arrowwidth": 1
          },
          "coloraxis": {
           "colorbar": {
            "outlinewidth": 0,
            "ticks": ""
           }
          },
          "colorscale": {
           "diverging": [
            [
             0,
             "#8e0152"
            ],
            [
             0.1,
             "#c51b7d"
            ],
            [
             0.2,
             "#de77ae"
            ],
            [
             0.3,
             "#f1b6da"
            ],
            [
             0.4,
             "#fde0ef"
            ],
            [
             0.5,
             "#f7f7f7"
            ],
            [
             0.6,
             "#e6f5d0"
            ],
            [
             0.7,
             "#b8e186"
            ],
            [
             0.8,
             "#7fbc41"
            ],
            [
             0.9,
             "#4d9221"
            ],
            [
             1,
             "#276419"
            ]
           ],
           "sequential": [
            [
             0,
             "#0d0887"
            ],
            [
             0.1111111111111111,
             "#46039f"
            ],
            [
             0.2222222222222222,
             "#7201a8"
            ],
            [
             0.3333333333333333,
             "#9c179e"
            ],
            [
             0.4444444444444444,
             "#bd3786"
            ],
            [
             0.5555555555555556,
             "#d8576b"
            ],
            [
             0.6666666666666666,
             "#ed7953"
            ],
            [
             0.7777777777777778,
             "#fb9f3a"
            ],
            [
             0.8888888888888888,
             "#fdca26"
            ],
            [
             1,
             "#f0f921"
            ]
           ],
           "sequentialminus": [
            [
             0,
             "#0d0887"
            ],
            [
             0.1111111111111111,
             "#46039f"
            ],
            [
             0.2222222222222222,
             "#7201a8"
            ],
            [
             0.3333333333333333,
             "#9c179e"
            ],
            [
             0.4444444444444444,
             "#bd3786"
            ],
            [
             0.5555555555555556,
             "#d8576b"
            ],
            [
             0.6666666666666666,
             "#ed7953"
            ],
            [
             0.7777777777777778,
             "#fb9f3a"
            ],
            [
             0.8888888888888888,
             "#fdca26"
            ],
            [
             1,
             "#f0f921"
            ]
           ]
          },
          "colorway": [
           "#636efa",
           "#EF553B",
           "#00cc96",
           "#ab63fa",
           "#FFA15A",
           "#19d3f3",
           "#FF6692",
           "#B6E880",
           "#FF97FF",
           "#FECB52"
          ],
          "font": {
           "color": "#2a3f5f"
          },
          "geo": {
           "bgcolor": "white",
           "lakecolor": "white",
           "landcolor": "#E5ECF6",
           "showlakes": true,
           "showland": true,
           "subunitcolor": "white"
          },
          "hoverlabel": {
           "align": "left"
          },
          "hovermode": "closest",
          "mapbox": {
           "style": "light"
          },
          "paper_bgcolor": "white",
          "plot_bgcolor": "#E5ECF6",
          "polar": {
           "angularaxis": {
            "gridcolor": "white",
            "linecolor": "white",
            "ticks": ""
           },
           "bgcolor": "#E5ECF6",
           "radialaxis": {
            "gridcolor": "white",
            "linecolor": "white",
            "ticks": ""
           }
          },
          "scene": {
           "xaxis": {
            "backgroundcolor": "#E5ECF6",
            "gridcolor": "white",
            "gridwidth": 2,
            "linecolor": "white",
            "showbackground": true,
            "ticks": "",
            "zerolinecolor": "white"
           },
           "yaxis": {
            "backgroundcolor": "#E5ECF6",
            "gridcolor": "white",
            "gridwidth": 2,
            "linecolor": "white",
            "showbackground": true,
            "ticks": "",
            "zerolinecolor": "white"
           },
           "zaxis": {
            "backgroundcolor": "#E5ECF6",
            "gridcolor": "white",
            "gridwidth": 2,
            "linecolor": "white",
            "showbackground": true,
            "ticks": "",
            "zerolinecolor": "white"
           }
          },
          "shapedefaults": {
           "line": {
            "color": "#2a3f5f"
           }
          },
          "ternary": {
           "aaxis": {
            "gridcolor": "white",
            "linecolor": "white",
            "ticks": ""
           },
           "baxis": {
            "gridcolor": "white",
            "linecolor": "white",
            "ticks": ""
           },
           "bgcolor": "#E5ECF6",
           "caxis": {
            "gridcolor": "white",
            "linecolor": "white",
            "ticks": ""
           }
          },
          "title": {
           "x": 0.05
          },
          "xaxis": {
           "automargin": true,
           "gridcolor": "white",
           "linecolor": "white",
           "ticks": "",
           "title": {
            "standoff": 15
           },
           "zerolinecolor": "white",
           "zerolinewidth": 2
          },
          "yaxis": {
           "automargin": true,
           "gridcolor": "white",
           "linecolor": "white",
           "ticks": "",
           "title": {
            "standoff": 15
           },
           "zerolinecolor": "white",
           "zerolinewidth": 2
          }
         }
        },
        "title": {
         "font": {
          "color": "black",
          "family": "Courier New, monospace",
          "size": 14
         },
         "text": "Distribution of is_user_active column"
        },
        "width": 800,
        "xaxis": {
         "tickfont": {
          "color": "black",
          "family": "Courier New, monospace",
          "size": 14
         }
        },
        "yaxis": {
         "tickfont": {
          "color": "black",
          "family": "Courier New, monospace",
          "size": 14
         },
         "title": {
          "font": {
           "color": "black",
           "size": 14
          },
          "text": "Percentage"
         }
        }
       }
      },
      "text/html": [
       "<div>\n",
       "        \n",
       "        \n",
       "            <div id=\"e14618e3-6283-421f-b0c6-03f854a6525f\" class=\"plotly-graph-div\" style=\"height:600px; width:800px;\"></div>\n",
       "            <script type=\"text/javascript\">\n",
       "                require([\"plotly\"], function(Plotly) {\n",
       "                    window.PLOTLYENV=window.PLOTLYENV || {};\n",
       "                    \n",
       "                if (document.getElementById(\"e14618e3-6283-421f-b0c6-03f854a6525f\")) {\n",
       "                    Plotly.newPlot(\n",
       "                        'e14618e3-6283-421f-b0c6-03f854a6525f',\n",
       "                        [{\"marker\": {\"color\": \"#0047AB\"}, \"text\": [\"85.85000000000001%\", \"14.149999999999999%\"], \"textposition\": \"auto\", \"type\": \"bar\", \"x\": [\"ENGAGED\", \"NOT_ENGAGED\"], \"y\": [85.85000000000001, 14.149999999999999]}],\n",
       "                        {\"autosize\": false, \"font\": {\"color\": \"white\", \"family\": \"Courier New, monospace\", \"size\": 12}, \"height\": 600, \"template\": {\"data\": {\"bar\": [{\"error_x\": {\"color\": \"#2a3f5f\"}, \"error_y\": {\"color\": \"#2a3f5f\"}, \"marker\": {\"line\": {\"color\": \"#E5ECF6\", \"width\": 0.5}}, \"type\": \"bar\"}], \"barpolar\": [{\"marker\": {\"line\": {\"color\": \"#E5ECF6\", \"width\": 0.5}}, \"type\": \"barpolar\"}], \"carpet\": [{\"aaxis\": {\"endlinecolor\": \"#2a3f5f\", \"gridcolor\": \"white\", \"linecolor\": \"white\", \"minorgridcolor\": \"white\", \"startlinecolor\": \"#2a3f5f\"}, \"baxis\": {\"endlinecolor\": \"#2a3f5f\", \"gridcolor\": \"white\", \"linecolor\": \"white\", \"minorgridcolor\": \"white\", \"startlinecolor\": \"#2a3f5f\"}, \"type\": \"carpet\"}], \"choropleth\": [{\"colorbar\": {\"outlinewidth\": 0, \"ticks\": \"\"}, \"type\": \"choropleth\"}], \"contour\": [{\"colorbar\": {\"outlinewidth\": 0, \"ticks\": \"\"}, \"colorscale\": [[0.0, \"#0d0887\"], [0.1111111111111111, \"#46039f\"], [0.2222222222222222, \"#7201a8\"], [0.3333333333333333, \"#9c179e\"], [0.4444444444444444, \"#bd3786\"], [0.5555555555555556, \"#d8576b\"], [0.6666666666666666, \"#ed7953\"], [0.7777777777777778, \"#fb9f3a\"], [0.8888888888888888, \"#fdca26\"], [1.0, \"#f0f921\"]], \"type\": \"contour\"}], \"contourcarpet\": [{\"colorbar\": {\"outlinewidth\": 0, \"ticks\": \"\"}, \"type\": \"contourcarpet\"}], \"heatmap\": [{\"colorbar\": {\"outlinewidth\": 0, \"ticks\": \"\"}, \"colorscale\": [[0.0, \"#0d0887\"], [0.1111111111111111, \"#46039f\"], [0.2222222222222222, \"#7201a8\"], [0.3333333333333333, \"#9c179e\"], [0.4444444444444444, \"#bd3786\"], [0.5555555555555556, \"#d8576b\"], [0.6666666666666666, \"#ed7953\"], [0.7777777777777778, \"#fb9f3a\"], [0.8888888888888888, \"#fdca26\"], [1.0, \"#f0f921\"]], \"type\": \"heatmap\"}], \"heatmapgl\": [{\"colorbar\": {\"outlinewidth\": 0, \"ticks\": \"\"}, \"colorscale\": [[0.0, \"#0d0887\"], [0.1111111111111111, \"#46039f\"], [0.2222222222222222, \"#7201a8\"], [0.3333333333333333, \"#9c179e\"], [0.4444444444444444, \"#bd3786\"], [0.5555555555555556, \"#d8576b\"], [0.6666666666666666, \"#ed7953\"], [0.7777777777777778, \"#fb9f3a\"], [0.8888888888888888, \"#fdca26\"], [1.0, \"#f0f921\"]], \"type\": \"heatmapgl\"}], \"histogram\": [{\"marker\": {\"colorbar\": {\"outlinewidth\": 0, \"ticks\": \"\"}}, \"type\": \"histogram\"}], \"histogram2d\": [{\"colorbar\": {\"outlinewidth\": 0, \"ticks\": \"\"}, \"colorscale\": [[0.0, \"#0d0887\"], [0.1111111111111111, \"#46039f\"], [0.2222222222222222, \"#7201a8\"], [0.3333333333333333, \"#9c179e\"], [0.4444444444444444, \"#bd3786\"], [0.5555555555555556, \"#d8576b\"], [0.6666666666666666, \"#ed7953\"], [0.7777777777777778, \"#fb9f3a\"], [0.8888888888888888, \"#fdca26\"], [1.0, \"#f0f921\"]], \"type\": \"histogram2d\"}], \"histogram2dcontour\": [{\"colorbar\": {\"outlinewidth\": 0, \"ticks\": \"\"}, \"colorscale\": [[0.0, \"#0d0887\"], [0.1111111111111111, \"#46039f\"], [0.2222222222222222, \"#7201a8\"], [0.3333333333333333, \"#9c179e\"], [0.4444444444444444, \"#bd3786\"], [0.5555555555555556, \"#d8576b\"], [0.6666666666666666, \"#ed7953\"], [0.7777777777777778, \"#fb9f3a\"], [0.8888888888888888, \"#fdca26\"], [1.0, \"#f0f921\"]], \"type\": \"histogram2dcontour\"}], \"mesh3d\": [{\"colorbar\": {\"outlinewidth\": 0, \"ticks\": \"\"}, \"type\": \"mesh3d\"}], \"parcoords\": [{\"line\": {\"colorbar\": {\"outlinewidth\": 0, \"ticks\": \"\"}}, \"type\": \"parcoords\"}], \"pie\": [{\"automargin\": true, \"type\": \"pie\"}], \"scatter\": [{\"marker\": {\"colorbar\": {\"outlinewidth\": 0, \"ticks\": \"\"}}, \"type\": \"scatter\"}], \"scatter3d\": [{\"line\": {\"colorbar\": {\"outlinewidth\": 0, \"ticks\": \"\"}}, \"marker\": {\"colorbar\": {\"outlinewidth\": 0, \"ticks\": \"\"}}, \"type\": \"scatter3d\"}], \"scattercarpet\": [{\"marker\": {\"colorbar\": {\"outlinewidth\": 0, \"ticks\": \"\"}}, \"type\": \"scattercarpet\"}], \"scattergeo\": [{\"marker\": {\"colorbar\": {\"outlinewidth\": 0, \"ticks\": \"\"}}, \"type\": \"scattergeo\"}], \"scattergl\": [{\"marker\": {\"colorbar\": {\"outlinewidth\": 0, \"ticks\": \"\"}}, \"type\": \"scattergl\"}], \"scattermapbox\": [{\"marker\": {\"colorbar\": {\"outlinewidth\": 0, \"ticks\": \"\"}}, \"type\": \"scattermapbox\"}], \"scatterpolar\": [{\"marker\": {\"colorbar\": {\"outlinewidth\": 0, \"ticks\": \"\"}}, \"type\": \"scatterpolar\"}], \"scatterpolargl\": [{\"marker\": {\"colorbar\": {\"outlinewidth\": 0, \"ticks\": \"\"}}, \"type\": \"scatterpolargl\"}], \"scatterternary\": [{\"marker\": {\"colorbar\": {\"outlinewidth\": 0, \"ticks\": \"\"}}, \"type\": \"scatterternary\"}], \"surface\": [{\"colorbar\": {\"outlinewidth\": 0, \"ticks\": \"\"}, \"colorscale\": [[0.0, \"#0d0887\"], [0.1111111111111111, \"#46039f\"], [0.2222222222222222, \"#7201a8\"], [0.3333333333333333, \"#9c179e\"], [0.4444444444444444, \"#bd3786\"], [0.5555555555555556, \"#d8576b\"], [0.6666666666666666, \"#ed7953\"], [0.7777777777777778, \"#fb9f3a\"], [0.8888888888888888, \"#fdca26\"], [1.0, \"#f0f921\"]], \"type\": \"surface\"}], \"table\": [{\"cells\": {\"fill\": {\"color\": \"#EBF0F8\"}, \"line\": {\"color\": \"white\"}}, \"header\": {\"fill\": {\"color\": \"#C8D4E3\"}, \"line\": {\"color\": \"white\"}}, \"type\": \"table\"}]}, \"layout\": {\"annotationdefaults\": {\"arrowcolor\": \"#2a3f5f\", \"arrowhead\": 0, \"arrowwidth\": 1}, \"coloraxis\": {\"colorbar\": {\"outlinewidth\": 0, \"ticks\": \"\"}}, \"colorscale\": {\"diverging\": [[0, \"#8e0152\"], [0.1, \"#c51b7d\"], [0.2, \"#de77ae\"], [0.3, \"#f1b6da\"], [0.4, \"#fde0ef\"], [0.5, \"#f7f7f7\"], [0.6, \"#e6f5d0\"], [0.7, \"#b8e186\"], [0.8, \"#7fbc41\"], [0.9, \"#4d9221\"], [1, \"#276419\"]], \"sequential\": [[0.0, \"#0d0887\"], [0.1111111111111111, \"#46039f\"], [0.2222222222222222, \"#7201a8\"], [0.3333333333333333, \"#9c179e\"], [0.4444444444444444, \"#bd3786\"], [0.5555555555555556, \"#d8576b\"], [0.6666666666666666, \"#ed7953\"], [0.7777777777777778, \"#fb9f3a\"], [0.8888888888888888, \"#fdca26\"], [1.0, \"#f0f921\"]], \"sequentialminus\": [[0.0, \"#0d0887\"], [0.1111111111111111, \"#46039f\"], [0.2222222222222222, \"#7201a8\"], [0.3333333333333333, \"#9c179e\"], [0.4444444444444444, \"#bd3786\"], [0.5555555555555556, \"#d8576b\"], [0.6666666666666666, \"#ed7953\"], [0.7777777777777778, \"#fb9f3a\"], [0.8888888888888888, \"#fdca26\"], [1.0, \"#f0f921\"]]}, \"colorway\": [\"#636efa\", \"#EF553B\", \"#00cc96\", \"#ab63fa\", \"#FFA15A\", \"#19d3f3\", \"#FF6692\", \"#B6E880\", \"#FF97FF\", \"#FECB52\"], \"font\": {\"color\": \"#2a3f5f\"}, \"geo\": {\"bgcolor\": \"white\", \"lakecolor\": \"white\", \"landcolor\": \"#E5ECF6\", \"showlakes\": true, \"showland\": true, \"subunitcolor\": \"white\"}, \"hoverlabel\": {\"align\": \"left\"}, \"hovermode\": \"closest\", \"mapbox\": {\"style\": \"light\"}, \"paper_bgcolor\": \"white\", \"plot_bgcolor\": \"#E5ECF6\", \"polar\": {\"angularaxis\": {\"gridcolor\": \"white\", \"linecolor\": \"white\", \"ticks\": \"\"}, \"bgcolor\": \"#E5ECF6\", \"radialaxis\": {\"gridcolor\": \"white\", \"linecolor\": \"white\", \"ticks\": \"\"}}, \"scene\": {\"xaxis\": {\"backgroundcolor\": \"#E5ECF6\", \"gridcolor\": \"white\", \"gridwidth\": 2, \"linecolor\": \"white\", \"showbackground\": true, \"ticks\": \"\", \"zerolinecolor\": \"white\"}, \"yaxis\": {\"backgroundcolor\": \"#E5ECF6\", \"gridcolor\": \"white\", \"gridwidth\": 2, \"linecolor\": \"white\", \"showbackground\": true, \"ticks\": \"\", \"zerolinecolor\": \"white\"}, \"zaxis\": {\"backgroundcolor\": \"#E5ECF6\", \"gridcolor\": \"white\", \"gridwidth\": 2, \"linecolor\": \"white\", \"showbackground\": true, \"ticks\": \"\", \"zerolinecolor\": \"white\"}}, \"shapedefaults\": {\"line\": {\"color\": \"#2a3f5f\"}}, \"ternary\": {\"aaxis\": {\"gridcolor\": \"white\", \"linecolor\": \"white\", \"ticks\": \"\"}, \"baxis\": {\"gridcolor\": \"white\", \"linecolor\": \"white\", \"ticks\": \"\"}, \"bgcolor\": \"#E5ECF6\", \"caxis\": {\"gridcolor\": \"white\", \"linecolor\": \"white\", \"ticks\": \"\"}}, \"title\": {\"x\": 0.05}, \"xaxis\": {\"automargin\": true, \"gridcolor\": \"white\", \"linecolor\": \"white\", \"ticks\": \"\", \"title\": {\"standoff\": 15}, \"zerolinecolor\": \"white\", \"zerolinewidth\": 2}, \"yaxis\": {\"automargin\": true, \"gridcolor\": \"white\", \"linecolor\": \"white\", \"ticks\": \"\", \"title\": {\"standoff\": 15}, \"zerolinecolor\": \"white\", \"zerolinewidth\": 2}}}, \"title\": {\"font\": {\"color\": \"black\", \"family\": \"Courier New, monospace\", \"size\": 14}, \"text\": \"Distribution of is_user_active column\"}, \"width\": 800, \"xaxis\": {\"tickfont\": {\"color\": \"black\", \"family\": \"Courier New, monospace\", \"size\": 14}}, \"yaxis\": {\"tickfont\": {\"color\": \"black\", \"family\": \"Courier New, monospace\", \"size\": 14}, \"title\": {\"font\": {\"color\": \"black\", \"size\": 14}, \"text\": \"Percentage\"}}},\n",
       "                        {\"responsive\": true}\n",
       "                    ).then(function(){\n",
       "                            \n",
       "var gd = document.getElementById('e14618e3-6283-421f-b0c6-03f854a6525f');\n",
       "var x = new MutationObserver(function (mutations, observer) {{\n",
       "        var display = window.getComputedStyle(gd).display;\n",
       "        if (!display || display === 'none') {{\n",
       "            console.log([gd, 'removed!']);\n",
       "            Plotly.purge(gd);\n",
       "            observer.disconnect();\n",
       "        }}\n",
       "}});\n",
       "\n",
       "// Listen for the removal of the full notebook cells\n",
       "var notebookContainer = gd.closest('#notebook-container');\n",
       "if (notebookContainer) {{\n",
       "    x.observe(notebookContainer, {childList: true});\n",
       "}}\n",
       "\n",
       "// Listen for the clearing of the current output cell\n",
       "var outputEl = gd.closest('.output');\n",
       "if (outputEl) {{\n",
       "    x.observe(outputEl, {childList: true});\n",
       "}}\n",
       "\n",
       "                        })\n",
       "                };\n",
       "                });\n",
       "            </script>\n",
       "        </div>"
      ]
     },
     "metadata": {},
     "output_type": "display_data"
    }
   ],
   "source": [
    "plot_count_bar(is_user_engaged_df ,\"is_user_active\")"
   ]
  },
  {
   "cell_type": "markdown",
   "metadata": {},
   "source": [
    "\n",
    "__Based on the criteria (at least one transaction in last 180 days) there are 15% of the users who are not engaged__"
   ]
  },
  {
   "cell_type": "code",
   "execution_count": 197,
   "metadata": {},
   "outputs": [],
   "source": [
    "is_user_engaged_df.columns = [\"user_id\", \"is_user_engaged\"]"
   ]
  },
  {
   "cell_type": "code",
   "execution_count": 198,
   "metadata": {},
   "outputs": [],
   "source": [
    "transactions = pd.merge(transactions, is_user_engaged_df, left_on=\"user_id\", right_on= \"user_id\")"
   ]
  },
  {
   "cell_type": "markdown",
   "metadata": {},
   "source": [
    "##### Amount\n",
    "I am taking the median,mean,min,max and standard deviation of the trnsactions amounts"
   ]
  },
  {
   "cell_type": "code",
   "execution_count": 199,
   "metadata": {},
   "outputs": [],
   "source": [
    "transaction_amounts = transactions.groupby(\"user_id\").agg({\"amount_usd\" : [np.median,np.mean,np.min,np.max,np.std]}).reset_index()\n",
    "transaction_amounts.columns = ['user_id','median_usd', 'mean_usd', 'min_usd', 'max_usd', 'std_usd']"
   ]
  },
  {
   "cell_type": "code",
   "execution_count": 200,
   "metadata": {},
   "outputs": [
    {
     "data": {
      "text/html": [
       "<div>\n",
       "<style scoped>\n",
       "    .dataframe tbody tr th:only-of-type {\n",
       "        vertical-align: middle;\n",
       "    }\n",
       "\n",
       "    .dataframe tbody tr th {\n",
       "        vertical-align: top;\n",
       "    }\n",
       "\n",
       "    .dataframe thead th {\n",
       "        text-align: right;\n",
       "    }\n",
       "</style>\n",
       "<table border=\"1\" class=\"dataframe\">\n",
       "  <thead>\n",
       "    <tr style=\"text-align: right;\">\n",
       "      <th></th>\n",
       "      <th>user_id</th>\n",
       "      <th>median_usd</th>\n",
       "      <th>mean_usd</th>\n",
       "      <th>min_usd</th>\n",
       "      <th>max_usd</th>\n",
       "      <th>std_usd</th>\n",
       "    </tr>\n",
       "  </thead>\n",
       "  <tbody>\n",
       "    <tr>\n",
       "      <th>0</th>\n",
       "      <td>user_0</td>\n",
       "      <td>8.43</td>\n",
       "      <td>35.176787</td>\n",
       "      <td>0.00</td>\n",
       "      <td>582.18</td>\n",
       "      <td>66.833649</td>\n",
       "    </tr>\n",
       "    <tr>\n",
       "      <th>1</th>\n",
       "      <td>user_1</td>\n",
       "      <td>23.65</td>\n",
       "      <td>47.316899</td>\n",
       "      <td>0.00</td>\n",
       "      <td>350.00</td>\n",
       "      <td>63.369764</td>\n",
       "    </tr>\n",
       "    <tr>\n",
       "      <th>2</th>\n",
       "      <td>user_10</td>\n",
       "      <td>12.77</td>\n",
       "      <td>49.525109</td>\n",
       "      <td>0.00</td>\n",
       "      <td>2947.24</td>\n",
       "      <td>173.066372</td>\n",
       "    </tr>\n",
       "    <tr>\n",
       "      <th>3</th>\n",
       "      <td>user_100</td>\n",
       "      <td>85.49</td>\n",
       "      <td>156.224211</td>\n",
       "      <td>0.55</td>\n",
       "      <td>709.21</td>\n",
       "      <td>180.201766</td>\n",
       "    </tr>\n",
       "    <tr>\n",
       "      <th>4</th>\n",
       "      <td>user_1000</td>\n",
       "      <td>500.00</td>\n",
       "      <td>552.944615</td>\n",
       "      <td>1.00</td>\n",
       "      <td>1000.03</td>\n",
       "      <td>348.723115</td>\n",
       "    </tr>\n",
       "  </tbody>\n",
       "</table>\n",
       "</div>"
      ],
      "text/plain": [
       "     user_id  median_usd    mean_usd  min_usd  max_usd     std_usd\n",
       "0     user_0        8.43   35.176787     0.00   582.18   66.833649\n",
       "1     user_1       23.65   47.316899     0.00   350.00   63.369764\n",
       "2    user_10       12.77   49.525109     0.00  2947.24  173.066372\n",
       "3   user_100       85.49  156.224211     0.55   709.21  180.201766\n",
       "4  user_1000      500.00  552.944615     1.00  1000.03  348.723115"
      ]
     },
     "execution_count": 200,
     "metadata": {},
     "output_type": "execute_result"
    }
   ],
   "source": [
    "transaction_amounts.head()"
   ]
  },
  {
   "cell_type": "code",
   "execution_count": 201,
   "metadata": {},
   "outputs": [],
   "source": [
    "transactions = pd.merge(transactions, transaction_amounts, left_on=\"user_id\", right_on= \"user_id\")"
   ]
  },
  {
   "cell_type": "markdown",
   "metadata": {},
   "source": [
    "##### Selecting columns from transactions table for model building"
   ]
  },
  {
   "cell_type": "code",
   "execution_count": 202,
   "metadata": {},
   "outputs": [
    {
     "data": {
      "text/plain": [
       "Index(['transaction_id', 'transactions_type', 'transactions_currency',\n",
       "       'amount_usd', 'transactions_state', 'ea_cardholderpresence',\n",
       "       'ea_merchant_mcc', 'ea_merchant_city', 'ea_merchant_country',\n",
       "       'direction', 'user_id', 'created_date', 'dayofweek', 'transactionmonth',\n",
       "       'num_transactions_Fri', 'num_transactions_Mon', 'num_transactions_Sat',\n",
       "       'num_transactions_Sun', 'num_transactions_Thu', 'num_transactions_Tue',\n",
       "       'num_transactions_Wed', 'INBOUND_count', 'OUTBOUND_count',\n",
       "       'CANCELLED_count', 'COMPLETED_count', 'DECLINED_count', 'FAILED_count',\n",
       "       'PENDING_count', 'REVERTED_count', 'is_user_active', 'is_user_engaged',\n",
       "       'median_usd', 'mean_usd', 'min_usd', 'max_usd', 'std_usd'],\n",
       "      dtype='object')"
      ]
     },
     "execution_count": 202,
     "metadata": {},
     "output_type": "execute_result"
    }
   ],
   "source": [
    "transactions.columns"
   ]
  },
  {
   "cell_type": "code",
   "execution_count": 203,
   "metadata": {},
   "outputs": [
    {
     "data": {
      "text/html": [
       "<div>\n",
       "<style scoped>\n",
       "    .dataframe tbody tr th:only-of-type {\n",
       "        vertical-align: middle;\n",
       "    }\n",
       "\n",
       "    .dataframe tbody tr th {\n",
       "        vertical-align: top;\n",
       "    }\n",
       "\n",
       "    .dataframe thead th {\n",
       "        text-align: right;\n",
       "    }\n",
       "</style>\n",
       "<table border=\"1\" class=\"dataframe\">\n",
       "  <thead>\n",
       "    <tr style=\"text-align: right;\">\n",
       "      <th></th>\n",
       "      <th>transaction_id</th>\n",
       "      <th>transactions_type</th>\n",
       "      <th>transactions_currency</th>\n",
       "      <th>amount_usd</th>\n",
       "      <th>transactions_state</th>\n",
       "      <th>ea_cardholderpresence</th>\n",
       "      <th>ea_merchant_mcc</th>\n",
       "      <th>ea_merchant_city</th>\n",
       "      <th>ea_merchant_country</th>\n",
       "      <th>direction</th>\n",
       "      <th>...</th>\n",
       "      <th>FAILED_count</th>\n",
       "      <th>PENDING_count</th>\n",
       "      <th>REVERTED_count</th>\n",
       "      <th>is_user_active</th>\n",
       "      <th>is_user_engaged</th>\n",
       "      <th>median_usd</th>\n",
       "      <th>mean_usd</th>\n",
       "      <th>min_usd</th>\n",
       "      <th>max_usd</th>\n",
       "      <th>std_usd</th>\n",
       "    </tr>\n",
       "  </thead>\n",
       "  <tbody>\n",
       "    <tr>\n",
       "      <th>0</th>\n",
       "      <td>transaction_0</td>\n",
       "      <td>TRANSFER</td>\n",
       "      <td>AED</td>\n",
       "      <td>4.55</td>\n",
       "      <td>COMPLETED</td>\n",
       "      <td>False</td>\n",
       "      <td>NaN</td>\n",
       "      <td>NaN</td>\n",
       "      <td>NaN</td>\n",
       "      <td>OUTBOUND</td>\n",
       "      <td>...</td>\n",
       "      <td>4</td>\n",
       "      <td>0</td>\n",
       "      <td>3</td>\n",
       "      <td>False</td>\n",
       "      <td>ENGAGED</td>\n",
       "      <td>10.0</td>\n",
       "      <td>24.931264</td>\n",
       "      <td>0.0</td>\n",
       "      <td>300.0</td>\n",
       "      <td>43.845133</td>\n",
       "    </tr>\n",
       "    <tr>\n",
       "      <th>1</th>\n",
       "      <td>transaction_378</td>\n",
       "      <td>TRANSFER</td>\n",
       "      <td>AED</td>\n",
       "      <td>14.47</td>\n",
       "      <td>COMPLETED</td>\n",
       "      <td>False</td>\n",
       "      <td>NaN</td>\n",
       "      <td>NaN</td>\n",
       "      <td>NaN</td>\n",
       "      <td>OUTBOUND</td>\n",
       "      <td>...</td>\n",
       "      <td>4</td>\n",
       "      <td>0</td>\n",
       "      <td>3</td>\n",
       "      <td>False</td>\n",
       "      <td>ENGAGED</td>\n",
       "      <td>10.0</td>\n",
       "      <td>24.931264</td>\n",
       "      <td>0.0</td>\n",
       "      <td>300.0</td>\n",
       "      <td>43.845133</td>\n",
       "    </tr>\n",
       "    <tr>\n",
       "      <th>2</th>\n",
       "      <td>transaction_379</td>\n",
       "      <td>ATM</td>\n",
       "      <td>AED</td>\n",
       "      <td>41.33</td>\n",
       "      <td>COMPLETED</td>\n",
       "      <td>False</td>\n",
       "      <td>6011.0</td>\n",
       "      <td>Abu Dhabi</td>\n",
       "      <td>ARE</td>\n",
       "      <td>OUTBOUND</td>\n",
       "      <td>...</td>\n",
       "      <td>4</td>\n",
       "      <td>0</td>\n",
       "      <td>3</td>\n",
       "      <td>False</td>\n",
       "      <td>ENGAGED</td>\n",
       "      <td>10.0</td>\n",
       "      <td>24.931264</td>\n",
       "      <td>0.0</td>\n",
       "      <td>300.0</td>\n",
       "      <td>43.845133</td>\n",
       "    </tr>\n",
       "    <tr>\n",
       "      <th>3</th>\n",
       "      <td>transaction_380</td>\n",
       "      <td>CARD_PAYMENT</td>\n",
       "      <td>AED</td>\n",
       "      <td>6.61</td>\n",
       "      <td>COMPLETED</td>\n",
       "      <td>False</td>\n",
       "      <td>5814.0</td>\n",
       "      <td>Dubai</td>\n",
       "      <td>ARE</td>\n",
       "      <td>OUTBOUND</td>\n",
       "      <td>...</td>\n",
       "      <td>4</td>\n",
       "      <td>0</td>\n",
       "      <td>3</td>\n",
       "      <td>False</td>\n",
       "      <td>ENGAGED</td>\n",
       "      <td>10.0</td>\n",
       "      <td>24.931264</td>\n",
       "      <td>0.0</td>\n",
       "      <td>300.0</td>\n",
       "      <td>43.845133</td>\n",
       "    </tr>\n",
       "    <tr>\n",
       "      <th>4</th>\n",
       "      <td>transaction_381</td>\n",
       "      <td>TRANSFER</td>\n",
       "      <td>AED</td>\n",
       "      <td>0.21</td>\n",
       "      <td>COMPLETED</td>\n",
       "      <td>False</td>\n",
       "      <td>NaN</td>\n",
       "      <td>NaN</td>\n",
       "      <td>NaN</td>\n",
       "      <td>OUTBOUND</td>\n",
       "      <td>...</td>\n",
       "      <td>4</td>\n",
       "      <td>0</td>\n",
       "      <td>3</td>\n",
       "      <td>False</td>\n",
       "      <td>ENGAGED</td>\n",
       "      <td>10.0</td>\n",
       "      <td>24.931264</td>\n",
       "      <td>0.0</td>\n",
       "      <td>300.0</td>\n",
       "      <td>43.845133</td>\n",
       "    </tr>\n",
       "  </tbody>\n",
       "</table>\n",
       "<p>5 rows × 36 columns</p>\n",
       "</div>"
      ],
      "text/plain": [
       "    transaction_id transactions_type transactions_currency  amount_usd  \\\n",
       "0    transaction_0          TRANSFER                   AED        4.55   \n",
       "1  transaction_378          TRANSFER                   AED       14.47   \n",
       "2  transaction_379               ATM                   AED       41.33   \n",
       "3  transaction_380      CARD_PAYMENT                   AED        6.61   \n",
       "4  transaction_381          TRANSFER                   AED        0.21   \n",
       "\n",
       "  transactions_state  ea_cardholderpresence  ea_merchant_mcc ea_merchant_city  \\\n",
       "0          COMPLETED                  False              NaN              NaN   \n",
       "1          COMPLETED                  False              NaN              NaN   \n",
       "2          COMPLETED                  False           6011.0        Abu Dhabi   \n",
       "3          COMPLETED                  False           5814.0            Dubai   \n",
       "4          COMPLETED                  False              NaN              NaN   \n",
       "\n",
       "  ea_merchant_country direction  ... FAILED_count PENDING_count  \\\n",
       "0                 NaN  OUTBOUND  ...            4             0   \n",
       "1                 NaN  OUTBOUND  ...            4             0   \n",
       "2                 ARE  OUTBOUND  ...            4             0   \n",
       "3                 ARE  OUTBOUND  ...            4             0   \n",
       "4                 NaN  OUTBOUND  ...            4             0   \n",
       "\n",
       "  REVERTED_count  is_user_active  is_user_engaged  median_usd   mean_usd  \\\n",
       "0              3           False          ENGAGED        10.0  24.931264   \n",
       "1              3           False          ENGAGED        10.0  24.931264   \n",
       "2              3           False          ENGAGED        10.0  24.931264   \n",
       "3              3           False          ENGAGED        10.0  24.931264   \n",
       "4              3           False          ENGAGED        10.0  24.931264   \n",
       "\n",
       "   min_usd  max_usd    std_usd  \n",
       "0      0.0    300.0  43.845133  \n",
       "1      0.0    300.0  43.845133  \n",
       "2      0.0    300.0  43.845133  \n",
       "3      0.0    300.0  43.845133  \n",
       "4      0.0    300.0  43.845133  \n",
       "\n",
       "[5 rows x 36 columns]"
      ]
     },
     "execution_count": 203,
     "metadata": {},
     "output_type": "execute_result"
    }
   ],
   "source": [
    "transactions.head()"
   ]
  },
  {
   "cell_type": "code",
   "execution_count": 204,
   "metadata": {},
   "outputs": [],
   "source": [
    "transactions_cols = [\"user_id\", 'num_transactions_Fri', 'num_transactions_Mon', 'num_transactions_Sat',\n",
    "       'num_transactions_Sun', 'num_transactions_Thu', 'num_transactions_Tue',\n",
    "       'num_transactions_Wed', 'INBOUND_count', 'OUTBOUND_count',\n",
    "       'CANCELLED_count', 'COMPLETED_count', 'DECLINED_count', 'FAILED_count',\n",
    "       'PENDING_count', 'REVERTED_count','is_user_engaged','median_usd', 'mean_usd', 'min_usd', 'max_usd', 'std_usd',]"
   ]
  },
  {
   "cell_type": "code",
   "execution_count": 205,
   "metadata": {},
   "outputs": [],
   "source": [
    "transactions_flat = transactions.loc[:, transactions_cols]"
   ]
  },
  {
   "cell_type": "code",
   "execution_count": 206,
   "metadata": {},
   "outputs": [],
   "source": [
    "transactions_flat = transactions_flat.drop_duplicates(\"user_id\")"
   ]
  },
  {
   "cell_type": "code",
   "execution_count": 207,
   "metadata": {},
   "outputs": [
    {
     "data": {
      "text/plain": [
       "(18766, 22)"
      ]
     },
     "execution_count": 207,
     "metadata": {},
     "output_type": "execute_result"
    }
   ],
   "source": [
    "transactions_flat.shape"
   ]
  },
  {
   "cell_type": "markdown",
   "metadata": {},
   "source": [
    "##### Writing the flat table to disk"
   ]
  },
  {
   "cell_type": "code",
   "execution_count": 208,
   "metadata": {},
   "outputs": [],
   "source": [
    "transactions_flat.to_csv(\"transactions_flat.csv\", index= False)"
   ]
  },
  {
   "cell_type": "markdown",
   "metadata": {},
   "source": [
    "### Master table"
   ]
  },
  {
   "cell_type": "code",
   "execution_count": 209,
   "metadata": {},
   "outputs": [],
   "source": [
    "# master =pd.read_csv(\"model_data/master.csv\")"
   ]
  },
  {
   "cell_type": "code",
   "execution_count": 210,
   "metadata": {},
   "outputs": [],
   "source": [
    "master = pd.merge(master, transactions_flat, left_on=\"user_id\", right_on= \"user_id\")"
   ]
  },
  {
   "cell_type": "code",
   "execution_count": 211,
   "metadata": {},
   "outputs": [
    {
     "data": {
      "text/plain": [
       "(18337, 51)"
      ]
     },
     "execution_count": 211,
     "metadata": {},
     "output_type": "execute_result"
    }
   ],
   "source": [
    "master.shape"
   ]
  },
  {
   "cell_type": "markdown",
   "metadata": {},
   "source": [
    "__The number of users who made transactions are 18337, will continue with model building with these users data__"
   ]
  },
  {
   "cell_type": "code",
   "execution_count": 212,
   "metadata": {},
   "outputs": [],
   "source": [
    "master.to_csv(\"model_data/master.csv\", index= False)"
   ]
  },
  {
   "cell_type": "code",
   "execution_count": null,
   "metadata": {},
   "outputs": [],
   "source": []
  }
 ],
 "metadata": {
  "kernelspec": {
   "display_name": "Python 3",
   "language": "python",
   "name": "python3"
  },
  "language_info": {
   "codemirror_mode": {
    "name": "ipython",
    "version": 3
   },
   "file_extension": ".py",
   "mimetype": "text/x-python",
   "name": "python",
   "nbconvert_exporter": "python",
   "pygments_lexer": "ipython3",
   "version": "3.7.3"
  },
  "toc": {
   "base_numbering": 1,
   "nav_menu": {},
   "number_sections": true,
   "sideBar": true,
   "skip_h1_title": true,
   "title_cell": "Table of Contents",
   "title_sidebar": "Contents",
   "toc_cell": true,
   "toc_position": {},
   "toc_section_display": true,
   "toc_window_display": true
  }
 },
 "nbformat": 4,
 "nbformat_minor": 2
}
